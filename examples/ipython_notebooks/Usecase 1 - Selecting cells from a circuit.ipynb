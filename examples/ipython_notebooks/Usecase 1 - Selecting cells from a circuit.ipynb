{
 "cells": [
  {
   "cell_type": "markdown",
   "metadata": {},
   "source": [
    "# Usecase 1 - Selecting cells from a circuit\n",
    "\n",
    "A circuit is composed of multiple files containing the neural network topology and properties. These files are the cell files and the connectome files. In this notebook, we will only discuss the cell file exploration using `bluepy`. \n",
    "\n",
    "More precisely, we will look at how to load a circuit and select specific neurons. \n",
    "\n",
    "For more generic information about `bluepy` installation and more, please refer to the [documentation](https://bbpteam.epfl.ch/documentation/projects/bluepy/latest/index.html)."
   ]
  },
  {
   "cell_type": "markdown",
   "metadata": {},
   "source": [
    "## Loading a circuit\n",
    "The first step is to import the `Circuit` class from bluepy:"
   ]
  },
  {
   "cell_type": "code",
   "execution_count": 1,
   "metadata": {
    "tags": []
   },
   "outputs": [],
   "source": [
    "from bluepy import Circuit"
   ]
  },
  {
   "cell_type": "markdown",
   "metadata": {},
   "source": [
    "Then we need to load a circuit using the `Circuit` class.\n",
    "For pedagogic purposes, we specify the BlueConfig path in the `circuit_path` variable. "
   ]
  },
  {
   "cell_type": "code",
   "execution_count": 2,
   "metadata": {
    "tags": []
   },
   "outputs": [],
   "source": [
    "circuit_path = \"/gpfs/bbp.cscs.ch/project/proj12/NSE/bluepy/circuits/CA1.O1/mooc-circuit/CircuitConfig\"\n",
    "circuit = Circuit(circuit_path)"
   ]
  },
  {
   "cell_type": "markdown",
   "metadata": {},
   "source": [
    "The `circuit_path` is a path to a BlueConfig file (documentation about the blueconfig can be found [here](https://sonata-extension.readthedocs.io/en/latest/blueconfig.html)). This BlueConfig file contains all the different files or directories composing a neuronal circuit.\n"
   ]
  },
  {
   "cell_type": "markdown",
   "metadata": {},
   "source": [
    "## Accessing the neurons ids and properties\n",
    "\n",
    "To access all the neuron information from `bluepy`, one can use the `circuit.cells` API."
   ]
  },
  {
   "cell_type": "code",
   "execution_count": 3,
   "metadata": {
    "tags": []
   },
   "outputs": [
    {
     "data": {
      "text/plain": [
       "<bluepy.cells.CellCollection at 0x2aab5add7250>"
      ]
     },
     "execution_count": 3,
     "metadata": {},
     "output_type": "execute_result"
    }
   ],
   "source": [
    "circuit.cells"
   ]
  },
  {
   "cell_type": "markdown",
   "metadata": {},
   "source": [
    "This is the global accessor for all the neurons from the circuit."
   ]
  },
  {
   "cell_type": "markdown",
   "metadata": {},
   "source": [
    "### GIDs"
   ]
  },
  {
   "cell_type": "markdown",
   "metadata": {},
   "source": [
    "A circuit contains neurons, which are numbered by their unique global identifier (GID). This concept is closely related to the NEURON simulator and are 1-based integers (the first GID is always 1)."
   ]
  },
  {
   "cell_type": "code",
   "execution_count": 4,
   "metadata": {
    "tags": []
   },
   "outputs": [
    {
     "name": "stdout",
     "output_type": "stream",
     "text": [
      "[    1     2     3 ... 18196 18197 18198]\n",
      "Total number of cells in circuit: 18198\n"
     ]
    }
   ],
   "source": [
    "cell_ids = circuit.cells.ids()\n",
    "print(cell_ids)\n",
    "print(\"Total number of cells in circuit: {}\".format(len(cell_ids)))"
   ]
  },
  {
   "cell_type": "markdown",
   "metadata": {},
   "source": [
    "### Properties\n",
    "\n",
    "In the circuit, each neuron has properties attached to it. These properties are computed during the circuit creation and are stored inside the cell file. Bluepy can give access to these variables.\n",
    "\n",
    "\n",
    "#### Accessing the names of the stored properties\n",
    "From circuit to circuit the attached properties can fluctuate (due to different versions of the circuit-building for example). In order to find the available properties for your current circuit, you can use the `circuit.cells.available_properties` API."
   ]
  },
  {
   "cell_type": "code",
   "execution_count": 5,
   "metadata": {
    "tags": []
   },
   "outputs": [
    {
     "name": "stdout",
     "output_type": "stream",
     "text": [
      "@dynamics:holding_current\n",
      "@dynamics:threshold_current\n",
      "etype\n",
      "layer\n",
      "model_template\n",
      "model_type\n",
      "morph_class\n",
      "morphology\n",
      "mtype\n",
      "orientation\n",
      "region\n",
      "rotation_angle_xaxis\n",
      "rotation_angle_yaxis\n",
      "rotation_angle_zaxis\n",
      "synapse_class\n",
      "x\n",
      "y\n",
      "z\n"
     ]
    }
   ],
   "source": [
    "available_properties = circuit.cells.available_properties\n",
    "for prop in sorted(available_properties):\n",
    "    print(prop)"
   ]
  },
  {
   "cell_type": "markdown",
   "metadata": {},
   "source": [
    "#### Retrieving values of properties\n",
    "\n",
    "We now know which variables are present in this circuit. We can finally collect the values of the different properties  for each neurons using the `circuit.cells.get` API. \n",
    "\n",
    "---\n",
    "**NOTE**\n",
    "\n",
    "The get API uses a cached object containing all the cell information. This means the first access to the `.get` is much slower than all the next ones.\n",
    "\n",
    "---\n",
    "    \n",
    "\n",
    "You can access: \n",
    "- a single property from the cell data using the name of the property:"
   ]
  },
  {
   "cell_type": "code",
   "execution_count": 6,
   "metadata": {
    "tags": []
   },
   "outputs": [],
   "source": [
    "etypes = circuit.cells.get(properties=\"etype\")"
   ]
  },
  {
   "cell_type": "markdown",
   "metadata": {},
   "source": [
    "This returns a pandas `Series` with the cell GIDs as index."
   ]
  },
  {
   "cell_type": "code",
   "execution_count": 7,
   "metadata": {
    "tags": []
   },
   "outputs": [
    {
     "data": {
      "text/plain": [
       "1         bAC\n",
       "2         bAC\n",
       "3         bAC\n",
       "4         cAC\n",
       "5         cAC\n",
       "         ... \n",
       "18194    cNAC\n",
       "18195    cNAC\n",
       "18196    cNAC\n",
       "18197    cNAC\n",
       "18198    cNAC\n",
       "Name: etype, Length: 18198, dtype: category\n",
       "Categories (4, object): ['bAC', 'cAC', 'cACpyr', 'cNAC']"
      ]
     },
     "execution_count": 7,
     "metadata": {},
     "output_type": "execute_result"
    }
   ],
   "source": [
    "etypes"
   ]
  },
  {
   "cell_type": "markdown",
   "metadata": {},
   "source": [
    "- multiple properties at the same time:"
   ]
  },
  {
   "cell_type": "code",
   "execution_count": 8,
   "metadata": {},
   "outputs": [],
   "source": [
    "properties = circuit.cells.get(properties=[\"etype\", \"region\"])"
   ]
  },
  {
   "cell_type": "code",
   "execution_count": 9,
   "metadata": {},
   "outputs": [
    {
     "data": {
      "text/html": [
       "<div>\n",
       "<style scoped>\n",
       "    .dataframe tbody tr th:only-of-type {\n",
       "        vertical-align: middle;\n",
       "    }\n",
       "\n",
       "    .dataframe tbody tr th {\n",
       "        vertical-align: top;\n",
       "    }\n",
       "\n",
       "    .dataframe thead th {\n",
       "        text-align: right;\n",
       "    }\n",
       "</style>\n",
       "<table border=\"1\" class=\"dataframe\">\n",
       "  <thead>\n",
       "    <tr style=\"text-align: right;\">\n",
       "      <th></th>\n",
       "      <th>etype</th>\n",
       "      <th>region</th>\n",
       "    </tr>\n",
       "  </thead>\n",
       "  <tbody>\n",
       "    <tr>\n",
       "      <th>1</th>\n",
       "      <td>bAC</td>\n",
       "      <td>mc5;SLM</td>\n",
       "    </tr>\n",
       "    <tr>\n",
       "      <th>2</th>\n",
       "      <td>bAC</td>\n",
       "      <td>mc3;SLM</td>\n",
       "    </tr>\n",
       "    <tr>\n",
       "      <th>3</th>\n",
       "      <td>bAC</td>\n",
       "      <td>mc6;SLM</td>\n",
       "    </tr>\n",
       "    <tr>\n",
       "      <th>4</th>\n",
       "      <td>cAC</td>\n",
       "      <td>mc5;SR</td>\n",
       "    </tr>\n",
       "    <tr>\n",
       "      <th>5</th>\n",
       "      <td>cAC</td>\n",
       "      <td>mc5;SR</td>\n",
       "    </tr>\n",
       "    <tr>\n",
       "      <th>...</th>\n",
       "      <td>...</td>\n",
       "      <td>...</td>\n",
       "    </tr>\n",
       "    <tr>\n",
       "      <th>18194</th>\n",
       "      <td>cNAC</td>\n",
       "      <td>mc3;SO</td>\n",
       "    </tr>\n",
       "    <tr>\n",
       "      <th>18195</th>\n",
       "      <td>cNAC</td>\n",
       "      <td>mc3;SO</td>\n",
       "    </tr>\n",
       "    <tr>\n",
       "      <th>18196</th>\n",
       "      <td>cNAC</td>\n",
       "      <td>mc0;SO</td>\n",
       "    </tr>\n",
       "    <tr>\n",
       "      <th>18197</th>\n",
       "      <td>cNAC</td>\n",
       "      <td>mc4;SO</td>\n",
       "    </tr>\n",
       "    <tr>\n",
       "      <th>18198</th>\n",
       "      <td>cNAC</td>\n",
       "      <td>mc5;SO</td>\n",
       "    </tr>\n",
       "  </tbody>\n",
       "</table>\n",
       "<p>18198 rows × 2 columns</p>\n",
       "</div>"
      ],
      "text/plain": [
       "      etype   region\n",
       "1       bAC  mc5;SLM\n",
       "2       bAC  mc3;SLM\n",
       "3       bAC  mc6;SLM\n",
       "4       cAC   mc5;SR\n",
       "5       cAC   mc5;SR\n",
       "...     ...      ...\n",
       "18194  cNAC   mc3;SO\n",
       "18195  cNAC   mc3;SO\n",
       "18196  cNAC   mc0;SO\n",
       "18197  cNAC   mc4;SO\n",
       "18198  cNAC   mc5;SO\n",
       "\n",
       "[18198 rows x 2 columns]"
      ]
     },
     "execution_count": 9,
     "metadata": {},
     "output_type": "execute_result"
    }
   ],
   "source": [
    "properties"
   ]
  },
  {
   "cell_type": "markdown",
   "metadata": {},
   "source": [
    "- or even all properties:"
   ]
  },
  {
   "cell_type": "code",
   "execution_count": 10,
   "metadata": {},
   "outputs": [
    {
     "data": {
      "text/html": [
       "<div>\n",
       "<style scoped>\n",
       "    .dataframe tbody tr th:only-of-type {\n",
       "        vertical-align: middle;\n",
       "    }\n",
       "\n",
       "    .dataframe tbody tr th {\n",
       "        vertical-align: top;\n",
       "    }\n",
       "\n",
       "    .dataframe thead th {\n",
       "        text-align: right;\n",
       "    }\n",
       "</style>\n",
       "<table border=\"1\" class=\"dataframe\">\n",
       "  <thead>\n",
       "    <tr style=\"text-align: right;\">\n",
       "      <th></th>\n",
       "      <th>etype</th>\n",
       "      <th>layer</th>\n",
       "      <th>model_template</th>\n",
       "      <th>model_type</th>\n",
       "      <th>morph_class</th>\n",
       "      <th>morphology</th>\n",
       "      <th>mtype</th>\n",
       "      <th>region</th>\n",
       "      <th>rotation_angle_xaxis</th>\n",
       "      <th>rotation_angle_yaxis</th>\n",
       "      <th>rotation_angle_zaxis</th>\n",
       "      <th>synapse_class</th>\n",
       "      <th>x</th>\n",
       "      <th>y</th>\n",
       "      <th>z</th>\n",
       "      <th>@dynamics:holding_current</th>\n",
       "      <th>@dynamics:threshold_current</th>\n",
       "      <th>orientation</th>\n",
       "    </tr>\n",
       "  </thead>\n",
       "  <tbody>\n",
       "    <tr>\n",
       "      <th>1</th>\n",
       "      <td>bAC</td>\n",
       "      <td>SLM</td>\n",
       "      <td>hoc:CA1_int_bAC_011127HP1_2019032911561</td>\n",
       "      <td>biophysical</td>\n",
       "      <td>INT</td>\n",
       "      <td>011127HP1_-_Scale_x1.000_y0.850_z1.000</td>\n",
       "      <td>SLM_PPA</td>\n",
       "      <td>mc5;SLM</td>\n",
       "      <td>-0.000000</td>\n",
       "      <td>0.306704</td>\n",
       "      <td>-0.000000</td>\n",
       "      <td>INH</td>\n",
       "      <td>409.446689</td>\n",
       "      <td>525.218483</td>\n",
       "      <td>1074.146619</td>\n",
       "      <td>0.028962</td>\n",
       "      <td>0.224609</td>\n",
       "      <td>[[0.9533337806844938, 0.0, 0.30191837076569117...</td>\n",
       "    </tr>\n",
       "    <tr>\n",
       "      <th>2</th>\n",
       "      <td>bAC</td>\n",
       "      <td>SLM</td>\n",
       "      <td>hoc:CA1_int_bAC_011127HP1_2019032911561</td>\n",
       "      <td>biophysical</td>\n",
       "      <td>INT</td>\n",
       "      <td>011127HP1_-_Scale_x1.000_y0.850_z1.000</td>\n",
       "      <td>SLM_PPA</td>\n",
       "      <td>mc3;SLM</td>\n",
       "      <td>-3.141593</td>\n",
       "      <td>1.051681</td>\n",
       "      <td>-3.141593</td>\n",
       "      <td>INH</td>\n",
       "      <td>692.961402</td>\n",
       "      <td>511.187277</td>\n",
       "      <td>573.179832</td>\n",
       "      <td>0.028962</td>\n",
       "      <td>0.224609</td>\n",
       "      <td>[[-0.4961126176694474, 6.075627292455034e-17, ...</td>\n",
       "    </tr>\n",
       "    <tr>\n",
       "      <th>3</th>\n",
       "      <td>bAC</td>\n",
       "      <td>SLM</td>\n",
       "      <td>hoc:CA1_int_bAC_011127HP1_2019032911561</td>\n",
       "      <td>biophysical</td>\n",
       "      <td>INT</td>\n",
       "      <td>011127HP1_-_Scale_x1.000_y0.850_z1.000</td>\n",
       "      <td>SLM_PPA</td>\n",
       "      <td>mc6;SLM</td>\n",
       "      <td>-3.141593</td>\n",
       "      <td>1.393882</td>\n",
       "      <td>-3.141593</td>\n",
       "      <td>INH</td>\n",
       "      <td>624.142630</td>\n",
       "      <td>520.641475</td>\n",
       "      <td>976.924721</td>\n",
       "      <td>0.028962</td>\n",
       "      <td>0.224609</td>\n",
       "      <td>[[-0.1759926666818469, 2.1552885592533084e-17,...</td>\n",
       "    </tr>\n",
       "    <tr>\n",
       "      <th>4</th>\n",
       "      <td>cAC</td>\n",
       "      <td>SR</td>\n",
       "      <td>hoc:CA1_int_cAC_990611HP2_2019032816214</td>\n",
       "      <td>biophysical</td>\n",
       "      <td>INT</td>\n",
       "      <td>990611HP2</td>\n",
       "      <td>SR_SCA</td>\n",
       "      <td>mc5;SR</td>\n",
       "      <td>-3.141593</td>\n",
       "      <td>0.347655</td>\n",
       "      <td>-3.141593</td>\n",
       "      <td>INH</td>\n",
       "      <td>430.543380</td>\n",
       "      <td>411.999965</td>\n",
       "      <td>1180.185218</td>\n",
       "      <td>0.005140</td>\n",
       "      <td>0.341797</td>\n",
       "      <td>[[-0.9401740722181569, 1.1513811681832984e-16,...</td>\n",
       "    </tr>\n",
       "    <tr>\n",
       "      <th>5</th>\n",
       "      <td>cAC</td>\n",
       "      <td>SR</td>\n",
       "      <td>hoc:CA1_int_cAC_990611HP2_2019032816214</td>\n",
       "      <td>biophysical</td>\n",
       "      <td>INT</td>\n",
       "      <td>990611HP2_-_Scale_x1.000_y1.050_z1.000</td>\n",
       "      <td>SR_SCA</td>\n",
       "      <td>mc5;SR</td>\n",
       "      <td>-0.000000</td>\n",
       "      <td>0.137277</td>\n",
       "      <td>-0.000000</td>\n",
       "      <td>INH</td>\n",
       "      <td>427.936977</td>\n",
       "      <td>302.239247</td>\n",
       "      <td>1013.453517</td>\n",
       "      <td>0.004947</td>\n",
       "      <td>0.341797</td>\n",
       "      <td>[[0.990592293136912, 0.0, 0.13684629617842906]...</td>\n",
       "    </tr>\n",
       "  </tbody>\n",
       "</table>\n",
       "</div>"
      ],
      "text/plain": [
       "  etype layer                           model_template   model_type  \\\n",
       "1   bAC   SLM  hoc:CA1_int_bAC_011127HP1_2019032911561  biophysical   \n",
       "2   bAC   SLM  hoc:CA1_int_bAC_011127HP1_2019032911561  biophysical   \n",
       "3   bAC   SLM  hoc:CA1_int_bAC_011127HP1_2019032911561  biophysical   \n",
       "4   cAC    SR  hoc:CA1_int_cAC_990611HP2_2019032816214  biophysical   \n",
       "5   cAC    SR  hoc:CA1_int_cAC_990611HP2_2019032816214  biophysical   \n",
       "\n",
       "  morph_class                              morphology    mtype   region  \\\n",
       "1         INT  011127HP1_-_Scale_x1.000_y0.850_z1.000  SLM_PPA  mc5;SLM   \n",
       "2         INT  011127HP1_-_Scale_x1.000_y0.850_z1.000  SLM_PPA  mc3;SLM   \n",
       "3         INT  011127HP1_-_Scale_x1.000_y0.850_z1.000  SLM_PPA  mc6;SLM   \n",
       "4         INT                               990611HP2   SR_SCA   mc5;SR   \n",
       "5         INT  990611HP2_-_Scale_x1.000_y1.050_z1.000   SR_SCA   mc5;SR   \n",
       "\n",
       "   rotation_angle_xaxis  rotation_angle_yaxis  rotation_angle_zaxis  \\\n",
       "1             -0.000000              0.306704             -0.000000   \n",
       "2             -3.141593              1.051681             -3.141593   \n",
       "3             -3.141593              1.393882             -3.141593   \n",
       "4             -3.141593              0.347655             -3.141593   \n",
       "5             -0.000000              0.137277             -0.000000   \n",
       "\n",
       "  synapse_class           x           y            z  \\\n",
       "1           INH  409.446689  525.218483  1074.146619   \n",
       "2           INH  692.961402  511.187277   573.179832   \n",
       "3           INH  624.142630  520.641475   976.924721   \n",
       "4           INH  430.543380  411.999965  1180.185218   \n",
       "5           INH  427.936977  302.239247  1013.453517   \n",
       "\n",
       "   @dynamics:holding_current  @dynamics:threshold_current  \\\n",
       "1                   0.028962                     0.224609   \n",
       "2                   0.028962                     0.224609   \n",
       "3                   0.028962                     0.224609   \n",
       "4                   0.005140                     0.341797   \n",
       "5                   0.004947                     0.341797   \n",
       "\n",
       "                                         orientation  \n",
       "1  [[0.9533337806844938, 0.0, 0.30191837076569117...  \n",
       "2  [[-0.4961126176694474, 6.075627292455034e-17, ...  \n",
       "3  [[-0.1759926666818469, 2.1552885592533084e-17,...  \n",
       "4  [[-0.9401740722181569, 1.1513811681832984e-16,...  \n",
       "5  [[0.990592293136912, 0.0, 0.13684629617842906]...  "
      ]
     },
     "execution_count": 10,
     "metadata": {},
     "output_type": "execute_result"
    }
   ],
   "source": [
    "properties = circuit.cells.get()\n",
    "properties.head()"
   ]
  },
  {
   "cell_type": "markdown",
   "metadata": {},
   "source": [
    "---\n",
    "**Pandas subtilities and sidenote**\n",
    "\n",
    "For performance reasons, some of the variables are stored as `Categorical pandas.Series`. Using this kind of types can greatly reduce the memory consumption for string properties. Using a category type or not depends mainly on the number of cells compared to the number of unique values.\n",
    "\n",
    "One must be careful when using `pandas.Series.unique` functions on `pandas` categorical types. Please have a look at : \n",
    "https://pandas.pydata.org/pandas-docs/stable/user_guide/categorical.html#working-with-categories. \n",
    "\n",
    "---"
   ]
  },
  {
   "cell_type": "markdown",
   "metadata": {},
   "source": [
    "#### The Cell enum\n",
    "\n",
    "To facilitate the data retrieving an enum has been created that contains the standard cell properties:"
   ]
  },
  {
   "cell_type": "code",
   "execution_count": 11,
   "metadata": {},
   "outputs": [],
   "source": [
    "from bluepy import Cell"
   ]
  },
  {
   "cell_type": "markdown",
   "metadata": {},
   "source": [
    "This enum can be used to retrieve the data also:"
   ]
  },
  {
   "cell_type": "code",
   "execution_count": 12,
   "metadata": {},
   "outputs": [
    {
     "name": "stdout",
     "output_type": "stream",
     "text": [
      "etype\n",
      "1    bAC\n",
      "2    bAC\n",
      "3    bAC\n",
      "4    cAC\n",
      "5    cAC\n",
      "Name: etype, dtype: category\n",
      "Categories (4, object): ['bAC', 'cAC', 'cACpyr', 'cNAC']\n"
     ]
    }
   ],
   "source": [
    "print(Cell.ETYPE)\n",
    "print(circuit.cells.get(properties=Cell.ETYPE).head())"
   ]
  },
  {
   "cell_type": "markdown",
   "metadata": {},
   "source": [
    "As you can see querying using : Cell.ETYPE or \"etype\" is strictly equivalent. Using the enum mainly avoid typo in the variable names, allows auto-completion and compatibility between different circuit version naming convention."
   ]
  },
  {
   "cell_type": "markdown",
   "metadata": {},
   "source": [
    "### Quering the cells\n",
    "\n",
    "`bluepy` provides to the user a query system to easily retrieve the different cells based their properties or GIDs. \n",
    "\n",
    "#### Getting the properties of a sub-sample of cells\n",
    "Let starts with a simple use case : accessing the `mtype` and `etype` of the cells with GIDs equal to 3 and 4."
   ]
  },
  {
   "cell_type": "code",
   "execution_count": 13,
   "metadata": {},
   "outputs": [
    {
     "data": {
      "text/html": [
       "<div>\n",
       "<style scoped>\n",
       "    .dataframe tbody tr th:only-of-type {\n",
       "        vertical-align: middle;\n",
       "    }\n",
       "\n",
       "    .dataframe tbody tr th {\n",
       "        vertical-align: top;\n",
       "    }\n",
       "\n",
       "    .dataframe thead th {\n",
       "        text-align: right;\n",
       "    }\n",
       "</style>\n",
       "<table border=\"1\" class=\"dataframe\">\n",
       "  <thead>\n",
       "    <tr style=\"text-align: right;\">\n",
       "      <th></th>\n",
       "      <th>mtype</th>\n",
       "      <th>etype</th>\n",
       "    </tr>\n",
       "  </thead>\n",
       "  <tbody>\n",
       "    <tr>\n",
       "      <th>3</th>\n",
       "      <td>SLM_PPA</td>\n",
       "      <td>bAC</td>\n",
       "    </tr>\n",
       "    <tr>\n",
       "      <th>4</th>\n",
       "      <td>SR_SCA</td>\n",
       "      <td>cAC</td>\n",
       "    </tr>\n",
       "  </tbody>\n",
       "</table>\n",
       "</div>"
      ],
      "text/plain": [
       "     mtype etype\n",
       "3  SLM_PPA   bAC\n",
       "4   SR_SCA   cAC"
      ]
     },
     "execution_count": 13,
     "metadata": {},
     "output_type": "execute_result"
    }
   ],
   "source": [
    "mtypes = circuit.cells.get([3,4], properties=[Cell.MTYPE, Cell.ETYPE])\n",
    "mtypes"
   ]
  },
  {
   "cell_type": "markdown",
   "metadata": {},
   "source": [
    "As we can see, \n",
    "- cell `3` : mtype == `SLM_PPA`; etype == `bAC`\n",
    "- cell `4` : mtype == `SR_SCA` ; etype == `cAC`"
   ]
  },
  {
   "cell_type": "markdown",
   "metadata": {},
   "source": [
    "#### Getting cells GIDs based on their properties\n",
    "\n",
    "We can also do the opposite and query the cells GIDs based on their properties.\n",
    "\n",
    "Let s create a query :"
   ]
  },
  {
   "cell_type": "code",
   "execution_count": 14,
   "metadata": {},
   "outputs": [],
   "source": [
    "query = {Cell.MTYPE: \"SLM_PPA\"}"
   ]
  },
  {
   "cell_type": "markdown",
   "metadata": {},
   "source": [
    "We can now use this query to select all the cells with a mtype equal to `SLM_PPA`"
   ]
  },
  {
   "cell_type": "code",
   "execution_count": 15,
   "metadata": {},
   "outputs": [
    {
     "name": "stdout",
     "output_type": "stream",
     "text": [
      "[1 2 3]\n"
     ]
    }
   ],
   "source": [
    "gids = circuit.cells.ids(group=query)\n",
    "print(gids)"
   ]
  },
  {
   "cell_type": "markdown",
   "metadata": {},
   "source": [
    "Let's create a more complex query :"
   ]
  },
  {
   "cell_type": "code",
   "execution_count": 16,
   "metadata": {},
   "outputs": [],
   "source": [
    "query = {Cell.MTYPE: \"SLM_PPA\", Cell.REGION: \"mc3;SLM\"}"
   ]
  },
  {
   "cell_type": "markdown",
   "metadata": {},
   "source": [
    "This query will select the cells with the mtype equal to `SLM_PPA` and present in the region `mc3;SLM`."
   ]
  },
  {
   "cell_type": "code",
   "execution_count": 17,
   "metadata": {},
   "outputs": [
    {
     "name": "stdout",
     "output_type": "stream",
     "text": [
      "[2]\n"
     ]
    }
   ],
   "source": [
    "gids = circuit.cells.ids(group=query)\n",
    "print(gids)"
   ]
  },
  {
   "cell_type": "markdown",
   "metadata": {},
   "source": [
    "We can also create queries based on floats like selecting all cells with the x coordinate between `0` and `5`:"
   ]
  },
  {
   "cell_type": "code",
   "execution_count": 18,
   "metadata": {},
   "outputs": [
    {
     "name": "stdout",
     "output_type": "stream",
     "text": [
      "[   19   367   965  1248  1321  1688  1755  2166  2748  3418  4006  4146\n",
      "  4596  4772  4788  4909  5305  5692  5803  5873  6077  6271  6299  6375\n",
      "  6543  6673  6764  7332  7412  7436  7455  8062  8233  8253  8340  8445\n",
      "  8559  8584  8598  8884  9081  9314  9465  9661  9677  9837 10001 10075\n",
      " 10091 10414 10893 12281 12463 13696 14063 14678 14914 15504 15724 15996\n",
      " 16412 16424 16560 16719 16731 17192 17376 17420 17783 17844 17943 18029\n",
      " 18101 18125]\n"
     ]
    }
   ],
   "source": [
    "query = {Cell.X: (0, 5)}\n",
    "gids = circuit.cells.ids(group=query)\n",
    "print(gids)"
   ]
  },
  {
   "cell_type": "markdown",
   "metadata": {},
   "source": [
    "#### Getting the properties of a sub-sample of cells based on queries\n",
    "\n",
    "We can also get the properties of cells selected from a query:"
   ]
  },
  {
   "cell_type": "code",
   "execution_count": 19,
   "metadata": {},
   "outputs": [
    {
     "data": {
      "text/html": [
       "<div>\n",
       "<style scoped>\n",
       "    .dataframe tbody tr th:only-of-type {\n",
       "        vertical-align: middle;\n",
       "    }\n",
       "\n",
       "    .dataframe tbody tr th {\n",
       "        vertical-align: top;\n",
       "    }\n",
       "\n",
       "    .dataframe thead th {\n",
       "        text-align: right;\n",
       "    }\n",
       "</style>\n",
       "<table border=\"1\" class=\"dataframe\">\n",
       "  <thead>\n",
       "    <tr style=\"text-align: right;\">\n",
       "      <th></th>\n",
       "      <th>mtype</th>\n",
       "      <th>etype</th>\n",
       "      <th>z</th>\n",
       "    </tr>\n",
       "  </thead>\n",
       "  <tbody>\n",
       "    <tr>\n",
       "      <th>87</th>\n",
       "      <td>SP_PC</td>\n",
       "      <td>cACpyr</td>\n",
       "      <td>21.884009</td>\n",
       "    </tr>\n",
       "    <tr>\n",
       "      <th>1290</th>\n",
       "      <td>SP_PC</td>\n",
       "      <td>cACpyr</td>\n",
       "      <td>20.199931</td>\n",
       "    </tr>\n",
       "    <tr>\n",
       "      <th>1318</th>\n",
       "      <td>SP_PC</td>\n",
       "      <td>cACpyr</td>\n",
       "      <td>1.120754</td>\n",
       "    </tr>\n",
       "    <tr>\n",
       "      <th>1578</th>\n",
       "      <td>SP_PC</td>\n",
       "      <td>cACpyr</td>\n",
       "      <td>21.864287</td>\n",
       "    </tr>\n",
       "    <tr>\n",
       "      <th>1654</th>\n",
       "      <td>SP_PC</td>\n",
       "      <td>cACpyr</td>\n",
       "      <td>10.156130</td>\n",
       "    </tr>\n",
       "  </tbody>\n",
       "</table>\n",
       "</div>"
      ],
      "text/plain": [
       "      mtype   etype          z\n",
       "87    SP_PC  cACpyr  21.884009\n",
       "1290  SP_PC  cACpyr  20.199931\n",
       "1318  SP_PC  cACpyr   1.120754\n",
       "1578  SP_PC  cACpyr  21.864287\n",
       "1654  SP_PC  cACpyr  10.156130"
      ]
     },
     "execution_count": 19,
     "metadata": {},
     "output_type": "execute_result"
    }
   ],
   "source": [
    "query = {Cell.Z: (0, 25)}\n",
    "circuit.cells.get(query, properties=[Cell.MTYPE, Cell.ETYPE, Cell.Z]).head()"
   ]
  },
  {
   "cell_type": "markdown",
   "metadata": {},
   "source": [
    "### Using the target files"
   ]
  },
  {
   "cell_type": "markdown",
   "metadata": {},
   "source": [
    "Each circuit usually comes with a set of different \"target\" cells. These targets are subsamples of cells grouped together. \n",
    "\n",
    "You can find the targets from a circuit using :"
   ]
  },
  {
   "cell_type": "code",
   "execution_count": 20,
   "metadata": {},
   "outputs": [
    {
     "name": "stdout",
     "output_type": "stream",
     "text": [
      "['All', 'AllCompartments', 'BC', 'BS', 'CA3_PC', 'CCK', 'Excitatory', 'Inhibitory', 'Mosaic', 'PV', 'SLM', 'SLM_PPA', 'SO', 'SOM', 'SO_BP', 'SO_BS', 'SO_OLM', 'SO_Tri', 'SP', 'SP_AA', 'SP_BS', 'SP_CCKBC', 'SP_Ivy', 'SP_PC', 'SP_PVBC', 'SR', 'SR_SCA', 'bAC', 'cAC', 'cACpyr', 'cNAC', 'mc0;SO', 'mc0;SP', 'mc0;SR', 'mc0_Column', 'mc1;SO', 'mc1;SP', 'mc1;SR', 'mc1_Column', 'mc2;SO', 'mc2;SP', 'mc2;SR', 'mc2_Column', 'mc3;SLM', 'mc3;SO', 'mc3;SP', 'mc3;SR', 'mc3_Column', 'mc4;SO', 'mc4;SP', 'mc4;SR', 'mc4_Column', 'mc5;SLM', 'mc5;SO', 'mc5;SP', 'mc5;SR', 'mc5_Column', 'mc6;SLM', 'mc6;SO', 'mc6;SP', 'mc6;SR', 'mc6_Column', 'most_central_100_SP_PC', 'most_central_10_SP_PC', 'most_central_20_SP_PC', 'most_central_50_SP_PC']\n"
     ]
    }
   ],
   "source": [
    "print(sorted(circuit.cells.targets))"
   ]
  },
  {
   "cell_type": "markdown",
   "metadata": {},
   "source": [
    "In `bluepy`, if a query is a simple string then it is interpreted as a target name. The GIDs composing the target are then read inside the target file and used for the selection. "
   ]
  },
  {
   "cell_type": "code",
   "execution_count": 21,
   "metadata": {},
   "outputs": [
    {
     "name": "stdout",
     "output_type": "stream",
     "text": [
      "[18039 18040 18041 18042 18043 18044 18045 18046 18047 18048 18049 18050\n",
      " 18051 18052 18053 18054 18055 18056 18057 18058 18059 18060 18061 18062\n",
      " 18063 18064 18065 18066 18067 18068 18069 18070 18071 18072 18073 18074\n",
      " 18075 18076 18077 18078 18079 18080 18081 18082 18083 18084 18085 18086\n",
      " 18087 18088 18089 18090 18091 18092 18093 18094 18095 18096 18097 18098\n",
      " 18099 18100 18101 18102 18103 18104 18105 18106 18107 18108 18109 18110\n",
      " 18111 18112 18113 18114 18115 18116 18117 18118 18119 18120 18121 18122\n",
      " 18123 18124 18125 18126 18127 18128 18129 18130 18131 18132 18133 18134\n",
      " 18135 18136 18137 18138 18139 18140 18141 18142 18143 18144 18145 18146\n",
      " 18147 18148 18149 18150 18151 18152 18153 18154 18155 18156 18157 18158\n",
      " 18159 18160 18161 18162 18163 18164 18165 18166 18167 18168 18169 18170\n",
      " 18171 18172 18173 18174 18175 18176 18177 18178 18179 18180 18181 18182\n",
      " 18183 18184 18185 18186 18187 18188 18189 18190 18191 18192 18193 18194\n",
      " 18195 18196 18197 18198]\n",
      "[18189 18190 18191 18192 18193 18194 18195 18196 18197 18198]\n"
     ]
    }
   ],
   "source": [
    "print(circuit.cells.ids(\"SO\"))\n",
    "print(circuit.cells.ids(\"SO_BP\"))"
   ]
  },
  {
   "cell_type": "markdown",
   "metadata": {},
   "source": [
    "## Simple analysis using the query system"
   ]
  },
  {
   "cell_type": "markdown",
   "metadata": {},
   "source": [
    "We will describe some simple analyses using bluepy and standard tools like numpy and matplotlib. So first let's import numpy and matplotlib."
   ]
  },
  {
   "cell_type": "code",
   "execution_count": 22,
   "metadata": {},
   "outputs": [],
   "source": [
    "import numpy as np\n",
    "import matplotlib.pyplot as plt"
   ]
  },
  {
   "cell_type": "markdown",
   "metadata": {},
   "source": [
    "We will start by counting the number of cells in each layer using numpy and bluepy:"
   ]
  },
  {
   "cell_type": "code",
   "execution_count": 23,
   "metadata": {},
   "outputs": [
    {
     "name": "stdout",
     "output_type": "stream",
     "text": [
      "(array(['SLM', 'SO', 'SP', 'SR'], dtype=object), array([    3,   160, 18002,    33]))\n"
     ]
    }
   ],
   "source": [
    "unique_layers = np.unique(circuit.cells.get(properties=Cell.LAYER), return_counts=True)\n",
    "print(unique_layers)"
   ]
  },
  {
   "cell_type": "markdown",
   "metadata": {},
   "source": [
    "This is then trivial to plot :"
   ]
  },
  {
   "cell_type": "code",
   "execution_count": 24,
   "metadata": {},
   "outputs": [
    {
     "data": {
      "image/png": "[encoded data removed]",
      "text/plain": [
       "<Figure size 640x480 with 1 Axes>"
      ]
     },
     "metadata": {},
     "output_type": "display_data"
    }
   ],
   "source": [
    "plt.bar(*unique_layers, width=0.5)\n",
    "plt.xlabel('Layers')\n",
    "plt.ylabel('Number of neurons');"
   ]
  },
  {
   "cell_type": "markdown",
   "metadata": {},
   "source": [
    "Now we will query all excitatory and all inhibitory cells. We will first check the global number of cells on each class before plotting the total number of excitatory and inhibitory neurons per layer:"
   ]
  },
  {
   "cell_type": "code",
   "execution_count": 25,
   "metadata": {},
   "outputs": [
    {
     "data": {
      "text/plain": [
       "(array(['EXC', 'INH'], dtype=object), array([16860,  1338]))"
      ]
     },
     "execution_count": 25,
     "metadata": {},
     "output_type": "execute_result"
    }
   ],
   "source": [
    "np.unique(circuit.cells.get(properties=Cell.SYNAPSE_CLASS), return_counts=True)"
   ]
  },
  {
   "cell_type": "markdown",
   "metadata": {},
   "source": [
    "We have 16860 excitatory neurons and 1338 inhibitory neurons in the circuit. Lets split them along the different layers:"
   ]
  },
  {
   "cell_type": "code",
   "execution_count": 26,
   "metadata": {},
   "outputs": [],
   "source": [
    "layers_exc = circuit.cells.get({Cell.SYNAPSE_CLASS: 'EXC'}, properties=Cell.LAYER)\n",
    "layers_inh = circuit.cells.get({Cell.SYNAPSE_CLASS: 'INH'}, properties=Cell.LAYER)"
   ]
  },
  {
   "cell_type": "code",
   "execution_count": 27,
   "metadata": {},
   "outputs": [
    {
     "name": "stdout",
     "output_type": "stream",
     "text": [
      "Distribution of excitatory neurons per layers : {'SLM': 0, 'SO': 0, 'SP': 16860, 'SR': 0}\n",
      "Distribution of inhibitory neurons per layers : {'SLM': 3, 'SO': 160, 'SP': 1142, 'SR': 33}\n"
     ]
    }
   ],
   "source": [
    "counter_exc = {'SLM': 0, 'SO': 0, 'SP': 0, 'SR': 0}\n",
    "counter_exc.update(dict(zip(*np.unique(layers_exc, return_counts=True))))\n",
    "counter_inh = {'SLM': 0, 'SO': 0, 'SP': 0, 'SR': 0}\n",
    "counter_inh.update(dict(zip(*np.unique(layers_inh, return_counts=True))))\n",
    "print(f\"Distribution of excitatory neurons per layers : {counter_exc}\")\n",
    "print(f\"Distribution of inhibitory neurons per layers : {counter_inh}\")"
   ]
  },
  {
   "cell_type": "code",
   "execution_count": 28,
   "metadata": {},
   "outputs": [
    {
     "data": {
      "image/png": "[encoded data removed]",
      "text/plain": [
       "<Figure size 640x480 with 2 Axes>"
      ]
     },
     "metadata": {},
     "output_type": "display_data"
    }
   ],
   "source": [
    "fig, axs = plt.subplots(2)\n",
    "axs[0].bar(counter_exc.keys(), counter_exc.values(), color='r')\n",
    "axs[1].bar(counter_inh.keys(), counter_inh.values(), color='b')\n",
    "for ax in axs:\n",
    "    ax.set_xlabel('Layer')\n",
    "    ax.set_ylabel('Number of neurons')\n",
    "axs[0].set_title('Excitatory neurons per layer')\n",
    "axs[1].set_title('Inhibitory neurons per layer')\n",
    "plt.tight_layout()"
   ]
  },
  {
   "cell_type": "code",
   "execution_count": 29,
   "metadata": {
    "tags": []
   },
   "outputs": [],
   "source": [
    "plt.close('all')"
   ]
  }
 ],
 "metadata": {
  "kernelspec": {
   "display_name": "Python 3 (ipykernel)",
   "language": "python",
   "name": "python3"
  },
  "language_info": {
   "codemirror_mode": {
    "name": "ipython",
    "version": 3
   },
   "file_extension": ".py",
   "mimetype": "text/x-python",
   "name": "python",
   "nbconvert_exporter": "python",
   "pygments_lexer": "ipython3",
   "version": "3.11.6"
  }
 },
 "nbformat": 4,
 "nbformat_minor": 4
}
