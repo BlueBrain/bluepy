{
 "cells": [
  {
   "cell_type": "markdown",
   "metadata": {},
   "source": [
    "## Usecase 7 - Response latencies\n",
    "Replication of Figure 20 A3 from \"Reconstruction and Simulation of Neocortical Microcircuity\". We compute the mean spike response latencies over 50 trials for each neuron, and plot them depending on the layer they are in."
   ]
  },
  {
   "cell_type": "markdown",
   "metadata": {},
   "source": [
    "First, we import numpy and pyplot which we will need later for analysis and plotting."
   ]
  },
  {
   "cell_type": "code",
   "execution_count": 1,
   "metadata": {},
   "outputs": [],
   "source": [
    "from collections import defaultdict\n",
    "\n",
    "import numpy as np\n",
    "import matplotlib.pyplot as plt\n",
    "\n",
    "from bluepy import Simulation, Circuit, Cell\n",
    "\n",
    "# disable warning for bluepy-configfile because it noises output and functional tests fail because of it\n",
    "import logging\n",
    "import bluepy_configfile\n",
    "logger = logging.getLogger(bluepy_configfile.__name__)\n",
    "logger.setLevel(logging.ERROR)\n",
    "\n",
    "\n",
    "path = \"/gpfs/bbp.cscs.ch/project/proj1/simulations//ReNCCv3/InVivo/03_Reyes-Puerta/K5p0/Ca1p25/minicols60/seed{}/BlueConfig\"\n",
    "\n",
    "# Can be changed, maximum 50 (in the paper 200 trials are used)\n",
    "n_trials = 4\n",
    "simulations = [ Simulation(path.format(n)) for n in range(n_trials)]\n",
    "\n",
    "circuit = simulations[0].circuit"
   ]
  },
  {
   "cell_type": "markdown",
   "metadata": {},
   "source": [
    "We want different mean-latency boxplots for layers 2, 3, 4, 5 and 6. "
   ]
  },
  {
   "cell_type": "code",
   "execution_count": 2,
   "metadata": {},
   "outputs": [],
   "source": [
    "layers = list(range(2,7))\n",
    "layer_labels = list(map(lambda x: 'L_{}'.format(x), layers))\n",
    "n_bins = len(layers)"
   ]
  },
  {
   "cell_type": "markdown",
   "metadata": {},
   "source": [
    "We set the time of the stimulus, and the latest spike time to be included in the latency (t_max)."
   ]
  },
  {
   "cell_type": "code",
   "execution_count": 3,
   "metadata": {},
   "outputs": [],
   "source": [
    "t_stim = 1500\n",
    "t_max = 1530"
   ]
  },
  {
   "cell_type": "markdown",
   "metadata": {},
   "source": [
    "We run the computation twice, once for excitatory neurons and once for inhibitory:"
   ]
  },
  {
   "cell_type": "markdown",
   "metadata": {},
   "source": [
    "The mean latencies of each (spiking) cell are now stored in mean_latencies, one list for each layer/bin."
   ]
  },
  {
   "cell_type": "code",
   "execution_count": 4,
   "metadata": {},
   "outputs": [
    {
     "name": "stdout",
     "output_type": "stream",
     "text": [
      "Found 2421 gids in L_2\n",
      "Found 3456 gids in L_3\n",
      "Found 4178 gids in L_4\n",
      "Found 5050 gids in L_5\n",
      "Found 11462 gids in L_6\n",
      "Found 994 gids in L_2\n",
      "Found 653 gids in L_3\n",
      "Found 478 gids in L_4\n",
      "Found 1064 gids in L_5\n",
      "Found 1252 gids in L_6\n"
     ]
    }
   ],
   "source": [
    "def mean_latencies(synapse_class):\n",
    "    bin_gids = {}\n",
    "    for i, layer in enumerate(layers):\n",
    "        bin_gids[i] = circuit.cells.ids({\n",
    "            Cell.LAYER: layer,\n",
    "            Cell.SYNAPSE_CLASS: synapse_class,\n",
    "            Cell.HYPERCOLUMN: 2\n",
    "        })\n",
    "        print(\"Found {} gids in {}\".format(len(bin_gids[i]), layer_labels[i]))\n",
    "    latencies = [defaultdict(list) for _ in range(n_bins)]\n",
    "    \n",
    "    # Now load spikes for each trial\n",
    "    for sim in simulations:\n",
    "        for i in range(n_bins):\n",
    "            spikes = sim.spikes.get(gids=bin_gids[i], t_start=t_stim, t_end=t_max)\n",
    "            for gid, time in spikes.groupby(spikes).groups.items():\n",
    "                latencies[i][gid].append(time[0] - t_stim)\n",
    "                \n",
    "    result = [\n",
    "        [np.mean(dts) for dts in bin_latencies.values()]\n",
    "        for bin_latencies in latencies\n",
    "    ]\n",
    "    return result\n",
    "\n",
    "mean_latencies_exc = mean_latencies('EXC')\n",
    "mean_latencies_inh = mean_latencies('INH')"
   ]
  },
  {
   "cell_type": "markdown",
   "metadata": {},
   "source": [
    "We can have access to layers' boundaries using cells and store them in the `boundaries` variable."
   ]
  },
  {
   "cell_type": "code",
   "execution_count": 5,
   "metadata": {},
   "outputs": [
    {
     "name": "stdout",
     "output_type": "stream",
     "text": [
      "Layer L_2 between 1767.953814 and 1916.657187\n",
      "Layer L_3 between 1415.021975 and 1767.73165\n",
      "Layer L_4 between 1225.448599 and 1414.995941\n",
      "Layer L_5 between 700.526426 and 1225.325908\n",
      "Layer L_6 between 0.002338 and 700.335378\n"
     ]
    }
   ],
   "source": [
    "def get_layer_boundaries():\n",
    "    boundaries = list()\n",
    "    for layer in layers:\n",
    "        positions = circuit.cells.get({Cell.LAYER: layer, Cell.HYPERCOLUMN: 2}, properties=[Cell.Y])\n",
    "        boundaries.append((positions[Cell.Y].min(), positions[Cell.Y].max()))\n",
    "    return boundaries\n",
    "\n",
    "boundaries = get_layer_boundaries()\n",
    "for i, layer in enumerate(layer_labels):\n",
    "    print('Layer {} between {} and {}'.format(layer, boundaries[i][0], boundaries[i][1]))    "
   ]
  },
  {
   "cell_type": "code",
   "execution_count": 6,
   "metadata": {},
   "outputs": [
    {
     "data": {
      "image/png": "[encoded data removed]",
      "text/plain": [
       "<Figure size 640x480 with 1 Axes>"
      ]
     },
     "metadata": {},
     "output_type": "display_data"
    }
   ],
   "source": [
    "bin_starts = [x[0] for x in boundaries]\n",
    "bin_ends = [x[1] for x in boundaries]\n",
    "\n",
    "fig, ax = plt.subplots()\n",
    "\n",
    "# Positions for boxplots\n",
    "positions_exc = [(bin_starts[i]+bin_ends[i])/2-40 for i in range(0,5)]\n",
    "positions_inh = [(bin_starts[i]+bin_ends[i])/2+40 for i in range(0,5)]\n",
    "\n",
    "# Function for setting the colors of the box plots\n",
    "def set_box_colors(bp, color):\n",
    "    for i in range(len(positions_exc)):\n",
    "        plt.setp(bp['boxes'][i], color=color)\n",
    "        plt.setp(bp['caps'][i], color=color)\n",
    "        plt.setp(bp['whiskers'][i], color=color)\n",
    "        plt.setp(bp['fliers'][i], color=color)\n",
    "        plt.setp(bp['medians'][i], color=color)\n",
    "\n",
    "# Plotting the boxplots\n",
    "bp = ax.boxplot(mean_latencies_exc, vert=False, positions=positions_exc, sym='r+', whis=2.5, widths=50) \n",
    "set_box_colors(bp,'red')\n",
    "bp = ax.boxplot(mean_latencies_inh, vert=False, positions=positions_inh, sym='b+', whis=2.5, widths=50)\n",
    "set_box_colors(bp,'blue')\n",
    "\n",
    "# Generating the legend \n",
    "inh, = ax.plot([1,1],'b-')\n",
    "exc, = ax.plot([1,1],'r-')\n",
    "ax.legend((inh, exc), ('INH', 'EXC'), loc='lower right')\n",
    "\n",
    "# Figure layout\n",
    "y_ticks = [(bin_starts[i]+bin_ends[i])/2 for i in range(0,5)]\n",
    "for bin_end in bin_ends:\n",
    "    ax.plot((-1, 1),(bin_end,bin_end),'k-')\n",
    "ax.set_yticks(y_ticks)\n",
    "ax.yaxis.set_ticks_position('left')\n",
    "ax.xaxis.set_ticks_position('bottom')\n",
    "ax.set_yticklabels(layer_labels)\n",
    "ax.set_ylim((0,bin_ends[0]))\n",
    "ax.set_xlim((0, 30))\n",
    "ax.set_xlabel('Response latency (ms)')\n",
    "ax.spines['right'].set_visible(False)\n",
    "ax.spines['top'].set_visible(False)"
   ]
  },
  {
   "cell_type": "code",
   "execution_count": 7,
   "metadata": {},
   "outputs": [],
   "source": [
    "plt.close('all')"
   ]
  }
 ],
 "metadata": {
  "kernelspec": {
   "display_name": "Python 3 (ipykernel)",
   "language": "python",
   "name": "python3"
  },
  "language_info": {
   "codemirror_mode": {
    "name": "ipython",
    "version": 3
   },
   "file_extension": ".py",
   "mimetype": "text/x-python",
   "name": "python",
   "nbconvert_exporter": "python",
   "pygments_lexer": "ipython3",
   "version": "3.11.6"
  }
 },
 "nbformat": 4,
 "nbformat_minor": 4
}
