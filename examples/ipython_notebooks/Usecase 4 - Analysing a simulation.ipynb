{
 "cells": [
  {
   "cell_type": "markdown",
   "metadata": {},
   "source": [
    "## Usecase 4 - Analysing a simulation\n",
    "\n",
    "Bluepy can also read the simulation reports produced by neurodamus. In this notebook we will explore the various possibilities offered by Bluepy concerning the simulations."
   ]
  },
  {
   "cell_type": "markdown",
   "metadata": {},
   "source": [
    "## Loading a simulation\n",
    "\n",
    "The class to read the simulation from bluepy is called : Simulation and can be loaded like this :"
   ]
  },
  {
   "cell_type": "code",
   "execution_count": 1,
   "metadata": {},
   "outputs": [],
   "source": [
    "from bluepy import Simulation\n",
    "\n",
    "# disable warning for bluepy-configfile because it noises output and functional tests fail because of it\n",
    "import logging\n",
    "import bluepy_configfile\n",
    "logger = logging.getLogger(bluepy_configfile.__name__)\n",
    "logger.setLevel(logging.ERROR)"
   ]
  },
  {
   "cell_type": "markdown",
   "metadata": {},
   "source": [
    "A simulation object is loaded in the same way as a circuit. The circuit that the simulation has been run for can be obtained straight from the simulation."
   ]
  },
  {
   "cell_type": "code",
   "execution_count": 2,
   "metadata": {
    "scrolled": true
   },
   "outputs": [],
   "source": [
    "blueconfig_path = \"/gpfs/bbp.cscs.ch/project/proj12/NSE/bluepy/circuits/CA1.O1/mooc-circuit/simulations/sonata_report/BlueConfig\"\n",
    "\n",
    "sim = Simulation(blueconfig_path)"
   ]
  },
  {
   "cell_type": "markdown",
   "metadata": {},
   "source": [
    "We can now use this class to query the results from the simulation."
   ]
  },
  {
   "cell_type": "markdown",
   "metadata": {},
   "source": [
    "## Accessing the simulation metadata\n",
    "\n",
    "First we can access the basic properties of the simulations like the starting time or the ending time."
   ]
  },
  {
   "cell_type": "code",
   "execution_count": 3,
   "metadata": {},
   "outputs": [
    {
     "name": "stdout",
     "output_type": "stream",
     "text": [
      "Starting time : 0.0,  end time : 1000.0\n"
     ]
    }
   ],
   "source": [
    "print(f'Starting time : {sim.t_start},  end time : {sim.t_end}')"
   ]
  },
  {
   "cell_type": "markdown",
   "metadata": {},
   "source": [
    "The name of the target used to create the simulation and the corresponding gids:"
   ]
  },
  {
   "cell_type": "code",
   "execution_count": 4,
   "metadata": {},
   "outputs": [
    {
     "name": "stdout",
     "output_type": "stream",
     "text": [
      "Target name : Mosaic,  gids : [    1     2     3 ... 18196 18197 18198]\n"
     ]
    }
   ],
   "source": [
    "print(f'Target name : {sim.target},  gids : {sim.target_gids}')"
   ]
  },
  {
   "cell_type": "markdown",
   "metadata": {},
   "source": [
    "We can also access the full circuit used to create the Simulation via : "
   ]
  },
  {
   "cell_type": "code",
   "execution_count": 5,
   "metadata": {},
   "outputs": [
    {
     "data": {
      "text/html": [
       "<div>\n",
       "<style scoped>\n",
       "    .dataframe tbody tr th:only-of-type {\n",
       "        vertical-align: middle;\n",
       "    }\n",
       "\n",
       "    .dataframe tbody tr th {\n",
       "        vertical-align: top;\n",
       "    }\n",
       "\n",
       "    .dataframe thead th {\n",
       "        text-align: right;\n",
       "    }\n",
       "</style>\n",
       "<table border=\"1\" class=\"dataframe\">\n",
       "  <thead>\n",
       "    <tr style=\"text-align: right;\">\n",
       "      <th></th>\n",
       "      <th>etype</th>\n",
       "      <th>layer</th>\n",
       "      <th>model_template</th>\n",
       "      <th>model_type</th>\n",
       "      <th>morph_class</th>\n",
       "      <th>morphology</th>\n",
       "      <th>mtype</th>\n",
       "      <th>region</th>\n",
       "      <th>rotation_angle_xaxis</th>\n",
       "      <th>rotation_angle_yaxis</th>\n",
       "      <th>rotation_angle_zaxis</th>\n",
       "      <th>synapse_class</th>\n",
       "      <th>x</th>\n",
       "      <th>y</th>\n",
       "      <th>z</th>\n",
       "      <th>@dynamics:holding_current</th>\n",
       "      <th>@dynamics:threshold_current</th>\n",
       "      <th>orientation</th>\n",
       "    </tr>\n",
       "  </thead>\n",
       "  <tbody>\n",
       "    <tr>\n",
       "      <th>1</th>\n",
       "      <td>bAC</td>\n",
       "      <td>SLM</td>\n",
       "      <td>hoc:CA1_int_bAC_011127HP1_2019032911561</td>\n",
       "      <td>biophysical</td>\n",
       "      <td>INT</td>\n",
       "      <td>011127HP1_-_Scale_x1.000_y0.850_z1.000</td>\n",
       "      <td>SLM_PPA</td>\n",
       "      <td>mc5;SLM</td>\n",
       "      <td>-0.000000</td>\n",
       "      <td>0.306704</td>\n",
       "      <td>-0.000000</td>\n",
       "      <td>INH</td>\n",
       "      <td>409.446689</td>\n",
       "      <td>525.218483</td>\n",
       "      <td>1074.146619</td>\n",
       "      <td>0.028962</td>\n",
       "      <td>0.224609</td>\n",
       "      <td>[[0.9533337806844938, 0.0, 0.30191837076569117...</td>\n",
       "    </tr>\n",
       "    <tr>\n",
       "      <th>2</th>\n",
       "      <td>bAC</td>\n",
       "      <td>SLM</td>\n",
       "      <td>hoc:CA1_int_bAC_011127HP1_2019032911561</td>\n",
       "      <td>biophysical</td>\n",
       "      <td>INT</td>\n",
       "      <td>011127HP1_-_Scale_x1.000_y0.850_z1.000</td>\n",
       "      <td>SLM_PPA</td>\n",
       "      <td>mc3;SLM</td>\n",
       "      <td>-3.141593</td>\n",
       "      <td>1.051681</td>\n",
       "      <td>-3.141593</td>\n",
       "      <td>INH</td>\n",
       "      <td>692.961402</td>\n",
       "      <td>511.187277</td>\n",
       "      <td>573.179832</td>\n",
       "      <td>0.028962</td>\n",
       "      <td>0.224609</td>\n",
       "      <td>[[-0.4961126176694474, 6.075627292455034e-17, ...</td>\n",
       "    </tr>\n",
       "  </tbody>\n",
       "</table>\n",
       "</div>"
      ],
      "text/plain": [
       "  etype layer                           model_template   model_type  \\\n",
       "1   bAC   SLM  hoc:CA1_int_bAC_011127HP1_2019032911561  biophysical   \n",
       "2   bAC   SLM  hoc:CA1_int_bAC_011127HP1_2019032911561  biophysical   \n",
       "\n",
       "  morph_class                              morphology    mtype   region  \\\n",
       "1         INT  011127HP1_-_Scale_x1.000_y0.850_z1.000  SLM_PPA  mc5;SLM   \n",
       "2         INT  011127HP1_-_Scale_x1.000_y0.850_z1.000  SLM_PPA  mc3;SLM   \n",
       "\n",
       "   rotation_angle_xaxis  rotation_angle_yaxis  rotation_angle_zaxis  \\\n",
       "1             -0.000000              0.306704             -0.000000   \n",
       "2             -3.141593              1.051681             -3.141593   \n",
       "\n",
       "  synapse_class           x           y            z  \\\n",
       "1           INH  409.446689  525.218483  1074.146619   \n",
       "2           INH  692.961402  511.187277   573.179832   \n",
       "\n",
       "   @dynamics:holding_current  @dynamics:threshold_current  \\\n",
       "1                   0.028962                     0.224609   \n",
       "2                   0.028962                     0.224609   \n",
       "\n",
       "                                         orientation  \n",
       "1  [[0.9533337806844938, 0.0, 0.30191837076569117...  \n",
       "2  [[-0.4961126176694474, 6.075627292455034e-17, ...  "
      ]
     },
     "execution_count": 5,
     "metadata": {},
     "output_type": "execute_result"
    }
   ],
   "source": [
    "circuit = sim.circuit\n",
    "circuit.cells.get().head(2)"
   ]
  },
  {
   "cell_type": "markdown",
   "metadata": {},
   "source": [
    "## Accessing the simulation spike report\n",
    "\n",
    "The spike report contains information about the spiking time of the target cells during a simulation. This information can be stored in a \".dat\" or a sonata file. Bluepy will check in the RootDirectory if a \"out.dat\" file exists. If not bluepy will try to find a \"out.h5\" file in the same directory. \n",
    "\n",
    "You can access the report using the command :\n"
   ]
  },
  {
   "cell_type": "code",
   "execution_count": 6,
   "metadata": {},
   "outputs": [],
   "source": [
    "spikes = sim.spikes"
   ]
  },
  {
   "cell_type": "markdown",
   "metadata": {},
   "source": [
    "It is then possible to check all the spiking neurons using :"
   ]
  },
  {
   "cell_type": "code",
   "execution_count": 7,
   "metadata": {},
   "outputs": [
    {
     "data": {
      "text/plain": [
       "array([  146,   278,   428,   603,   670,   798,   850,   966,  1007,\n",
       "        1121,  1165,  1232,  1251,  1361,  1449,  1477,  1549,  1698,\n",
       "        1715,  1731,  1998,  2004,  2198,  2344,  2468,  2598,  2627,\n",
       "        2634,  2706,  2716,  2831,  2898,  2905,  2906,  2925,  2939,\n",
       "        2941,  3032,  3060,  3173,  3311,  3312,  3346,  3421,  3432,\n",
       "        3513,  3576,  3590,  3772,  3874,  3877,  3896,  4012,  4135,\n",
       "        4188,  4207,  4220,  4221,  4677,  4771,  4819,  4972,  5067,\n",
       "        5090,  5130,  5144,  5329,  5361,  5470,  5505,  5529,  5593,\n",
       "        5845,  5895,  5909,  5954,  5996,  6015,  6083,  6184,  6201,\n",
       "        6271,  6296,  6324,  6339,  6448,  6474,  6541,  6651,  6705,\n",
       "        6729,  6775,  6806,  6872,  6905,  7036,  7116,  7134,  7166,\n",
       "        7246,  7310,  7322,  7448,  7466,  7506,  7609,  7637,  7676,\n",
       "        7679,  7693,  7722,  7723,  7787,  7882,  7889,  8003,  8025,\n",
       "        8094,  8131,  8265,  8266,  8277,  8308,  8391,  8587,  8597,\n",
       "        8729,  8733,  8742,  8766,  8818,  8836,  9001,  9029,  9177,\n",
       "        9183,  9222,  9243,  9333,  9471,  9639,  9826,  9857,  9873,\n",
       "        9911, 10015, 10022, 10046, 10140, 10240, 10298, 10303, 10333,\n",
       "       10448, 10507, 10515, 10575, 10614, 10654, 10740, 10785, 10917,\n",
       "       11120, 11207, 11320, 11332, 11462, 11508, 11530, 11531, 11595,\n",
       "       11655, 11691, 11737, 11755, 11783, 11858, 11878, 11979, 11994,\n",
       "       12094, 12252, 12293, 12312, 12395, 12459, 12503, 12512, 12539,\n",
       "       12715, 12799, 12828, 12876, 12906, 13004, 13006, 13091, 13181,\n",
       "       13360, 13362, 13363, 13381, 13390, 13480, 13493, 13591, 13621,\n",
       "       13635, 13672, 13715, 13889, 13893, 13919, 13951, 14180, 14190,\n",
       "       14266, 14416, 14638, 14713, 14821, 14827, 14858, 15000, 15115,\n",
       "       15137, 15237, 15283, 15288, 15390, 15418, 15478, 15535, 15634,\n",
       "       15679, 15908, 15951, 15993, 16066, 16142, 16285, 16302, 16455,\n",
       "       16471, 16539, 16561, 16565, 16790, 16855, 16946, 17113, 17119,\n",
       "       17524, 17534, 17540, 17552, 17584, 17624, 17638, 17652, 17667,\n",
       "       17682, 17685, 17715, 17758, 17878, 17900, 17987, 18026])"
      ]
     },
     "execution_count": 7,
     "metadata": {},
     "output_type": "execute_result"
    }
   ],
   "source": [
    "spikes.gids"
   ]
  },
  {
   "cell_type": "markdown",
   "metadata": {},
   "source": [
    "And to check when gids spiked during the simulation."
   ]
  },
  {
   "cell_type": "code",
   "execution_count": 8,
   "metadata": {},
   "outputs": [],
   "source": [
    "data = spikes.get()"
   ]
  },
  {
   "cell_type": "code",
   "execution_count": 9,
   "metadata": {},
   "outputs": [
    {
     "data": {
      "text/plain": [
       "t\n",
       "1.700     7448\n",
       "2.150     1007\n",
       "2.150    11120\n",
       "2.150    11655\n",
       "2.225    10575\n",
       "Name: gid, dtype: int64"
      ]
     },
     "execution_count": 9,
     "metadata": {},
     "output_type": "execute_result"
    }
   ],
   "source": [
    "data.head()"
   ]
  },
  {
   "cell_type": "markdown",
   "metadata": {},
   "source": [
    "`data ` is a `pandas.Series` containing all spiking timestamps as indices and the spiking gids as values."
   ]
  },
  {
   "cell_type": "markdown",
   "metadata": {},
   "source": [
    "### Simple spiking analysis : finding the emodel, mtype and layer of the gids with the most spikes\n",
    "\n",
    "We can do a simple analysis to caracterize the most active cells during the simulation. First we will find the unique spiking gids in the report and count their occurances.\n",
    "\n",
    "First we need to retrieve the data and we will use numpy to count the number of spikes per gids:"
   ]
  },
  {
   "cell_type": "code",
   "execution_count": 10,
   "metadata": {},
   "outputs": [],
   "source": [
    "import numpy as np\n",
    "from bluepy import Cell\n",
    "\n",
    "data = spikes.get()\n",
    "gids, spike_count = np.unique(data, return_counts=True)"
   ]
  },
  {
   "cell_type": "markdown",
   "metadata": {},
   "source": [
    "We can find the maximum of spikes per GIDs for the simulation and creating a mask for the gids:"
   ]
  },
  {
   "cell_type": "code",
   "execution_count": 11,
   "metadata": {},
   "outputs": [
    {
     "name": "stdout",
     "output_type": "stream",
     "text": [
      "2\n"
     ]
    }
   ],
   "source": [
    "max_spikes = np.max(spike_count)\n",
    "print(max_spikes)\n",
    "mask = spike_count == max_spikes"
   ]
  },
  {
   "cell_type": "markdown",
   "metadata": {},
   "source": [
    "We can now filter the gids : "
   ]
  },
  {
   "cell_type": "code",
   "execution_count": 12,
   "metadata": {},
   "outputs": [
    {
     "name": "stdout",
     "output_type": "stream",
     "text": [
      "[ 3312  7676 17900]\n"
     ]
    }
   ],
   "source": [
    "most_spiking_gids = gids[mask]\n",
    "print(most_spiking_gids)"
   ]
  },
  {
   "cell_type": "markdown",
   "metadata": {},
   "source": [
    "And use the circuit API to find the interesting properties from these gids:"
   ]
  },
  {
   "cell_type": "code",
   "execution_count": 13,
   "metadata": {},
   "outputs": [
    {
     "data": {
      "text/html": [
       "<div>\n",
       "<style scoped>\n",
       "    .dataframe tbody tr th:only-of-type {\n",
       "        vertical-align: middle;\n",
       "    }\n",
       "\n",
       "    .dataframe tbody tr th {\n",
       "        vertical-align: top;\n",
       "    }\n",
       "\n",
       "    .dataframe thead th {\n",
       "        text-align: right;\n",
       "    }\n",
       "</style>\n",
       "<table border=\"1\" class=\"dataframe\">\n",
       "  <thead>\n",
       "    <tr style=\"text-align: right;\">\n",
       "      <th></th>\n",
       "      <th>mtype</th>\n",
       "      <th>etype</th>\n",
       "      <th>layer</th>\n",
       "    </tr>\n",
       "  </thead>\n",
       "  <tbody>\n",
       "    <tr>\n",
       "      <th>3312</th>\n",
       "      <td>SP_PC</td>\n",
       "      <td>cACpyr</td>\n",
       "      <td>SP</td>\n",
       "    </tr>\n",
       "    <tr>\n",
       "      <th>7676</th>\n",
       "      <td>SP_PC</td>\n",
       "      <td>cACpyr</td>\n",
       "      <td>SP</td>\n",
       "    </tr>\n",
       "    <tr>\n",
       "      <th>17900</th>\n",
       "      <td>SP_Ivy</td>\n",
       "      <td>bAC</td>\n",
       "      <td>SP</td>\n",
       "    </tr>\n",
       "  </tbody>\n",
       "</table>\n",
       "</div>"
      ],
      "text/plain": [
       "        mtype   etype layer\n",
       "3312    SP_PC  cACpyr    SP\n",
       "7676    SP_PC  cACpyr    SP\n",
       "17900  SP_Ivy     bAC    SP"
      ]
     },
     "execution_count": 13,
     "metadata": {},
     "output_type": "execute_result"
    }
   ],
   "source": [
    "sim.circuit.cells.get(most_spiking_gids, properties=[Cell.MTYPE, Cell.ETYPE, Cell.LAYER])"
   ]
  },
  {
   "cell_type": "markdown",
   "metadata": {},
   "source": [
    "## Accessing the simulation compartment report\n",
    "\n",
    "During a simulation, one can also report on different compartments: either the soma or each compartment of the neuron morphologies. \n",
    "\n",
    "These reports are usually quite big and cannot fit in memory so please be careful when you are reading them."
   ]
  },
  {
   "cell_type": "markdown",
   "metadata": {},
   "source": [
    "We can check the name of the different reports produced during the simulation using : "
   ]
  },
  {
   "cell_type": "code",
   "execution_count": 14,
   "metadata": {},
   "outputs": [
    {
     "data": {
      "text/plain": [
       "{'soma'}"
      ]
     },
     "execution_count": 14,
     "metadata": {},
     "output_type": "execute_result"
    }
   ],
   "source": [
    "sim.report_names"
   ]
  },
  {
   "cell_type": "markdown",
   "metadata": {},
   "source": [
    "Here only one report has been produced called \"soma\".\n",
    "\n",
    "Let's load this report and start to use it."
   ]
  },
  {
   "cell_type": "code",
   "execution_count": 15,
   "metadata": {},
   "outputs": [],
   "source": [
    "rep = sim.report(\"soma\")"
   ]
  },
  {
   "cell_type": "markdown",
   "metadata": {},
   "source": [
    "We can check which gid has been reported using the `gids` API: "
   ]
  },
  {
   "cell_type": "code",
   "execution_count": 16,
   "metadata": {},
   "outputs": [
    {
     "data": {
      "text/plain": [
       "array([  106,   141,   290, ..., 18126, 18189, 18190])"
      ]
     },
     "execution_count": 16,
     "metadata": {},
     "output_type": "execute_result"
    }
   ],
   "source": [
    "rep.gids"
   ]
  },
  {
   "cell_type": "markdown",
   "metadata": {},
   "source": [
    "Considering the reports can be done using different timestamps compared to the simulation itself, you can access the report metadata using :"
   ]
  },
  {
   "cell_type": "code",
   "execution_count": 17,
   "metadata": {},
   "outputs": [
    {
     "name": "stdout",
     "output_type": "stream",
     "text": [
      "{'start_time': 0.0, 'end_time': 1000.0, 'time_step': 0.1}\n",
      "start_time': 0.0, 'end_time': 1000.0, 'time_step': 0.1\n"
     ]
    }
   ],
   "source": [
    "print(rep.meta)\n",
    "# or\n",
    "print(f\"start_time': {rep.t_start}, 'end_time': {rep.t_end}, 'time_step': {rep.t_step}\")"
   ]
  },
  {
   "cell_type": "markdown",
   "metadata": {},
   "source": [
    "Then just like the spike reports you can access the reported values for a given list of gids using :"
   ]
  },
  {
   "cell_type": "code",
   "execution_count": 18,
   "metadata": {},
   "outputs": [
    {
     "data": {
      "text/html": [
       "<div>\n",
       "<style scoped>\n",
       "    .dataframe tbody tr th:only-of-type {\n",
       "        vertical-align: middle;\n",
       "    }\n",
       "\n",
       "    .dataframe tbody tr th {\n",
       "        vertical-align: top;\n",
       "    }\n",
       "\n",
       "    .dataframe thead th {\n",
       "        text-align: right;\n",
       "    }\n",
       "</style>\n",
       "<table border=\"1\" class=\"dataframe\">\n",
       "  <thead>\n",
       "    <tr style=\"text-align: right;\">\n",
       "      <th>gid</th>\n",
       "      <th>106</th>\n",
       "      <th>141</th>\n",
       "    </tr>\n",
       "    <tr>\n",
       "      <th>time</th>\n",
       "      <th></th>\n",
       "      <th></th>\n",
       "    </tr>\n",
       "  </thead>\n",
       "  <tbody>\n",
       "    <tr>\n",
       "      <th>0.0</th>\n",
       "      <td>-60.925117</td>\n",
       "      <td>-60.184700</td>\n",
       "    </tr>\n",
       "    <tr>\n",
       "      <th>0.1</th>\n",
       "      <td>-61.389446</td>\n",
       "      <td>-60.618122</td>\n",
       "    </tr>\n",
       "    <tr>\n",
       "      <th>0.2</th>\n",
       "      <td>-61.705853</td>\n",
       "      <td>-60.896297</td>\n",
       "    </tr>\n",
       "    <tr>\n",
       "      <th>0.3</th>\n",
       "      <td>-61.957417</td>\n",
       "      <td>-61.107635</td>\n",
       "    </tr>\n",
       "    <tr>\n",
       "      <th>0.4</th>\n",
       "      <td>-62.174332</td>\n",
       "      <td>-61.285824</td>\n",
       "    </tr>\n",
       "    <tr>\n",
       "      <th>...</th>\n",
       "      <td>...</td>\n",
       "      <td>...</td>\n",
       "    </tr>\n",
       "    <tr>\n",
       "      <th>999.5</th>\n",
       "      <td>-69.389359</td>\n",
       "      <td>-68.409828</td>\n",
       "    </tr>\n",
       "    <tr>\n",
       "      <th>999.6</th>\n",
       "      <td>-69.389359</td>\n",
       "      <td>-68.409828</td>\n",
       "    </tr>\n",
       "    <tr>\n",
       "      <th>999.7</th>\n",
       "      <td>-69.389359</td>\n",
       "      <td>-68.409828</td>\n",
       "    </tr>\n",
       "    <tr>\n",
       "      <th>999.8</th>\n",
       "      <td>-69.389359</td>\n",
       "      <td>-68.409828</td>\n",
       "    </tr>\n",
       "    <tr>\n",
       "      <th>999.9</th>\n",
       "      <td>-69.389359</td>\n",
       "      <td>-68.409828</td>\n",
       "    </tr>\n",
       "  </tbody>\n",
       "</table>\n",
       "<p>10000 rows × 2 columns</p>\n",
       "</div>"
      ],
      "text/plain": [
       "gid          106        141\n",
       "time                       \n",
       "0.0   -60.925117 -60.184700\n",
       "0.1   -61.389446 -60.618122\n",
       "0.2   -61.705853 -60.896297\n",
       "0.3   -61.957417 -61.107635\n",
       "0.4   -62.174332 -61.285824\n",
       "...          ...        ...\n",
       "999.5 -69.389359 -68.409828\n",
       "999.6 -69.389359 -68.409828\n",
       "999.7 -69.389359 -68.409828\n",
       "999.8 -69.389359 -68.409828\n",
       "999.9 -69.389359 -68.409828\n",
       "\n",
       "[10000 rows x 2 columns]"
      ]
     },
     "execution_count": 18,
     "metadata": {},
     "output_type": "execute_result"
    }
   ],
   "source": [
    "rep.get(gids=[106,   141])"
   ]
  },
  {
   "cell_type": "markdown",
   "metadata": {},
   "source": [
    "The returned object is a `pandas.DataFrame` with timestamp as index and gids as columns. "
   ]
  },
  {
   "cell_type": "markdown",
   "metadata": {},
   "source": [
    "You can also restraint the time range using the `t_start` and `t_end` arguments of the `get` function:"
   ]
  },
  {
   "cell_type": "code",
   "execution_count": 19,
   "metadata": {},
   "outputs": [
    {
     "data": {
      "text/html": [
       "<div>\n",
       "<style scoped>\n",
       "    .dataframe tbody tr th:only-of-type {\n",
       "        vertical-align: middle;\n",
       "    }\n",
       "\n",
       "    .dataframe tbody tr th {\n",
       "        vertical-align: top;\n",
       "    }\n",
       "\n",
       "    .dataframe thead th {\n",
       "        text-align: right;\n",
       "    }\n",
       "</style>\n",
       "<table border=\"1\" class=\"dataframe\">\n",
       "  <thead>\n",
       "    <tr style=\"text-align: right;\">\n",
       "      <th>gid</th>\n",
       "      <th>106</th>\n",
       "      <th>141</th>\n",
       "    </tr>\n",
       "    <tr>\n",
       "      <th>time</th>\n",
       "      <th></th>\n",
       "      <th></th>\n",
       "    </tr>\n",
       "  </thead>\n",
       "  <tbody>\n",
       "    <tr>\n",
       "      <th>0.2</th>\n",
       "      <td>-61.705853</td>\n",
       "      <td>-60.896297</td>\n",
       "    </tr>\n",
       "    <tr>\n",
       "      <th>0.3</th>\n",
       "      <td>-61.957417</td>\n",
       "      <td>-61.107635</td>\n",
       "    </tr>\n",
       "    <tr>\n",
       "      <th>0.4</th>\n",
       "      <td>-62.174332</td>\n",
       "      <td>-61.285824</td>\n",
       "    </tr>\n",
       "    <tr>\n",
       "      <th>0.5</th>\n",
       "      <td>-62.370255</td>\n",
       "      <td>-61.444889</td>\n",
       "    </tr>\n",
       "  </tbody>\n",
       "</table>\n",
       "</div>"
      ],
      "text/plain": [
       "gid         106        141\n",
       "time                      \n",
       "0.2  -61.705853 -60.896297\n",
       "0.3  -61.957417 -61.107635\n",
       "0.4  -62.174332 -61.285824\n",
       "0.5  -62.370255 -61.444889"
      ]
     },
     "execution_count": 19,
     "metadata": {},
     "output_type": "execute_result"
    }
   ],
   "source": [
    "rep.get(gids=[106,   141], t_start=0.2, t_end=0.6)"
   ]
  },
  {
   "cell_type": "markdown",
   "metadata": {},
   "source": [
    "If you are interested in a single gid values you can also use the `get_gid` to collect the information about this cell:"
   ]
  },
  {
   "cell_type": "code",
   "execution_count": 20,
   "metadata": {},
   "outputs": [
    {
     "data": {
      "text/plain": [
       "time\n",
       "0.0     -60.925117\n",
       "0.1     -61.389446\n",
       "0.2     -61.705853\n",
       "0.3     -61.957417\n",
       "0.4     -62.174332\n",
       "           ...    \n",
       "999.5   -69.389359\n",
       "999.6   -69.389359\n",
       "999.7   -69.389359\n",
       "999.8   -69.389359\n",
       "999.9   -69.389359\n",
       "Name: 106, Length: 10000, dtype: float32"
      ]
     },
     "execution_count": 20,
     "metadata": {},
     "output_type": "execute_result"
    }
   ],
   "source": [
    "rep.get_gid(106)"
   ]
  },
  {
   "cell_type": "markdown",
   "metadata": {},
   "source": [
    "## Simulation analyses using bluepy \n",
    "\n",
    "For pedagogic purposes lets load an older circuit and simulation from the neocortex with much more active cells. Due to the old simulation and a the new versions of the Blueconfig some warning can appear but please ignore them.\n",
    "\n",
    "Bluepy provides some tooling to realize \"standard\" analyses. These functions are made to be quite agnostic from the circuit but we do not recommand to blindly use them. "
   ]
  },
  {
   "cell_type": "code",
   "execution_count": 21,
   "metadata": {},
   "outputs": [],
   "source": [
    "path = \"/gpfs/bbp.cscs.ch/project/proj1/simulations//ReNCCv3/InVivo/03_Reyes-Puerta/K5p0/Ca1p25/minicols60/seed0/BlueConfig\"\n",
    "\n",
    "sim = Simulation(path)"
   ]
  },
  {
   "cell_type": "markdown",
   "metadata": {},
   "source": [
    "We can have a look at the circuit activity using the raster plot from bluepy. This will show all the cells that spikes for each timestamp. The y axis represent the cell gid and the x axis the timestamp."
   ]
  },
  {
   "cell_type": "code",
   "execution_count": 22,
   "metadata": {},
   "outputs": [],
   "source": [
    "# disabling this cell as it fails during function CI. The reason is unknown. Even if you use the image generated\n",
    "# by functional CI, the new run of functional CI will generate another image.\n",
    "\n",
    "if False:\n",
    "    sim.plot.raster();"
   ]
  },
  {
   "cell_type": "markdown",
   "metadata": {},
   "source": [
    "To be able to compare two simulations from the same circuit, the silent cells are still represented in the raster plots. "
   ]
  },
  {
   "cell_type": "markdown",
   "metadata": {},
   "source": [
    "We could now plot the population PSTH for this one type in the relevant time period:"
   ]
  },
  {
   "cell_type": "code",
   "execution_count": 23,
   "metadata": {},
   "outputs": [
    {
     "data": {
      "image/png": "[encoded data removed]",
      "text/plain": [
       "<Figure size 640x480 with 1 Axes>"
      ]
     },
     "metadata": {},
     "output_type": "display_data"
    }
   ],
   "source": [
    "sim.plot.firing_rate_histogram(sample=None);"
   ]
  },
  {
   "cell_type": "markdown",
   "metadata": {},
   "source": [
    "A classic analysis is to compute the time between 2 spikes for each cells :"
   ]
  },
  {
   "cell_type": "code",
   "execution_count": 24,
   "metadata": {},
   "outputs": [
    {
     "data": {
      "image/png": "[encoded data removed]",
      "text/plain": [
       "<Figure size 640x480 with 1 Axes>"
      ]
     },
     "metadata": {},
     "output_type": "display_data"
    }
   ],
   "source": [
    "sim.plot.isi(sample=None);"
   ]
  },
  {
   "cell_type": "markdown",
   "metadata": {},
   "source": [
    "We can see that when a cell spikes more than once most of the time the second spike is less than 250 ms after the last one. "
   ]
  },
  {
   "cell_type": "markdown",
   "metadata": {},
   "source": [
    "We can also check easily the timestamps with the most spiking cells.\n",
    "We can use this is to caracterize the different groups of cells and their behaviors during the simulation.\n",
    "\n",
    "First lets import some important packages and modules."
   ]
  },
  {
   "cell_type": "code",
   "execution_count": 25,
   "metadata": {},
   "outputs": [
    {
     "data": {
      "text/plain": [
       "t\n",
       "68.375    70660\n",
       "71.175    74699\n",
       "71.950    72374\n",
       "74.575    71540\n",
       "74.600    71643\n",
       "Name: gid, dtype: int64"
      ]
     },
     "execution_count": 25,
     "metadata": {},
     "output_type": "execute_result"
    }
   ],
   "source": [
    "import numpy as np\n",
    "import matplotlib.pyplot as plt\n",
    "from bluepy.enums import Cell\n",
    "\n",
    "\n",
    "gids = sim.circuit.cells.ids({Cell.MTYPE: 'L4_PC', Cell.HYPERCOLUMN: 2})\n",
    "spikes = sim.spikes.get(gids=gids)\n",
    "spikes.head()"
   ]
  },
  {
   "cell_type": "code",
   "execution_count": 26,
   "metadata": {},
   "outputs": [
    {
     "data": {
      "image/png": "[encoded data removed]",
      "text/plain": [
       "<Figure size 640x480 with 1 Axes>"
      ]
     },
     "metadata": {},
     "output_type": "display_data"
    }
   ],
   "source": [
    "plt.hist(spikes.index, bins=np.linspace(1450, 1600, 61), color='red', edgecolor='black', label='L4_PC')\n",
    "plt.legend()\n",
    "plt.xlabel('t (ms)')\n",
    "plt.ylabel('Spike count');"
   ]
  },
  {
   "cell_type": "markdown",
   "metadata": {},
   "source": [
    "And an inhibitory m-type for comparison:"
   ]
  },
  {
   "cell_type": "code",
   "execution_count": 27,
   "metadata": {},
   "outputs": [
    {
     "data": {
      "image/png": "[encoded data removed]",
      "text/plain": [
       "<Figure size 640x480 with 1 Axes>"
      ]
     },
     "metadata": {},
     "output_type": "display_data"
    }
   ],
   "source": [
    "gids = sim.circuit.cells.ids({Cell.MTYPE: 'L6_NBC', Cell.HYPERCOLUMN: 2})\n",
    "spikes = sim.spikes.get(gids=gids)\n",
    "\n",
    "plt.hist(spikes.index, bins=np.linspace(1450, 1600, 61), color='blue', edgecolor='black', label='L6_NBC')\n",
    "plt.legend()\n",
    "plt.xlabel('t (ms)')\n",
    "plt.ylabel('Spike count');"
   ]
  },
  {
   "cell_type": "markdown",
   "metadata": {},
   "source": [
    "If you are interested in the behavior of one cell in particular during the simulation you can use the compartment reports and check the behavior during the simulation:"
   ]
  },
  {
   "cell_type": "code",
   "execution_count": 28,
   "metadata": {},
   "outputs": [
    {
     "name": "stdout",
     "output_type": "stream",
     "text": [
      "report names : {'soma'}\n"
     ]
    }
   ],
   "source": [
    "name = sim.report_names\n",
    "print(f\"report names : {name}\")"
   ]
  },
  {
   "cell_type": "code",
   "execution_count": 29,
   "metadata": {},
   "outputs": [],
   "source": [
    "report = sim.report(\"soma\")"
   ]
  },
  {
   "cell_type": "markdown",
   "metadata": {},
   "source": [
    "We can check the metadata :"
   ]
  },
  {
   "cell_type": "code",
   "execution_count": 30,
   "metadata": {},
   "outputs": [
    {
     "data": {
      "text/plain": [
       "{'start_time': 0.0,\n",
       " 'end_time': 2000.0,\n",
       " 'time_step': 0.1,\n",
       " 'time_unit': 'ms',\n",
       " 'data_unit': 'mV',\n",
       " 'frame_count': 20000}"
      ]
     },
     "execution_count": 30,
     "metadata": {},
     "output_type": "execute_result"
    }
   ],
   "source": [
    "report.meta"
   ]
  },
  {
   "cell_type": "markdown",
   "metadata": {},
   "source": [
    "With the `.bbp` reports it can be more efficient to use the time parameters even if set to extrem values:"
   ]
  },
  {
   "cell_type": "code",
   "execution_count": 31,
   "metadata": {},
   "outputs": [],
   "source": [
    "gid = report.gids[42]\n",
    "data = report.get_gid(gid, t_end=report.t_end)"
   ]
  },
  {
   "cell_type": "code",
   "execution_count": 32,
   "metadata": {},
   "outputs": [
    {
     "data": {
      "image/png": "[encoded data removed]",
      "text/plain": [
       "<Figure size 640x480 with 1 Axes>"
      ]
     },
     "metadata": {},
     "output_type": "display_data"
    }
   ],
   "source": [
    "plt.plot(data)\n",
    "plt.xlabel('t (ms)')\n",
    "plt.ylabel('Vm (mV)')\n",
    "plt.title('Soma voltage for gid %d'% gid);"
   ]
  },
  {
   "cell_type": "markdown",
   "metadata": {},
   "source": [
    "We provide a plotting function to do the same plot:"
   ]
  },
  {
   "cell_type": "code",
   "execution_count": 33,
   "metadata": {},
   "outputs": [
    {
     "data": {
      "image/png": "[encoded data removed]",
      "text/plain": [
       "<Figure size 640x480 with 1 Axes>"
      ]
     },
     "metadata": {},
     "output_type": "display_data"
    }
   ],
   "source": [
    "sim.plot.trace(\"soma\", group=gid, t_end=report.t_end);"
   ]
  },
  {
   "cell_type": "markdown",
   "metadata": {},
   "source": [
    "This function also provides options to do the same trace plot but for group of cells:"
   ]
  },
  {
   "cell_type": "code",
   "execution_count": 34,
   "metadata": {},
   "outputs": [],
   "source": [
    "gids = report.gids[:5]"
   ]
  },
  {
   "cell_type": "code",
   "execution_count": 35,
   "metadata": {},
   "outputs": [
    {
     "data": {
      "image/png": "[encoded data removed]",
      "text/plain": [
       "<Figure size 640x480 with 1 Axes>"
      ]
     },
     "metadata": {},
     "output_type": "display_data"
    }
   ],
   "source": [
    "sim.plot.trace(\"soma\", group=gids, t_end=report.t_end);"
   ]
  },
  {
   "cell_type": "markdown",
   "metadata": {},
   "source": [
    "We also have more complex plotting tools like the `firing_animation`. It provides a simple animation with the positions of each cell firing.\n",
    "\n",
    "You can choose which axes to display using the x_axis and y_axis."
   ]
  },
  {
   "cell_type": "code",
   "execution_count": 36,
   "metadata": {},
   "outputs": [],
   "source": [
    "# disabling this cell as it fails during function CI because of the error: \"Your browser does not support the video\"\n",
    "if False:\n",
    "    from IPython.display import HTML\n",
    "    anim, ax = sim.plot.firing_animation(x_axis=Cell.X, y_axis=Cell.Y)\n",
    "    plt.close('all')  # important or you can have an artifact image\n",
    "    HTML(anim.to_html5_video())"
   ]
  },
  {
   "cell_type": "markdown",
   "metadata": {},
   "source": [
    "Here is an example of a psth + raster and potention plots used by thalamus:"
   ]
  },
  {
   "cell_type": "code",
   "execution_count": 37,
   "metadata": {},
   "outputs": [
    {
     "data": {
      "text/plain": [
       "(array(['L1_DAC', 'L1_DLAC', 'L1_HAC', 'L1_NGC-DA', 'L1_NGC-SA', 'L1_SLAC',\n",
       "        'L23_BP', 'L23_BTC', 'L23_ChC', 'L23_DBC', 'L23_LBC', 'L23_MC',\n",
       "        'L23_NBC', 'L23_NGC', 'L23_PC', 'L23_SBC', 'L4_BP', 'L4_BTC',\n",
       "        'L4_ChC', 'L4_DBC', 'L4_LBC', 'L4_MC', 'L4_NBC', 'L4_NGC', 'L4_PC',\n",
       "        'L4_SBC', 'L4_SP', 'L4_SS', 'L5_BP', 'L5_BTC', 'L5_ChC', 'L5_DBC',\n",
       "        'L5_LBC', 'L5_MC', 'L5_NBC', 'L5_NGC', 'L5_SBC', 'L5_STPC',\n",
       "        'L5_TTPC1', 'L5_TTPC2', 'L5_UTPC', 'L6_BP', 'L6_BPC', 'L6_BTC',\n",
       "        'L6_ChC', 'L6_DBC', 'L6_IPC', 'L6_LBC', 'L6_MC', 'L6_NBC',\n",
       "        'L6_NGC', 'L6_SBC', 'L6_TPC_L1', 'L6_TPC_L4', 'L6_UTPC'],\n",
       "       dtype=object),\n",
       " array([  411,   167,   637,   500,   364,   295,   196,   729,   424,\n",
       "         1224,  3185,  2320,  1872,   390, 41126,  1163,    55,   140,\n",
       "           56,   273,   854,   820,   668,    42, 18750,   431,  7687,\n",
       "         2865,   238,   527,   132,   674,  1464,  2784,  1411,    56,\n",
       "          173,  2116, 16806, 13987,  2403,   488, 22255,   381,   112,\n",
       "          216, 24253,  3247,  2347,  1390,   119,   468, 11465, 10114,\n",
       "        12152]))"
      ]
     },
     "execution_count": 37,
     "metadata": {},
     "output_type": "execute_result"
    }
   ],
   "source": [
    "np.unique(sim.circuit.cells.get(properties=Cell.MTYPE), return_counts=True)"
   ]
  },
  {
   "cell_type": "code",
   "execution_count": 38,
   "metadata": {},
   "outputs": [],
   "source": [
    "# disabling this cell as it fails during function CI. The reason is unknown. Even if you use the image generated\n",
    "# by functional CI, the new run of functional CI will generate another image.\n",
    "\n",
    "if False:\n",
    "    fig = sim.plot.population_summary(\"soma\",groups=[\"L4_NGC\", \"L4_ChC\"])"
   ]
  },
  {
   "cell_type": "markdown",
   "metadata": {},
   "source": [
    "These kind of plots has been recoded in bluepy but are usually too complex to be shared as a bluepy functionality. That's why we encourage people to share the different plots they are doing in their analyses by adding new examples in the bluepy repository."
   ]
  }
 ],
 "metadata": {
  "kernelspec": {
   "display_name": "Python 3",
   "language": "python",
   "name": "python3"
  },
  "language_info": {
   "codemirror_mode": {
    "name": "ipython",
    "version": 3
   },
   "file_extension": ".py",
   "mimetype": "text/x-python",
   "name": "python",
   "nbconvert_exporter": "python",
   "pygments_lexer": "ipython3",
   "version": "3.11.6"
  }
 },
 "nbformat": 4,
 "nbformat_minor": 1
}
