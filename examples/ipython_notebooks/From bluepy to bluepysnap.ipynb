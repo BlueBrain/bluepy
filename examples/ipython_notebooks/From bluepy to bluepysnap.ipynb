{
 "cells": [
  {
   "cell_type": "markdown",
   "metadata": {},
   "source": [
    "# Special - bluepy vs bluepysnap\n",
    "\n",
    "In this notebook we will show the API differences from bluepy to bluepysnap. Bluepy has been around for a very long time and has been the main tool for the circuit exploration and analyses for years. Unfortunately, with the emergence of [SONATA](https://github.com/AllenInstitute/sonata/blob/master/docs/SONATA_DEVELOPER_GUIDE.md) circuits and the apparition of complex circuits like NGV, bluepy needed a almost complete rework/redesign.\n",
    "\n",
    "The complete bluepy revamp is called Bluepysnap and it is designed to improve the sonata circuit reading, analyses and the user experience in general. \n",
    "\n",
    "## Motivations behind the bluepy rework\n",
    "\n",
    "The main complexity for bluepy today is to keep analyses compatible between the new and the old circuits while maintaining a coherent interface for circuit analysis. \n",
    "\n",
    "Two of the most obvious problems right now with bluepy is to merge SONATA multi-populations with the historical formats under a common API and to be able to read all new coming types of cells/connectomes.  \n",
    "Multi-population was not a thing with the historical circuits. Indeed `BlueConfig`, `target files`, `nrn` and `mvd` formats have been designed to represent a **single neuron** population circuit. Bluepy has been initially designed to deal with this kind of circuits and adding multi-populations to it would be very hacky or will force a full revamp of the historical API which would break the current codes.  \n",
    "Few years ago, only neurons were used to create circuits and it was not useful to mix different types of cells or adding new connection types. With this huge homogeneity constraint, many simplifications have been made to the historical formats. One of it was to fix the storable in-file properties of the cells or the connectomes. But today, new types of cells are produced at BBP and these cells cannot fit into the \"neuron scheme\". We need to keep in mind that bluepy has been first designed to deal with this type of constrained circuits and most parts of the current API is dedicated/specialized to/for the neuronal analyses only. For example, bluepy connectome API uses many functions that include the word \"synapses\" in them but the concept of synapses does not make sense for most of the new connectomes (like a vasculature-astrocyte connectome where an astrocyte actually connect the vasculature via a endfoot). This is also true for the cells API which contains the word `GID` a lot which does not really exist in SONATA. So a new API more data agnostic should be developed to avoid querying enfeet properties using a function called : synapse_properties. \n",
    "\n",
    "As you can see, the initial design of bluepy starts to cause many maintenance difficulties and in the worst case scenarios, it will be impossible to analyze certain types of cells with bluepy, it can lead to restrictions in the analyses or forces the use of only a subset of the SONATA functionalities.  \n",
    "So it was obvious, we needed a more SONATA compliant and \"cell agnostic\" tool at BBP and that's why we created bluepysnap (shorten in \"snap\" in this notebook). \n",
    "\n",
    "In this notebook, we will describe the differences between snap and the additions made to snap compared to bluepy for the cell, connectome and simulation analyses.  \n",
    "We will not spend too much time on the SONATA basics. For information about the format please read the [specifications](https://github.com/AllenInstitute/sonata/blob/master/docs/SONATA_DEVELOPER_GUIDE.md) or the [BBP extension document](https://sonata-extension.readthedocs.io/en/latest/sonata_overview.html).\n",
    "\n",
    "## Loading a circuit\n",
    "\n",
    "First, let's start with the basics and the circuit loading. We can load a circuit just as bluepy does via a path to a valid config file:"
   ]
  },
  {
   "cell_type": "code",
   "execution_count": 1,
   "metadata": {},
   "outputs": [],
   "source": [
    "from bluepy import Circuit, Cell\n",
    "from bluepysnap import Circuit as SnapCircuit  # SnapCircuit is use only to avoid the name conflict with the bluepy Circuit"
   ]
  },
  {
   "cell_type": "code",
   "execution_count": 2,
   "metadata": {},
   "outputs": [],
   "source": [
    "circuit_path = \"/gpfs/bbp.cscs.ch/project/proj12/NSE/bluepy/circuits/CA1.O1/mooc-circuit/CircuitConfig\"  # bluepy\n",
    "bluepy_circuit = Circuit(circuit_path)  # bluepy\n",
    "\n",
    "circuit_path = \"/gpfs/bbp.cscs.ch/project/proj12/NSE/bluepy/circuits/CA1.O1/mooc-circuit/circuit_config.json\" # snap\n",
    "snap_circuit = SnapCircuit(circuit_path) # snap"
   ]
  },
  {
   "cell_type": "markdown",
   "metadata": {},
   "source": [
    "As you can see snap does not use BlueConfig but a SONATA config files. \n",
    "\n",
    "<div class=\"alert alert-block alert-info\">\n",
    "<b>Note:</b> This circuit is the hippocampus mooc circuit. It consists in a O1 circuit containing the hippocampus CA1 cells and a projection connectome linking CA3 to CA1.\n",
    "</div>\n",
    "\n",
    "We will now start to explore the circuit using snap and bluepy APIs."
   ]
  },
  {
   "cell_type": "markdown",
   "metadata": {},
   "source": [
    "## Populations and CircuitIds\n",
    "\n",
    "One very major update from the SONATA format is the introduction of the populations. A population is a sub sample of either the nodes or the edges from a circuit. That is, a subsample of the cells or connectomes.\n",
    "\n",
    "Two node populations can be neurons from two different sub-regions or totally different objects like neurons and astrocytes. It is important to keep in mind that these populations do not need to have the same properties in a circuit. This allows to have files with only the needed fields and no placeholders. For example, the virtual neurons from the projections do not have biophysical properties or even positions and only need the field `model_type`. In the old format everything had to fit in the neuron scheme and this is not the case anymore with SONATA circuits.\n",
    "\n",
    "<div class=\"alert alert-block alert-warning\">\n",
    "<b>Important:</b> You cannot have two populations with the same name in a circuit.\n",
    "</div>\n",
    "\n",
    "But before going deeper, let's first clarify the naming."
   ]
  },
  {
   "cell_type": "markdown",
   "metadata": {},
   "source": [
    "### Naming scheme changes\n",
    "\n",
    "As we said before, snap goal is to be more data agnostic. That is, many neuronal specifics naming scheme from bluepy has to be changed. \n",
    "\n",
    "We moved from a neuronal-based to a more graph-based naming scheme. Notably:  \n",
    "- `cells` &#8594; `nodes`  \n",
    "- `connectomes` &#8594; `edges`  \n",
    "- `GID` &#8594; `node_id`  \n",
    "- `synapse_id` &#8594; `edge_id`"
   ]
  },
  {
   "cell_type": "code",
   "execution_count": 3,
   "metadata": {},
   "outputs": [],
   "source": [
    "cells = bluepy_circuit.cells             # bluepy object containing all cell information\n",
    "connectome = bluepy_circuit.connectome   # bluepy object containing connectome information\n",
    "\n",
    "nodes = snap_circuit.nodes               # snap object containing all cell information\n",
    "edges = snap_circuit.edges               # snap object containing all connectome information"
   ]
  },
  {
   "cell_type": "markdown",
   "metadata": {},
   "source": [
    "One must be careful because the `nodes` and `edges` interfaces are a bit more complex than their bluepy counterparts but we will explore that in a moment."
   ]
  },
  {
   "cell_type": "markdown",
   "metadata": {},
   "source": [
    "### Accessing the populations\n",
    "\n",
    "As we said before, bluepy has not been designed to deal with multi-populations. This is a concept introduced with the SONATA circuits and it clashes with the old formats. That is, in bluepy, you cannot navigate through the different populations. And even if SONATA files can be read by bluepy, only single population files are accepted (which basically mimic the old format).  \n",
    "Snap, on the other hand, has been built around this crucial concept and you can access all the different populations easily using the `nodes` or `edges` interfaces. \n",
    "\n",
    "Let's explore the node population first using the `nodes` object. We can start by checking the available nodes populations :"
   ]
  },
  {
   "cell_type": "code",
   "execution_count": 4,
   "metadata": {},
   "outputs": [
    {
     "data": {
      "text/plain": [
       "['hippocampus_neurons', 'hippocampus_projections']"
      ]
     },
     "execution_count": 4,
     "metadata": {},
     "output_type": "execute_result"
    }
   ],
   "source": [
    "nodes.population_names     # snap "
   ]
  },
  {
   "cell_type": "markdown",
   "metadata": {},
   "source": [
    "Two node populations are available in this circuit : \n",
    "- the 'hippocampus_neurons' : the standard biophysical CA1 neurons.\n",
    "- the 'hippocampus_projections' : the virtual CA3 neurons from the projections.\n",
    "\n",
    "In snap, we can either work directly using the nodes interface which combines all the population together or accessing a particular `NodePopulation` using the brackets `[]`."
   ]
  },
  {
   "cell_type": "code",
   "execution_count": 5,
   "metadata": {},
   "outputs": [
    {
     "name": "stdout",
     "output_type": "stream",
     "text": [
      "34126\n",
      "34126\n"
     ]
    }
   ],
   "source": [
    "print(nodes.size)                                                                # snap, using nodes\n",
    "print(nodes['hippocampus_neurons'].size + nodes['hippocampus_projections'].size) # snap, using node populations"
   ]
  },
  {
   "cell_type": "code",
   "execution_count": 6,
   "metadata": {},
   "outputs": [],
   "source": [
    "node_pop = nodes['hippocampus_neurons']    # snap, node_pop is a NodePopulation"
   ]
  },
  {
   "cell_type": "markdown",
   "metadata": {},
   "source": [
    "But before going further, we must explain a huge difference between SONATA and the historical circuits: the concept of `GIDs` in SONATA."
   ]
  },
  {
   "cell_type": "markdown",
   "metadata": {},
   "source": [
    "<a id='sonata_gid'></a>\n",
    "### GIDs in SONATA\n",
    "\n",
    "The concept of GIDs in SONATA circuits is much more complex than its historical counterpart. In historical circuits, it was easy to attribute an integer identifier to all the cells from a circuit : the cells were all included in the same file and the circuit could not change.  \n",
    "This is not the case in SONATA anymore where new files can be added to a circuit seamlessly and where only the `node_ids` are written in the files.\n",
    "\n",
    "\n",
    "#### The SONATA node_ids\n",
    "\n",
    "In SONATA, one must not misinterpreted `node_ids` as `GIDs`. In fact, the **`node_ids` are not unique ids for the circuit but unique ids for a population**. That is, we can have two neurons with the same `node_id` in a circuit if they are from two different populations."
   ]
  },
  {
   "cell_type": "markdown",
   "metadata": {},
   "source": [
    "A quick illustration with the hippocampus circuit we are using :"
   ]
  },
  {
   "cell_type": "code",
   "execution_count": 7,
   "metadata": {},
   "outputs": [
    {
     "name": "stdout",
     "output_type": "stream",
     "text": [
      "node_ids from the 'hippocampus_neurons' population :     [    0     1     2 ... 18195 18196 18197]\n",
      "node_ids from the 'hippocampus_projections' population : [    0     1     2 ... 15925 15926 15927]\n"
     ]
    }
   ],
   "source": [
    "print(f\"node_ids from the 'hippocampus_neurons' population :     {nodes['hippocampus_neurons'].ids()}\")\n",
    "print(f\"node_ids from the 'hippocampus_projections' population : {nodes['hippocampus_projections'].ids()}\")"
   ]
  },
  {
   "cell_type": "markdown",
   "metadata": {},
   "source": [
    "We can see \"hippocampus_neurons\" `node_ids` are included in the 0-18197 range when the virtual \"hippocampus_projections\" `node_ids` are included in the 0-15927 range. So both collide massively and it shows the `node_ids` are not global unique ids for the circuit.\n",
    "\n",
    "We can ask ourselves, why not keeping the global id concept instead of this ids per population ? This is mainly due to the flexibility of the SONATA format and the possibility to enrich a circuit without re-running everything."
   ]
  },
  {
   "cell_type": "markdown",
   "metadata": {},
   "source": [
    "#### Adding a population to a SONATA file\n",
    "\n",
    "In SONATA, you can simply add multiple node populations to a circuit by adding a new node file to the configuration file. Same for the edge populations, you can just add a new edge population to the configuration file. \n",
    "\n",
    "This kind of behavior is really convenient to merge two circuits built separately in a single big circuit without rerunning anything. Let's say you spent 6 months building a neo-cortex circuit and 6 months building a thalamus circuit separately (with validations etc) and you want to combine them.  \n",
    "With SONATA, this is now possible just by creating a circuit config like :"
   ]
  },
  {
   "cell_type": "code",
   "execution_count": 8,
   "metadata": {},
   "outputs": [],
   "source": [
    "{\n",
    "    \"networks\": {\n",
    "        \"nodes\": [\n",
    "            {\n",
    "                \"nodes_file\":       \"$NETWORK_DIR/neocortex.h5\",               # neocortex cells\n",
    "                \"populations\": {\n",
    "                    \"neocortex_neurons\": {}\n",
    "                }\n",
    "            },\n",
    "            {\n",
    "                \"nodes_file\":       \"$NETWORK_DIR/thalamus.h5\",                # thalamus cells\n",
    "                \"populations\": {\n",
    "                    \"thalamus_neurons\": {}\n",
    "                }\n",
    "            }\n",
    "        ]\n",
    "     }\n",
    "};"
   ]
  },
  {
   "cell_type": "markdown",
   "metadata": {},
   "source": [
    "With this kind of use cases, it is easy to see why having simple integers as `GIDs` stored in the files can be problematic.  \n",
    "In this example, merging both circuits using a traditional `GID` approach would mean to rerun or change all the thalamus files to offset the `GIDs` such as:  \n",
    "`thalamus_gids` &#8594; `neocortex_cell_count` + `thalamus_gids`  \n",
    "This implies to duplicate the thalamus files and probably re-run the validations, changing all the thalamus connectome files (including some of the stored parameters), rerunning simulations etc.  \n",
    "Moreover, with a `GID` approach, multiple other problems can arise: the `GIDs` could be invalidated every time you add a new file, the ordering is important (merging neocortex with thalamus is different than merging thalamus with neocortex), the complexity increases with the number of added populations etc.\n",
    "\n",
    "Instead, with the SONATA approach of unique ids per population, all your files are valid either taken separately or combined. You don't need to change the files at all and so all your previous works on the different parts are still valid.  \n",
    "Plus, if you want to refer to a particular cell in the merged circuit this is still possible by using a tuple : (`population`, `node_id`). \n",
    "\n",
    "That's the path we followed in snap with the introduction of a new type of `GIDs` called : `CircuitIds`. This concept is valid for both nodes or edges. "
   ]
  },
  {
   "cell_type": "markdown",
   "metadata": {},
   "source": [
    "#### GIDs in SONATA : the CircuitNodeIds (concept from snap)\n",
    "\n",
    "In order to create a new kind of unique ids for a circuit, we decided to introduce the `CircuitNodeIds`. It is important to note that, even if this is a natural concept, it is not formulated explicitly in the SONATA specifications. Therefore, you will not find a definition of the `CircuitNodeIds` outside snap.\n",
    "\n",
    "So like we said, a `CircuitNodeId` is a tuple : (`node_population`, `node_id`).\n",
    "\n",
    "To facilitate the use of this new gids, we made a complete API in snap. You can import the dedicated classes using :"
   ]
  },
  {
   "cell_type": "code",
   "execution_count": 9,
   "metadata": {},
   "outputs": [],
   "source": [
    "from bluepysnap.circuit_ids import CircuitNodeIds, CircuitNodeId"
   ]
  },
  {
   "cell_type": "markdown",
   "metadata": {},
   "source": [
    "A `CircuitNodeId` is a simple named tuple composed of a : (\"population_name\", node_id):"
   ]
  },
  {
   "cell_type": "code",
   "execution_count": 10,
   "metadata": {},
   "outputs": [
    {
     "name": "stdout",
     "output_type": "stream",
     "text": [
      "CircuitNodeId(population='population_name', id=0)\n"
     ]
    }
   ],
   "source": [
    "my_id = CircuitNodeId(\"population_name\", 0)\n",
    "print(my_id)"
   ]
  },
  {
   "cell_type": "markdown",
   "metadata": {},
   "source": [
    "`CircuitNodeIds` on the other hand is an optimized CircuitNodeId container using `pandas.MultiIndex` as backend."
   ]
  },
  {
   "cell_type": "code",
   "execution_count": 11,
   "metadata": {},
   "outputs": [
    {
     "name": "stdout",
     "output_type": "stream",
     "text": [
      "CircuitNodeIds([('population_name', 0),\n",
      "            ('population_name', 1)],\n",
      "           names=['population', 'node_ids'])\n"
     ]
    }
   ],
   "source": [
    "my_ids = CircuitNodeIds.from_tuples([(\"population_name\", 0), (\"population_name\", 1)] )\n",
    "print(my_ids)"
   ]
  },
  {
   "cell_type": "markdown",
   "metadata": {},
   "source": [
    "The `CircuitNodeIds` possesses many different quality of life functions to work directly with them :"
   ]
  },
  {
   "cell_type": "code",
   "execution_count": 12,
   "metadata": {},
   "outputs": [],
   "source": [
    "import numpy as np"
   ]
  },
  {
   "cell_type": "code",
   "execution_count": 13,
   "metadata": {},
   "outputs": [
    {
     "name": "stdout",
     "output_type": "stream",
     "text": [
      "Get all ids : [ 8 32 16 64]\n",
      "Get all populations : ['pop1' 'pop1' 'pop2' 'pop3']\n",
      "Converting to a list : [('pop1', 8), ('pop1', 32), ('pop2', 16), ('pop3', 64)]\n",
      "Get the multi-index directly : MultiIndex([('pop1',  8),\n",
      "            ('pop1', 32),\n",
      "            ('pop2', 16),\n",
      "            ('pop3', 64)],\n",
      "           names=['population', 'node_ids'])\n",
      "Get only the pop1 values : [('pop1', 8), ('pop1', 32)]\n",
      "After append : [('pop1', 8), ('pop1', 32), ('pop2', 16), ('pop3', 64), ('pop4', 128), ('pop5', 256)]\n",
      "After sampling 3 ids : [('pop5', 256), ('pop2', 16), ('pop1', 32)]\n",
      "After sorting : [('pop1', 32), ('pop2', 16), ('pop5', 256)]\n",
      "Sliced : [('pop1', 8), ('pop1', 32), ('pop2', 16)]\n",
      "Read from cvs file  [('pop1', 8), ('pop1', 32), ('pop2', 16), ('pop3', 64), ('pop4', 128), ('pop5', 256)]\n"
     ]
    }
   ],
   "source": [
    "np.random.seed(0) # to fix the randomness \n",
    "\n",
    "# All constructors will produce the same result (if sorted) :\n",
    "my_ids = CircuitNodeIds.from_arrays([\"pop1\",\"pop2\",\"pop1\", \"pop3\"], [8, 16, 32, 64] )\n",
    "my_ids = CircuitNodeIds.from_dict({\"pop1\": [8, 32], \"pop2\": [16], \"pop3\": [64]})\n",
    "my_ids = CircuitNodeIds.from_tuples([(\"pop1\", 8), (\"pop1\", 32), (\"pop2\", 16), (\"pop3\", 64)])\n",
    "\n",
    "\n",
    "# Accessing the ids only :\n",
    "print(\"Get all ids :\", my_ids.get_ids())\n",
    "\n",
    "# Accessing the populations only :\n",
    "print(\"Get all populations :\", my_ids.get_populations())\n",
    "\n",
    "# Converting to a list of tuples :\n",
    "print(\"Converting to a list :\", my_ids.tolist())\n",
    "\n",
    "# Accessing the muti index pandas object :\n",
    "print(\"Get the multi-index directly :\", my_ids.index)\n",
    "\n",
    "# Filter on a given population\n",
    "only_pop1 = my_ids.filter_population(\"pop1\")\n",
    "print(\"Get only the pop1 values :\", only_pop1.tolist())\n",
    "\n",
    "# Append another container :\n",
    "other_ids = CircuitNodeIds.from_arrays([\"pop4\",\"pop5\"], [128, 256])\n",
    "new_obj = my_ids.append(other_ids, inplace=False)  # create a copy and append the other one\n",
    "my_ids.append(other_ids, inplace=True)   # do the same inplace\n",
    "print(\"After append :\", my_ids.index.tolist())\n",
    "\n",
    "# Random sampling : \n",
    "sampled_randomly = my_ids.sample(sample_size=3)\n",
    "print(\"After sampling 3 ids :\", sampled_randomly.tolist())\n",
    "\n",
    "# Sorting the indices :\n",
    "sampled_randomly.sort(inplace=True)\n",
    "print(\"After sorting :\", sampled_randomly.tolist())\n",
    "\n",
    "# Selecting the first 3 CircuitNodeIds:\n",
    "sliced = my_ids.limit(limit_size=3)\n",
    "print(\"Sliced :\", sliced.index.tolist())\n",
    "\n",
    "# saving / loading\n",
    "from tempfile import TemporaryDirectory\n",
    "from pathlib import Path\n",
    "with TemporaryDirectory() as tmp_dir:\n",
    "    path = Path(tmp_dir, \"my_file.csv\")\n",
    "    # You can also save the ids and read them as csv files:\n",
    "    my_ids.to_csv(path)\n",
    "    # And reread it :\n",
    "    new_ids = CircuitNodeIds.from_csv(path)\n",
    "    print(\"Read from cvs file \", new_ids.tolist())"
   ]
  },
  {
   "cell_type": "markdown",
   "metadata": {},
   "source": [
    "These ids are safer, more explicit and cannot be invalidated if someone add a new population in the circuit. For more information, you can have a look [here](https://github.com/BlueBrain/snap/pull/99#issue-514121713)"
   ]
  },
  {
   "cell_type": "markdown",
   "metadata": {},
   "source": [
    "<a id='node_information'></a>\n",
    "## Accessing the node information\n",
    "\n",
    "We can now start querying nodes from the circuit. We have multiple ways of doing it depending on the scope of the analysis. That is, if you want to work on all populations or only one.\n",
    "\n",
    "\n",
    "For simplicity reasons, we will start by querying on a single population and compare it to bluepy.\n",
    "\n",
    "### Size of a population\n",
    "\n",
    "A`size` function is now part of the snap API. It can be used to access in a very efficient way the size of a population:"
   ]
  },
  {
   "cell_type": "code",
   "execution_count": 14,
   "metadata": {},
   "outputs": [
    {
     "data": {
      "text/plain": [
       "18198"
      ]
     },
     "execution_count": 14,
     "metadata": {},
     "output_type": "execute_result"
    }
   ],
   "source": [
    " nodes[\"hippocampus_neurons\"].size  # snap"
   ]
  },
  {
   "cell_type": "markdown",
   "metadata": {},
   "source": [
    "This version is much more efficient than the bluepy `count` function."
   ]
  },
  {
   "cell_type": "markdown",
   "metadata": {},
   "source": [
    "### Accessing the node properties\n",
    "\n",
    "We will first discuss the differences between bluepy and snap to access the node properties.\n",
    "\n",
    "One important thing to keep in mind with SONATA is that properties are not fixed by the format. It means one can add or remove properties in/out from the files. So you can have cells with a single property and some cells with twenty. \n",
    "\n",
    "In snap, we managed to create a more convenient API to work with your data.\n",
    "\n",
    "\n",
    "#### Retrieving the available properties"
   ]
  },
  {
   "cell_type": "markdown",
   "metadata": {},
   "source": [
    "For simplicity reasons, we will first set the \"hippocampus_neurons\" population into a variable :"
   ]
  },
  {
   "cell_type": "code",
   "execution_count": 15,
   "metadata": {},
   "outputs": [],
   "source": [
    "snap_pop = nodes[\"hippocampus_neurons\"]  # snap"
   ]
  },
  {
   "cell_type": "markdown",
   "metadata": {},
   "source": [
    "Like in the most recent version of bluepy, you can explore the properties of each population using :"
   ]
  },
  {
   "cell_type": "code",
   "execution_count": 16,
   "metadata": {},
   "outputs": [
    {
     "name": "stdout",
     "output_type": "stream",
     "text": [
      "['@dynamics:holding_current', '@dynamics:threshold_current', 'etype', 'layer', 'model_template', 'model_type', 'morph_class', 'morphology', 'mtype', 'orientation', 'region', 'rotation_angle_xaxis', 'rotation_angle_yaxis', 'rotation_angle_zaxis', 'synapse_class', 'x', 'y', 'z']\n",
      "['@dynamics:holding_current', '@dynamics:threshold_current', 'etype', 'layer', 'model_template', 'model_type', 'morph_class', 'morphology', 'mtype', 'region', 'rotation_angle_xaxis', 'rotation_angle_yaxis', 'rotation_angle_zaxis', 'synapse_class', 'x', 'y', 'z']\n"
     ]
    }
   ],
   "source": [
    "print(sorted(cells.available_properties))  # bluepy\n",
    "print(sorted(snap_pop.property_names))     # snap"
   ]
  },
  {
   "cell_type": "markdown",
   "metadata": {},
   "source": [
    "Even if results seem quite similar there is a big difference between bluepy and snap: the \"computed by bluepy\" variables have been removed. "
   ]
  },
  {
   "cell_type": "markdown",
   "metadata": {},
   "source": [
    "#### The computed variables : removed from snap"
   ]
  },
  {
   "cell_type": "markdown",
   "metadata": {},
   "source": [
    "We can see that snap and bluepy do not return the exact same properties :"
   ]
  },
  {
   "cell_type": "code",
   "execution_count": 17,
   "metadata": {
    "scrolled": true
   },
   "outputs": [
    {
     "data": {
      "text/plain": [
       "{'orientation'}"
      ]
     },
     "execution_count": 17,
     "metadata": {},
     "output_type": "execute_result"
    }
   ],
   "source": [
    "cells.available_properties.symmetric_difference(snap_pop.property_names)"
   ]
  },
  {
   "cell_type": "markdown",
   "metadata": {},
   "source": [
    "As we can see, the `orientation` field is not present in snap while being present in bluepy. This is because snap does not include any pre-computed variable anymore. It only provides raw fields actually written in the file.\n",
    "\n",
    "\n",
    "We can explain the reasons behind the \"computed variable removal\" using the computed `orientation` field as an example.\n",
    "\n",
    "As we said, snap must be generic and cannot favor any type of input cells. For example, `orientation` is something that can be build (and meaningful) only for cells that have the `rotation_angle_[z|y|x]axis` or `orientation_[w|x|y|z]` fields present in the file. \n",
    "\n",
    "That is, this field is not needed for :\n",
    "- the virtual cells\n",
    "- the vasculature nodes\n",
    "- the synthetized cells with orientation already included in the morphologies\n",
    "- ... \n",
    "\n",
    "So, even if this field seems \"standard\" it is actually not at all. And this is the same for most of the auto-computed or extra fields computed in bluepy (like: the `PRE_NEURITE_DISTANCE`, `PRE_SECTION_DISTANCE` from connectome).  \n",
    "In bluepy, these kinds of variables were tolerated since only biophysical neurons with fixed properties were considered. So it was still ok-ish to compute some of them (even if this is really debatable).  \n",
    "In snap, with many different types of cells with different properties, keeping these variables can be error-prone and lead to maintainability problems and/or convoluted code and API. So we decided to remove them from snap entirely and it will be the user/consumer responsibility to compute them. \n",
    "\n",
    "\n",
    "For the particular use case of the `orientation` field, it also means to store 9 extra integers per cell while the information is already coded in either the `rotation_angle_[z|y|x]axis` or `orientation_[w|x|y|z]` fields.\n",
    "\n",
    "If you want to access the matrices anyway, you can still use :"
   ]
  },
  {
   "cell_type": "code",
   "execution_count": 18,
   "metadata": {},
   "outputs": [
    {
     "data": {
      "text/plain": [
       "node_ids\n",
       "0    [[0.9533337806844938, 0.0, 0.30191837076569117...\n",
       "1    [[-0.4961126176694474, 6.075627292455034e-17, ...\n",
       "2    [[-0.1759926666818469, 2.1552885592533084e-17,...\n",
       "3    [[-0.9401740722181569, 1.1513811681832984e-16,...\n",
       "4    [[0.990592293136912, 0.0, 0.13684629617842906]...\n",
       "Name: orientation, dtype: object"
      ]
     },
     "execution_count": 18,
     "metadata": {},
     "output_type": "execute_result"
    }
   ],
   "source": [
    "snap_pop.orientations().head()   # snap"
   ]
  },
  {
   "cell_type": "markdown",
   "metadata": {},
   "source": [
    "#### Extra information about the properties in snap"
   ]
  },
  {
   "cell_type": "markdown",
   "metadata": {},
   "source": [
    "In snap, we increased the information you can collect about the properties. You can now access the types of the stored properties :"
   ]
  },
  {
   "cell_type": "code",
   "execution_count": 19,
   "metadata": {},
   "outputs": [
    {
     "data": {
      "text/plain": [
       "@dynamics:holding_current       float64\n",
       "@dynamics:threshold_current     float64\n",
       "etype                          category\n",
       "layer                            object\n",
       "model_template                   object\n",
       "model_type                     category\n",
       "morph_class                    category\n",
       "morphology                     category\n",
       "mtype                          category\n",
       "region                           object\n",
       "rotation_angle_xaxis            float64\n",
       "rotation_angle_yaxis            float64\n",
       "rotation_angle_zaxis            float64\n",
       "synapse_class                  category\n",
       "x                               float64\n",
       "y                               float64\n",
       "z                               float64\n",
       "dtype: object"
      ]
     },
     "execution_count": 19,
     "metadata": {},
     "output_type": "execute_result"
    }
   ],
   "source": [
    "snap_pop.property_dtypes   # snap"
   ]
  },
  {
   "cell_type": "markdown",
   "metadata": {},
   "source": [
    "#### Unique values of a property "
   ]
  },
  {
   "cell_type": "markdown",
   "metadata": {},
   "source": [
    "In bluepy, we made a special API to extract the unique values of the `etype` and `mtype` called `cells.etypes` and `cells.mtypes`. Since snap now deals with all kind of cells, having the naming `etypes` or `mtypes` as part of the global API does not make sense anymore.\n",
    "\n",
    "Instead, we provide a generic API with optimized access :"
   ]
  },
  {
   "cell_type": "code",
   "execution_count": 20,
   "metadata": {},
   "outputs": [
    {
     "name": "stdout",
     "output_type": "stream",
     "text": [
      "['SLM_PPA', 'SO_BP', 'SO_BS', 'SO_OLM', 'SO_Tri', 'SP_AA', 'SP_BS', 'SP_CCKBC', 'SP_Ivy', 'SP_PC', 'SP_PVBC', 'SR_SCA']\n",
      "['SLM_PPA', 'SO_BP', 'SO_BS', 'SO_OLM', 'SO_Tri', 'SP_AA', 'SP_BS', 'SP_CCKBC', 'SP_Ivy', 'SP_PC', 'SP_PVBC', 'SR_SCA']\n"
     ]
    }
   ],
   "source": [
    "print(sorted(cells.mtypes))                        # bluepy\n",
    "# becomes\n",
    "print(sorted(snap_pop.property_values(\"mtype\")))   # snap"
   ]
  },
  {
   "cell_type": "markdown",
   "metadata": {},
   "source": [
    "This API is now usable with all variables: "
   ]
  },
  {
   "cell_type": "code",
   "execution_count": 21,
   "metadata": {},
   "outputs": [
    {
     "data": {
      "text/plain": [
       "{'SLM', 'SO', 'SP', 'SR'}"
      ]
     },
     "execution_count": 21,
     "metadata": {},
     "output_type": "execute_result"
    }
   ],
   "source": [
    "snap_pop.property_values(\"layer\")   # snap only "
   ]
  },
  {
   "cell_type": "markdown",
   "metadata": {},
   "source": [
    "We will now see how to access these properties and work with them. "
   ]
  },
  {
   "cell_type": "markdown",
   "metadata": {},
   "source": [
    "<a id='node_properties'></a>\n",
    "### Accessing the properties\n",
    "\n",
    "Just as bluepy, in snap you can access the different properties from a population using a `get` function:"
   ]
  },
  {
   "cell_type": "code",
   "execution_count": 22,
   "metadata": {},
   "outputs": [
    {
     "data": {
      "text/html": [
       "<div>\n",
       "<style scoped>\n",
       "    .dataframe tbody tr th:only-of-type {\n",
       "        vertical-align: middle;\n",
       "    }\n",
       "\n",
       "    .dataframe tbody tr th {\n",
       "        vertical-align: top;\n",
       "    }\n",
       "\n",
       "    .dataframe thead th {\n",
       "        text-align: right;\n",
       "    }\n",
       "</style>\n",
       "<table border=\"1\" class=\"dataframe\">\n",
       "  <thead>\n",
       "    <tr style=\"text-align: right;\">\n",
       "      <th></th>\n",
       "      <th>mtype</th>\n",
       "      <th>etype</th>\n",
       "    </tr>\n",
       "  </thead>\n",
       "  <tbody>\n",
       "    <tr>\n",
       "      <th>1</th>\n",
       "      <td>SLM_PPA</td>\n",
       "      <td>bAC</td>\n",
       "    </tr>\n",
       "    <tr>\n",
       "      <th>2</th>\n",
       "      <td>SLM_PPA</td>\n",
       "      <td>bAC</td>\n",
       "    </tr>\n",
       "    <tr>\n",
       "      <th>3</th>\n",
       "      <td>SLM_PPA</td>\n",
       "      <td>bAC</td>\n",
       "    </tr>\n",
       "    <tr>\n",
       "      <th>4</th>\n",
       "      <td>SR_SCA</td>\n",
       "      <td>cAC</td>\n",
       "    </tr>\n",
       "    <tr>\n",
       "      <th>5</th>\n",
       "      <td>SR_SCA</td>\n",
       "      <td>cAC</td>\n",
       "    </tr>\n",
       "    <tr>\n",
       "      <th>...</th>\n",
       "      <td>...</td>\n",
       "      <td>...</td>\n",
       "    </tr>\n",
       "    <tr>\n",
       "      <th>18194</th>\n",
       "      <td>SO_BP</td>\n",
       "      <td>cNAC</td>\n",
       "    </tr>\n",
       "    <tr>\n",
       "      <th>18195</th>\n",
       "      <td>SO_BP</td>\n",
       "      <td>cNAC</td>\n",
       "    </tr>\n",
       "    <tr>\n",
       "      <th>18196</th>\n",
       "      <td>SO_BP</td>\n",
       "      <td>cNAC</td>\n",
       "    </tr>\n",
       "    <tr>\n",
       "      <th>18197</th>\n",
       "      <td>SO_BP</td>\n",
       "      <td>cNAC</td>\n",
       "    </tr>\n",
       "    <tr>\n",
       "      <th>18198</th>\n",
       "      <td>SO_BP</td>\n",
       "      <td>cNAC</td>\n",
       "    </tr>\n",
       "  </tbody>\n",
       "</table>\n",
       "<p>18198 rows × 2 columns</p>\n",
       "</div>"
      ],
      "text/plain": [
       "         mtype etype\n",
       "1      SLM_PPA   bAC\n",
       "2      SLM_PPA   bAC\n",
       "3      SLM_PPA   bAC\n",
       "4       SR_SCA   cAC\n",
       "5       SR_SCA   cAC\n",
       "...        ...   ...\n",
       "18194    SO_BP  cNAC\n",
       "18195    SO_BP  cNAC\n",
       "18196    SO_BP  cNAC\n",
       "18197    SO_BP  cNAC\n",
       "18198    SO_BP  cNAC\n",
       "\n",
       "[18198 rows x 2 columns]"
      ]
     },
     "execution_count": 22,
     "metadata": {},
     "output_type": "execute_result"
    }
   ],
   "source": [
    "cells.get(properties=[\"mtype\", \"etype\"])      # in bluepy"
   ]
  },
  {
   "cell_type": "code",
   "execution_count": 23,
   "metadata": {},
   "outputs": [
    {
     "data": {
      "text/html": [
       "<div>\n",
       "<style scoped>\n",
       "    .dataframe tbody tr th:only-of-type {\n",
       "        vertical-align: middle;\n",
       "    }\n",
       "\n",
       "    .dataframe tbody tr th {\n",
       "        vertical-align: top;\n",
       "    }\n",
       "\n",
       "    .dataframe thead th {\n",
       "        text-align: right;\n",
       "    }\n",
       "</style>\n",
       "<table border=\"1\" class=\"dataframe\">\n",
       "  <thead>\n",
       "    <tr style=\"text-align: right;\">\n",
       "      <th></th>\n",
       "      <th>mtype</th>\n",
       "      <th>etype</th>\n",
       "    </tr>\n",
       "    <tr>\n",
       "      <th>node_ids</th>\n",
       "      <th></th>\n",
       "      <th></th>\n",
       "    </tr>\n",
       "  </thead>\n",
       "  <tbody>\n",
       "    <tr>\n",
       "      <th>0</th>\n",
       "      <td>SLM_PPA</td>\n",
       "      <td>bAC</td>\n",
       "    </tr>\n",
       "    <tr>\n",
       "      <th>1</th>\n",
       "      <td>SLM_PPA</td>\n",
       "      <td>bAC</td>\n",
       "    </tr>\n",
       "    <tr>\n",
       "      <th>2</th>\n",
       "      <td>SLM_PPA</td>\n",
       "      <td>bAC</td>\n",
       "    </tr>\n",
       "    <tr>\n",
       "      <th>3</th>\n",
       "      <td>SR_SCA</td>\n",
       "      <td>cAC</td>\n",
       "    </tr>\n",
       "    <tr>\n",
       "      <th>4</th>\n",
       "      <td>SR_SCA</td>\n",
       "      <td>cAC</td>\n",
       "    </tr>\n",
       "    <tr>\n",
       "      <th>...</th>\n",
       "      <td>...</td>\n",
       "      <td>...</td>\n",
       "    </tr>\n",
       "    <tr>\n",
       "      <th>18193</th>\n",
       "      <td>SO_BP</td>\n",
       "      <td>cNAC</td>\n",
       "    </tr>\n",
       "    <tr>\n",
       "      <th>18194</th>\n",
       "      <td>SO_BP</td>\n",
       "      <td>cNAC</td>\n",
       "    </tr>\n",
       "    <tr>\n",
       "      <th>18195</th>\n",
       "      <td>SO_BP</td>\n",
       "      <td>cNAC</td>\n",
       "    </tr>\n",
       "    <tr>\n",
       "      <th>18196</th>\n",
       "      <td>SO_BP</td>\n",
       "      <td>cNAC</td>\n",
       "    </tr>\n",
       "    <tr>\n",
       "      <th>18197</th>\n",
       "      <td>SO_BP</td>\n",
       "      <td>cNAC</td>\n",
       "    </tr>\n",
       "  </tbody>\n",
       "</table>\n",
       "<p>18198 rows × 2 columns</p>\n",
       "</div>"
      ],
      "text/plain": [
       "            mtype etype\n",
       "node_ids               \n",
       "0         SLM_PPA   bAC\n",
       "1         SLM_PPA   bAC\n",
       "2         SLM_PPA   bAC\n",
       "3          SR_SCA   cAC\n",
       "4          SR_SCA   cAC\n",
       "...           ...   ...\n",
       "18193       SO_BP  cNAC\n",
       "18194       SO_BP  cNAC\n",
       "18195       SO_BP  cNAC\n",
       "18196       SO_BP  cNAC\n",
       "18197       SO_BP  cNAC\n",
       "\n",
       "[18198 rows x 2 columns]"
      ]
     },
     "execution_count": 23,
     "metadata": {},
     "output_type": "execute_result"
    }
   ],
   "source": [
    "snap_pop.get(properties=[\"mtype\", \"etype\"])   # in snap"
   ]
  },
  {
   "cell_type": "markdown",
   "metadata": {},
   "source": [
    "The results are both a [pandas.DataFrame](https://pandas.pydata.org/pandas-docs/stable/reference/api/pandas.DataFrame.html) with properties as columns and the `node_ids` (for snap) or `GIDs` (for bluepy) as index."
   ]
  },
  {
   "cell_type": "markdown",
   "metadata": {},
   "source": [
    "#### Properties enums\n",
    "\n",
    "Since snap is now cell/property agnostic, we could not give simple enums to work with all your data as we did in bluepy with the Cell and Synapse enums.  \n",
    "\n",
    "Instead, in snap, we provide a dedicated enum class called `ConstContainer.` This class can be used to easily create your custom enums:"
   ]
  },
  {
   "cell_type": "code",
   "execution_count": 24,
   "metadata": {},
   "outputs": [
    {
     "data": {
      "text/plain": [
       "'special_name_in_the_sonata_file_1'"
      ]
     },
     "execution_count": 24,
     "metadata": {},
     "output_type": "execute_result"
    }
   ],
   "source": [
    "from bluepysnap.sonata_constants import ConstContainer             # snap\n",
    "\n",
    "class MyCustomEnumForSpecificData(ConstContainer):                 # snap\n",
    "    MY_SPECIAL_VARIABLE_1 = \"special_name_in_the_sonata_file_1\"\n",
    "    MY_SPECIAL_VARIABLE_2 = \"special_name_in_the_sonata_file_2\"\n",
    "\n",
    "MyCustomEnumForSpecificData.MY_SPECIAL_VARIABLE_1"
   ]
  },
  {
   "cell_type": "markdown",
   "metadata": {},
   "source": [
    "And it comes with some tooling. For example, you can list all the keys contained in the enum using :"
   ]
  },
  {
   "cell_type": "code",
   "execution_count": 25,
   "metadata": {},
   "outputs": [
    {
     "data": {
      "text/plain": [
       "{'MY_SPECIAL_VARIABLE_1', 'MY_SPECIAL_VARIABLE_2'}"
      ]
     },
     "execution_count": 25,
     "metadata": {},
     "output_type": "execute_result"
    }
   ],
   "source": [
    "MyCustomEnumForSpecificData.key_set()"
   ]
  },
  {
   "cell_type": "markdown",
   "metadata": {},
   "source": [
    "You can access the values either using a direct call or a `get` function with a string:"
   ]
  },
  {
   "cell_type": "code",
   "execution_count": 26,
   "metadata": {
    "scrolled": true
   },
   "outputs": [
    {
     "name": "stdout",
     "output_type": "stream",
     "text": [
      "special_name_in_the_sonata_file_1\n",
      "special_name_in_the_sonata_file_1\n"
     ]
    }
   ],
   "source": [
    "print(MyCustomEnumForSpecificData.MY_SPECIAL_VARIABLE_1)                   # snap\n",
    "print(MyCustomEnumForSpecificData.get(\"MY_SPECIAL_VARIABLE_1\"))            # snap"
   ]
  },
  {
   "cell_type": "markdown",
   "metadata": {},
   "source": [
    "If your population data is a superset of a known `ConstContainer`, it is also very simple to use an already created enums from it. Let's imagine you have an already created `BiophysicalCells` enum:"
   ]
  },
  {
   "cell_type": "code",
   "execution_count": 27,
   "metadata": {},
   "outputs": [],
   "source": [
    "class BiophysicalCells(ConstContainer):   # snap\n",
    "    X = \"x\"\n",
    "    Y = \"y\"\n",
    "    Z = \"z\"\n",
    "    MORPHOLOGY = \"morphology\"    "
   ]
  },
  {
   "cell_type": "markdown",
   "metadata": {},
   "source": [
    "You can inherit from it to create a superset of the data :"
   ]
  },
  {
   "cell_type": "code",
   "execution_count": 28,
   "metadata": {},
   "outputs": [
    {
     "data": {
      "text/plain": [
       "{'ETYPE', 'MORPHOLOGY', 'MTYPE', 'X', 'Y', 'Z'}"
      ]
     },
     "execution_count": 28,
     "metadata": {},
     "output_type": "execute_result"
    }
   ],
   "source": [
    "class BiophysicalNeurons(BiophysicalCells):    # snap\n",
    "    MTYPE = \"mtype\"\n",
    "    ETYPE = \"etype\"\n",
    "\n",
    "BiophysicalNeurons.key_set()"
   ]
  },
  {
   "cell_type": "markdown",
   "metadata": {},
   "source": [
    "You can also use class mixin if your data is a combination of multiple data types:"
   ]
  },
  {
   "cell_type": "code",
   "execution_count": 29,
   "metadata": {
    "scrolled": true
   },
   "outputs": [
    {
     "name": "stdout",
     "output_type": "stream",
     "text": [
      "['MORPHOLOGY', 'RADIUS', 'X', 'Y', 'Z']\n"
     ]
    }
   ],
   "source": [
    "class VirtualAstrocyte(ConstContainer):                            # snap\n",
    "    RADIUS = \"radius\"\n",
    "\n",
    "class BiophysicalAstrocyte(BiophysicalCells, VirtualAstrocyte):    # snap\n",
    "    \"\"\"My biophysical astrocytes\"\"\"                                # if you don t need other properties you can leave it empty\n",
    "\n",
    "print(sorted(BiophysicalAstrocyte.key_set()))"
   ]
  },
  {
   "cell_type": "markdown",
   "metadata": {},
   "source": [
    "Finally, you may want to check what properties from your enum are present in your circuit population. To do that, you can use : "
   ]
  },
  {
   "cell_type": "code",
   "execution_count": 30,
   "metadata": {},
   "outputs": [
    {
     "data": {
      "text/plain": [
       "['MORPHOLOGY', 'X', 'Y', 'Z']"
      ]
     },
     "execution_count": 30,
     "metadata": {},
     "output_type": "execute_result"
    }
   ],
   "source": [
    "sorted(snap_pop.container_property_names(BiophysicalAstrocyte))   # snap"
   ]
  },
  {
   "cell_type": "markdown",
   "metadata": {},
   "source": [
    "Finding the missing fields is easy:"
   ]
  },
  {
   "cell_type": "code",
   "execution_count": 31,
   "metadata": {
    "scrolled": true
   },
   "outputs": [
    {
     "data": {
      "text/plain": [
       "{'RADIUS'}"
      ]
     },
     "execution_count": 31,
     "metadata": {},
     "output_type": "execute_result"
    }
   ],
   "source": [
    " BiophysicalAstrocyte.key_set() - set(snap_pop.container_property_names(BiophysicalAstrocyte))   # snap"
   ]
  },
  {
   "cell_type": "markdown",
   "metadata": {},
   "source": [
    "This snippet below can be used to validate your input populations. \n",
    "```\n",
    "from bluepysnap import Circuit\n",
    "from mycode import CellDataEnum\n",
    "\n",
    "circuit = Circuit(\"circuit_config.json\")\n",
    "missing = CellDataEnum.key_set() - set(circuit.nodes[\"my_pop\"].container_property_names(CellDataEnum))\n",
    "if missing :\n",
    "     raise MyException(f\"Missing : {missing} in my input node files.\")\n",
    "```"
   ]
  },
  {
   "cell_type": "markdown",
   "metadata": {},
   "source": [
    "To facilitate the use of sonata files and/or to ensure some compatibility from bluepy to snap we also provide some already made enums. The enum : "
   ]
  },
  {
   "cell_type": "code",
   "execution_count": 32,
   "metadata": {},
   "outputs": [],
   "source": [
    "from bluepysnap.sonata_constants import Node  # snap"
   ]
  },
  {
   "cell_type": "markdown",
   "metadata": {},
   "source": [
    "contains the [node required or reserved attributes](https://github.com/AllenInstitute/sonata/blob/master/docs/SONATA_DEVELOPER_GUIDE.md#nodes---required-attributes) from sonata."
   ]
  },
  {
   "cell_type": "code",
   "execution_count": 33,
   "metadata": {},
   "outputs": [],
   "source": [
    "from bluepysnap.sonata_constants import Edge  # snap"
   ]
  },
  {
   "cell_type": "markdown",
   "metadata": {},
   "source": [
    "contains the [edge required or reserved attributes](https://github.com/AllenInstitute/sonata/blob/master/docs/SONATA_DEVELOPER_GUIDE.md#edges---required-attributes) from sonata.\n",
    "\n",
    "We also made some enums for the BBP formats:"
   ]
  },
  {
   "cell_type": "code",
   "execution_count": 34,
   "metadata": {},
   "outputs": [],
   "source": [
    "from bluepysnap.bbp import Cell, Synapse      # snap"
   ]
  },
  {
   "cell_type": "markdown",
   "metadata": {},
   "source": [
    "`Cell` enum contains the typical properties of the neurons from BBP circuits and `Synapse` the typical synapse properties for the BBP circuits."
   ]
  },
  {
   "cell_type": "markdown",
   "metadata": {},
   "source": [
    "### Node queries\n",
    "\n",
    "We will now discuss how to extract the nodes (or cells) from the circuit. So first, let's introduce the famous `.ids` function from bluepy :"
   ]
  },
  {
   "cell_type": "code",
   "execution_count": 35,
   "metadata": {
    "scrolled": true
   },
   "outputs": [
    {
     "name": "stdout",
     "output_type": "stream",
     "text": [
      "bluepy [    1     2     3 ... 18196 18197 18198]\n"
     ]
    }
   ],
   "source": [
    "print(\"bluepy\", cells.ids())  # bluepy"
   ]
  },
  {
   "cell_type": "markdown",
   "metadata": {},
   "source": [
    "The same function has been propagated to snap :"
   ]
  },
  {
   "cell_type": "code",
   "execution_count": 36,
   "metadata": {},
   "outputs": [
    {
     "name": "stdout",
     "output_type": "stream",
     "text": [
      "snap [    0     1     2 ... 18195 18196 18197]\n"
     ]
    }
   ],
   "source": [
    "print(\"snap\", snap_pop.ids()) # snap, will return node ids in a numpy array"
   ]
  },
  {
   "cell_type": "markdown",
   "metadata": {},
   "source": [
    "As you can see, one major difference here is the 1-based GIDs from bluepy (due to historical reasons) and the 0-based node_ids from snap. A cell with `id=1` from bluepy refers to cell `node_id=0` from snap. \n",
    "\n",
    "---\n",
    "**IMPORTANT**\n",
    "\n",
    "Everything returned by a `NodePopulation` from snap will return `node_ids` and everything returned by the `Nodes` class will be a `CircuitNodeId`.\n",
    "If you want to create `CircuitNodeIds` from `node_ids` you can :"
   ]
  },
  {
   "cell_type": "code",
   "execution_count": 37,
   "metadata": {},
   "outputs": [],
   "source": [
    "CircuitNodeIds.from_dict({snap_pop.name: snap_pop.ids()});"
   ]
  },
  {
   "cell_type": "markdown",
   "metadata": {},
   "source": [
    "---\n",
    "The `.ids` function from snap is similar to the bluepy one and uses the same arguments. One difference though is the improved query system."
   ]
  },
  {
   "cell_type": "markdown",
   "metadata": {},
   "source": [
    "<a id='node_queries'></a>\n",
    "#### Query system\n",
    "\n",
    "We introduced in bluepy a very simple query system. This system has been propagated to snap and has been enriched with the possibility of creating more complex queries."
   ]
  },
  {
   "cell_type": "code",
   "execution_count": 38,
   "metadata": {},
   "outputs": [
    {
     "name": "stdout",
     "output_type": "stream",
     "text": [
      "[18189 18190 18191 18192 18193 18194 18195 18196 18197 18198]\n",
      "[18188 18189 18190 18191 18192 18193 18194 18195 18196 18197]\n"
     ]
    }
   ],
   "source": [
    "print(cells.ids({Cell.MTYPE: \"SO_BP\"}))        # bluepy\n",
    "print(snap_pop.ids({Cell.MTYPE: \"SO_BP\"}))     # snap"
   ]
  },
  {
   "cell_type": "code",
   "execution_count": 39,
   "metadata": {},
   "outputs": [
    {
     "name": "stdout",
     "output_type": "stream",
     "text": [
      "[  314  1206  1794  3980  4187  4422  6792  7420 10155 11864 12843 13179\n",
      " 14982 16022 16079]\n",
      "[  313  1205  1793  3979  4186  4421  6791  7419 10154 11863 12842 13178\n",
      " 14981 16021 16078]\n"
     ]
    }
   ],
   "source": [
    "print(cells.ids({Cell.X: (500, 501)}))      # bluepy\n",
    "print(snap_pop.ids({Cell.X: (500, 501)}))   # snap"
   ]
  },
  {
   "cell_type": "code",
   "execution_count": 40,
   "metadata": {},
   "outputs": [
    {
     "name": "stdout",
     "output_type": "stream",
     "text": [
      "[18191 18196]\n",
      "[18190 18195]\n"
     ]
    }
   ],
   "source": [
    "print(cells.ids({Cell.X: (500, 600),Cell.MTYPE: \"SO_BP\" }))     # bluepy\n",
    "print(snap_pop.ids({Cell.X: (500, 600),Cell.MTYPE: \"SO_BP\" }))  # snap"
   ]
  },
  {
   "cell_type": "code",
   "execution_count": 41,
   "metadata": {},
   "outputs": [
    {
     "name": "stdout",
     "output_type": "stream",
     "text": [
      "[    1     2     3 18189 18190 18191 18192 18193 18194 18195 18196 18197\n",
      " 18198]\n",
      "[    0     1     2 18188 18189 18190 18191 18192 18193 18194 18195 18196\n",
      " 18197]\n"
     ]
    }
   ],
   "source": [
    "print(cells.ids({Cell.MTYPE: [\"SO_BP\", \"SLM_PPA\"]}))        # bluepy\n",
    "print(snap_pop.ids({Cell.MTYPE: [\"SO_BP\", \"SLM_PPA\"]}))     # snap"
   ]
  },
  {
   "cell_type": "code",
   "execution_count": 42,
   "metadata": {},
   "outputs": [
    {
     "name": "stdout",
     "output_type": "stream",
     "text": [
      "[1 2 3]\n",
      "[0 1 2]\n"
     ]
    }
   ],
   "source": [
    "print(cells.ids(\"SLM_PPA\"))        # bluepy\n",
    "print(snap_pop.ids(\"SLM_PPA\"))     # snap"
   ]
  },
  {
   "cell_type": "code",
   "execution_count": 43,
   "metadata": {},
   "outputs": [
    {
     "name": "stdout",
     "output_type": "stream",
     "text": [
      "[1 2 3]\n",
      "[0 1 2]\n"
     ]
    }
   ],
   "source": [
    "print(cells.ids({\"$target\": \"SLM_PPA\"}))          # bluepy\n",
    "print(snap_pop.ids({\"$node_set\": \"SLM_PPA\"}))     # snap"
   ]
  },
  {
   "cell_type": "markdown",
   "metadata": {},
   "source": [
    "As you can see the query system is quite similar. But we still improved it in snap."
   ]
  },
  {
   "cell_type": "markdown",
   "metadata": {},
   "source": [
    "#### Snap improvements\n",
    "\n",
    "Now, if you have 2 different queries this is easy to combine them in snap:"
   ]
  },
  {
   "cell_type": "code",
   "execution_count": 44,
   "metadata": {},
   "outputs": [],
   "source": [
    "SO_BP_query = {Cell.MTYPE: \"SO_BP\"}                              # snap\n",
    "region_0_or_6_query = {Cell.REGION: {\"$regex\": \"^mc[0|6].*\"}}    # snap"
   ]
  },
  {
   "cell_type": "markdown",
   "metadata": {},
   "source": [
    "To verify the queries are ok, we will use the `get` function but the queries can be used in the `.ids` function also of course."
   ]
  },
  {
   "cell_type": "code",
   "execution_count": 45,
   "metadata": {},
   "outputs": [
    {
     "data": {
      "text/html": [
       "<div>\n",
       "<style scoped>\n",
       "    .dataframe tbody tr th:only-of-type {\n",
       "        vertical-align: middle;\n",
       "    }\n",
       "\n",
       "    .dataframe tbody tr th {\n",
       "        vertical-align: top;\n",
       "    }\n",
       "\n",
       "    .dataframe thead th {\n",
       "        text-align: right;\n",
       "    }\n",
       "</style>\n",
       "<table border=\"1\" class=\"dataframe\">\n",
       "  <thead>\n",
       "    <tr style=\"text-align: right;\">\n",
       "      <th></th>\n",
       "      <th>mtype</th>\n",
       "      <th>region</th>\n",
       "    </tr>\n",
       "    <tr>\n",
       "      <th>node_ids</th>\n",
       "      <th></th>\n",
       "      <th></th>\n",
       "    </tr>\n",
       "  </thead>\n",
       "  <tbody>\n",
       "    <tr>\n",
       "      <th>18188</th>\n",
       "      <td>SO_BP</td>\n",
       "      <td>mc5;SO</td>\n",
       "    </tr>\n",
       "    <tr>\n",
       "      <th>18189</th>\n",
       "      <td>SO_BP</td>\n",
       "      <td>mc1;SO</td>\n",
       "    </tr>\n",
       "    <tr>\n",
       "      <th>18190</th>\n",
       "      <td>SO_BP</td>\n",
       "      <td>mc6;SO</td>\n",
       "    </tr>\n",
       "    <tr>\n",
       "      <th>18191</th>\n",
       "      <td>SO_BP</td>\n",
       "      <td>mc6;SO</td>\n",
       "    </tr>\n",
       "    <tr>\n",
       "      <th>18192</th>\n",
       "      <td>SO_BP</td>\n",
       "      <td>mc6;SO</td>\n",
       "    </tr>\n",
       "  </tbody>\n",
       "</table>\n",
       "</div>"
      ],
      "text/plain": [
       "          mtype  region\n",
       "node_ids               \n",
       "18188     SO_BP  mc5;SO\n",
       "18189     SO_BP  mc1;SO\n",
       "18190     SO_BP  mc6;SO\n",
       "18191     SO_BP  mc6;SO\n",
       "18192     SO_BP  mc6;SO"
      ]
     },
     "execution_count": 45,
     "metadata": {},
     "output_type": "execute_result"
    }
   ],
   "source": [
    "snap_pop.get(SO_BP_query, properties=[\"mtype\", \"region\"]).head()    # snap"
   ]
  },
  {
   "cell_type": "markdown",
   "metadata": {},
   "source": [
    "We confirm that we have only SO_BP mtypes."
   ]
  },
  {
   "cell_type": "code",
   "execution_count": 46,
   "metadata": {},
   "outputs": [
    {
     "data": {
      "text/html": [
       "<div>\n",
       "<style scoped>\n",
       "    .dataframe tbody tr th:only-of-type {\n",
       "        vertical-align: middle;\n",
       "    }\n",
       "\n",
       "    .dataframe tbody tr th {\n",
       "        vertical-align: top;\n",
       "    }\n",
       "\n",
       "    .dataframe thead th {\n",
       "        text-align: right;\n",
       "    }\n",
       "</style>\n",
       "<table border=\"1\" class=\"dataframe\">\n",
       "  <thead>\n",
       "    <tr style=\"text-align: right;\">\n",
       "      <th></th>\n",
       "      <th>mtype</th>\n",
       "      <th>region</th>\n",
       "    </tr>\n",
       "    <tr>\n",
       "      <th>node_ids</th>\n",
       "      <th></th>\n",
       "      <th></th>\n",
       "    </tr>\n",
       "  </thead>\n",
       "  <tbody>\n",
       "    <tr>\n",
       "      <th>2</th>\n",
       "      <td>SLM_PPA</td>\n",
       "      <td>mc6;SLM</td>\n",
       "    </tr>\n",
       "    <tr>\n",
       "      <th>6</th>\n",
       "      <td>SR_SCA</td>\n",
       "      <td>mc0;SR</td>\n",
       "    </tr>\n",
       "    <tr>\n",
       "      <th>8</th>\n",
       "      <td>SR_SCA</td>\n",
       "      <td>mc6;SR</td>\n",
       "    </tr>\n",
       "    <tr>\n",
       "      <th>10</th>\n",
       "      <td>SR_SCA</td>\n",
       "      <td>mc0;SR</td>\n",
       "    </tr>\n",
       "    <tr>\n",
       "      <th>13</th>\n",
       "      <td>SR_SCA</td>\n",
       "      <td>mc6;SR</td>\n",
       "    </tr>\n",
       "  </tbody>\n",
       "</table>\n",
       "</div>"
      ],
      "text/plain": [
       "            mtype   region\n",
       "node_ids                  \n",
       "2         SLM_PPA  mc6;SLM\n",
       "6          SR_SCA   mc0;SR\n",
       "8          SR_SCA   mc6;SR\n",
       "10         SR_SCA   mc0;SR\n",
       "13         SR_SCA   mc6;SR"
      ]
     },
     "execution_count": 46,
     "metadata": {},
     "output_type": "execute_result"
    }
   ],
   "source": [
    "snap_pop.get(region_0_or_6_query, properties=[\"mtype\", \"region\"]).head()  # snap"
   ]
  },
  {
   "cell_type": "markdown",
   "metadata": {},
   "source": [
    "We only have mc0 or mc6 regions.\n",
    "\n",
    "Now lets combine them:"
   ]
  },
  {
   "cell_type": "code",
   "execution_count": 47,
   "metadata": {},
   "outputs": [
    {
     "data": {
      "text/html": [
       "<div>\n",
       "<style scoped>\n",
       "    .dataframe tbody tr th:only-of-type {\n",
       "        vertical-align: middle;\n",
       "    }\n",
       "\n",
       "    .dataframe tbody tr th {\n",
       "        vertical-align: top;\n",
       "    }\n",
       "\n",
       "    .dataframe thead th {\n",
       "        text-align: right;\n",
       "    }\n",
       "</style>\n",
       "<table border=\"1\" class=\"dataframe\">\n",
       "  <thead>\n",
       "    <tr style=\"text-align: right;\">\n",
       "      <th></th>\n",
       "      <th>mtype</th>\n",
       "      <th>region</th>\n",
       "    </tr>\n",
       "    <tr>\n",
       "      <th>node_ids</th>\n",
       "      <th></th>\n",
       "      <th></th>\n",
       "    </tr>\n",
       "  </thead>\n",
       "  <tbody>\n",
       "    <tr>\n",
       "      <th>18190</th>\n",
       "      <td>SO_BP</td>\n",
       "      <td>mc6;SO</td>\n",
       "    </tr>\n",
       "    <tr>\n",
       "      <th>18191</th>\n",
       "      <td>SO_BP</td>\n",
       "      <td>mc6;SO</td>\n",
       "    </tr>\n",
       "    <tr>\n",
       "      <th>18192</th>\n",
       "      <td>SO_BP</td>\n",
       "      <td>mc6;SO</td>\n",
       "    </tr>\n",
       "    <tr>\n",
       "      <th>18195</th>\n",
       "      <td>SO_BP</td>\n",
       "      <td>mc0;SO</td>\n",
       "    </tr>\n",
       "  </tbody>\n",
       "</table>\n",
       "</div>"
      ],
      "text/plain": [
       "          mtype  region\n",
       "node_ids               \n",
       "18190     SO_BP  mc6;SO\n",
       "18191     SO_BP  mc6;SO\n",
       "18192     SO_BP  mc6;SO\n",
       "18195     SO_BP  mc0;SO"
      ]
     },
     "execution_count": 47,
     "metadata": {},
     "output_type": "execute_result"
    }
   ],
   "source": [
    "SO_BP_and_region_0_or_6_query = {\"$and\":[region_0_or_6_query, SO_BP_query]}\n",
    "snap_pop.get(SO_BP_and_region_0_or_6_query, properties=[\"mtype\", \"region\"])  # snap"
   ]
  },
  {
   "cell_type": "markdown",
   "metadata": {},
   "source": [
    "In the last query, only the `SO_BP` from the `mc0` and `mc6` regions are selected. \n",
    "\n",
    "The same type of queries can be done using the `$or` key, and of course you can nest the different queries :"
   ]
  },
  {
   "cell_type": "code",
   "execution_count": 48,
   "metadata": {},
   "outputs": [
    {
     "data": {
      "text/html": [
       "<div>\n",
       "<style scoped>\n",
       "    .dataframe tbody tr th:only-of-type {\n",
       "        vertical-align: middle;\n",
       "    }\n",
       "\n",
       "    .dataframe tbody tr th {\n",
       "        vertical-align: top;\n",
       "    }\n",
       "\n",
       "    .dataframe thead th {\n",
       "        text-align: right;\n",
       "    }\n",
       "</style>\n",
       "<table border=\"1\" class=\"dataframe\">\n",
       "  <thead>\n",
       "    <tr style=\"text-align: right;\">\n",
       "      <th></th>\n",
       "      <th>mtype</th>\n",
       "      <th>region</th>\n",
       "    </tr>\n",
       "    <tr>\n",
       "      <th>node_ids</th>\n",
       "      <th></th>\n",
       "      <th></th>\n",
       "    </tr>\n",
       "  </thead>\n",
       "  <tbody>\n",
       "    <tr>\n",
       "      <th>0</th>\n",
       "      <td>SLM_PPA</td>\n",
       "      <td>mc5;SLM</td>\n",
       "    </tr>\n",
       "    <tr>\n",
       "      <th>1</th>\n",
       "      <td>SLM_PPA</td>\n",
       "      <td>mc3;SLM</td>\n",
       "    </tr>\n",
       "    <tr>\n",
       "      <th>2</th>\n",
       "      <td>SLM_PPA</td>\n",
       "      <td>mc6;SLM</td>\n",
       "    </tr>\n",
       "    <tr>\n",
       "      <th>18190</th>\n",
       "      <td>SO_BP</td>\n",
       "      <td>mc6;SO</td>\n",
       "    </tr>\n",
       "    <tr>\n",
       "      <th>18191</th>\n",
       "      <td>SO_BP</td>\n",
       "      <td>mc6;SO</td>\n",
       "    </tr>\n",
       "    <tr>\n",
       "      <th>18192</th>\n",
       "      <td>SO_BP</td>\n",
       "      <td>mc6;SO</td>\n",
       "    </tr>\n",
       "    <tr>\n",
       "      <th>18195</th>\n",
       "      <td>SO_BP</td>\n",
       "      <td>mc0;SO</td>\n",
       "    </tr>\n",
       "  </tbody>\n",
       "</table>\n",
       "</div>"
      ],
      "text/plain": [
       "            mtype   region\n",
       "node_ids                  \n",
       "0         SLM_PPA  mc5;SLM\n",
       "1         SLM_PPA  mc3;SLM\n",
       "2         SLM_PPA  mc6;SLM\n",
       "18190       SO_BP   mc6;SO\n",
       "18191       SO_BP   mc6;SO\n",
       "18192       SO_BP   mc6;SO\n",
       "18195       SO_BP   mc0;SO"
      ]
     },
     "execution_count": 48,
     "metadata": {},
     "output_type": "execute_result"
    }
   ],
   "source": [
    "SLM = {\"mtype\": \"SLM_PPA\"}\n",
    "SO_BP_and_region_0_or_6_query_or_SLM = {\"$or\":[SO_BP_and_region_0_or_6_query, SLM]}  # snap, with nested queries\n",
    "snap_pop.get(SO_BP_and_region_0_or_6_query_or_SLM, properties=[\"mtype\", \"region\"])   # snap"
   ]
  },
  {
   "cell_type": "markdown",
   "metadata": {},
   "source": [
    "We can now also select a particular populations using the keyword `population`, and a list of node ids using the keword `node_id`:"
   ]
  },
  {
   "cell_type": "code",
   "execution_count": 49,
   "metadata": {},
   "outputs": [
    {
     "name": "stdout",
     "output_type": "stream",
     "text": [
      "[    0     1     2 ... 18195 18196 18197]\n",
      "[]\n"
     ]
    }
   ],
   "source": [
    "population_query = {\"population\": \"hippocampus_neurons\"}  # the correct population\n",
    "print(snap_pop.ids(population_query))                     # snap   \n",
    "\n",
    "unknown_population_query = {\"population\": \"unknown\"}      # an unknown population\n",
    "print(snap_pop.ids(unknown_population_query))             # snap, result should be empty"
   ]
  },
  {
   "cell_type": "code",
   "execution_count": 50,
   "metadata": {},
   "outputs": [
    {
     "name": "stdout",
     "output_type": "stream",
     "text": [
      "[3 4 5]\n"
     ]
    }
   ],
   "source": [
    "query = {\"population\": \"hippocampus_neurons\", \"node_id\": [3,4,5]}  # query with a population and node_ids\n",
    "print(snap_pop.ids(query))                                         # snap"
   ]
  },
  {
   "cell_type": "code",
   "execution_count": 51,
   "metadata": {},
   "outputs": [
    {
     "name": "stdout",
     "output_type": "stream",
     "text": [
      "[3 4 5]\n"
     ]
    }
   ],
   "source": [
    "query = {\"population\": \"hippocampus_neurons\", \"node_id\": [3,4,5, 200000]}  # missing node_id will not raise \n",
    "print(snap_pop.ids(query))                                                 # snap"
   ]
  },
  {
   "cell_type": "markdown",
   "metadata": {},
   "source": [
    "### Querying the full circuit : the nodes interface\n",
    "\n",
    "We have seen how to perform queries on a single population but sometimes it can be more suited to retrieve data from the whole circuit instead. To do so the `nodes` interface can be used. The node interface mimics all the functions from the node population but applies them to the full circuit. This has no equivalent in bluepy."
   ]
  },
  {
   "cell_type": "markdown",
   "metadata": {},
   "source": [
    "#### Querying the circuit ids\n",
    "\n",
    "We are now at the circuit level and we want to query the cells from here. You need to remember the `node_ids` are not unique at the circuit level, that's why the `nodes` interface returns `CircuitNodeIds` instead. Let's try it: "
   ]
  },
  {
   "cell_type": "code",
   "execution_count": 52,
   "metadata": {},
   "outputs": [
    {
     "name": "stdout",
     "output_type": "stream",
     "text": [
      "CircuitNodeIds([(    'hippocampus_neurons',     0),\n",
      "            (    'hippocampus_neurons',     1),\n",
      "            (    'hippocampus_neurons',     2),\n",
      "            (    'hippocampus_neurons',     3),\n",
      "            (    'hippocampus_neurons',     4),\n",
      "            (    'hippocampus_neurons',     5),\n",
      "            (    'hippocampus_neurons',     6),\n",
      "            (    'hippocampus_neurons',     7),\n",
      "            (    'hippocampus_neurons',     8),\n",
      "            (    'hippocampus_neurons',     9),\n",
      "            ...\n",
      "            ('hippocampus_projections', 15918),\n",
      "            ('hippocampus_projections', 15919),\n",
      "            ('hippocampus_projections', 15920),\n",
      "            ('hippocampus_projections', 15921),\n",
      "            ('hippocampus_projections', 15922),\n",
      "            ('hippocampus_projections', 15923),\n",
      "            ('hippocampus_projections', 15924),\n",
      "            ('hippocampus_projections', 15925),\n",
      "            ('hippocampus_projections', 15926),\n",
      "            ('hippocampus_projections', 15927)],\n",
      "           names=['population', 'node_ids'], length=34126)\n"
     ]
    }
   ],
   "source": [
    "all_ids = snap_circuit.nodes.ids()   # snap\n",
    "print(all_ids)"
   ]
  },
  {
   "cell_type": "markdown",
   "metadata": {},
   "source": [
    "All the `CircuitNodeIds` from the circuit are returned here. This includes the `node_ids` from the \"hippocampus_neurons\" population and the `node_ids` from the \"hippocampus_projections\" population.\n",
    "\n",
    "As shown before, we can now play with the outputted `CircuitNodeIds`. We can, for example, select only the nodes from the \"hippocampus_neurons\" population (without any circuit request): "
   ]
  },
  {
   "cell_type": "code",
   "execution_count": 53,
   "metadata": {},
   "outputs": [
    {
     "name": "stdout",
     "output_type": "stream",
     "text": [
      "CircuitNodeIds([('hippocampus_neurons',     0),\n",
      "            ('hippocampus_neurons',     1),\n",
      "            ('hippocampus_neurons',     2),\n",
      "            ('hippocampus_neurons',     3),\n",
      "            ('hippocampus_neurons',     4),\n",
      "            ('hippocampus_neurons',     5),\n",
      "            ('hippocampus_neurons',     6),\n",
      "            ('hippocampus_neurons',     7),\n",
      "            ('hippocampus_neurons',     8),\n",
      "            ('hippocampus_neurons',     9),\n",
      "            ...\n",
      "            ('hippocampus_neurons', 18188),\n",
      "            ('hippocampus_neurons', 18189),\n",
      "            ('hippocampus_neurons', 18190),\n",
      "            ('hippocampus_neurons', 18191),\n",
      "            ('hippocampus_neurons', 18192),\n",
      "            ('hippocampus_neurons', 18193),\n",
      "            ('hippocampus_neurons', 18194),\n",
      "            ('hippocampus_neurons', 18195),\n",
      "            ('hippocampus_neurons', 18196),\n",
      "            ('hippocampus_neurons', 18197)],\n",
      "           names=['population', 'node_ids'], length=18198)\n"
     ]
    }
   ],
   "source": [
    "proj_ids= all_ids.filter_population('hippocampus_neurons')   # snap \n",
    "print(proj_ids)"
   ]
  },
  {
   "cell_type": "markdown",
   "metadata": {},
   "source": [
    "Then a random sample of 5 of these ids : "
   ]
  },
  {
   "cell_type": "code",
   "execution_count": 54,
   "metadata": {},
   "outputs": [
    {
     "name": "stdout",
     "output_type": "stream",
     "text": [
      "CircuitNodeIds([('hippocampus_neurons',  4173),\n",
      "            ('hippocampus_neurons',  6673),\n",
      "            ('hippocampus_neurons', 14125),\n",
      "            ('hippocampus_neurons',  3860),\n",
      "            ('hippocampus_neurons',  4301)],\n",
      "           names=['population', 'node_ids'])\n"
     ]
    }
   ],
   "source": [
    "test_ids = proj_ids.sample(5)  # snap \n",
    "print(test_ids)"
   ]
  },
  {
   "cell_type": "markdown",
   "metadata": {},
   "source": [
    "You can also use the `CircuitNodeIds` in a `NodePopulation` and `node_ids` from the corresponding population will be returned. : "
   ]
  },
  {
   "cell_type": "code",
   "execution_count": 55,
   "metadata": {},
   "outputs": [
    {
     "data": {
      "text/plain": [
       "array([ 4173,  6673, 14125,  3860,  4301])"
      ]
     },
     "execution_count": 55,
     "metadata": {},
     "output_type": "execute_result"
    }
   ],
   "source": [
    "snap_circuit.nodes[\"hippocampus_neurons\"].ids(test_ids) # snap "
   ]
  },
  {
   "cell_type": "markdown",
   "metadata": {},
   "source": [
    "or in the `NodePopulation.get` function:"
   ]
  },
  {
   "cell_type": "code",
   "execution_count": 56,
   "metadata": {},
   "outputs": [
    {
     "data": {
      "text/html": [
       "<div>\n",
       "<style scoped>\n",
       "    .dataframe tbody tr th:only-of-type {\n",
       "        vertical-align: middle;\n",
       "    }\n",
       "\n",
       "    .dataframe tbody tr th {\n",
       "        vertical-align: top;\n",
       "    }\n",
       "\n",
       "    .dataframe thead th {\n",
       "        text-align: right;\n",
       "    }\n",
       "</style>\n",
       "<table border=\"1\" class=\"dataframe\">\n",
       "  <thead>\n",
       "    <tr style=\"text-align: right;\">\n",
       "      <th></th>\n",
       "      <th>etype</th>\n",
       "      <th>layer</th>\n",
       "      <th>model_template</th>\n",
       "      <th>model_type</th>\n",
       "      <th>morph_class</th>\n",
       "      <th>morphology</th>\n",
       "      <th>mtype</th>\n",
       "      <th>region</th>\n",
       "      <th>rotation_angle_xaxis</th>\n",
       "      <th>rotation_angle_yaxis</th>\n",
       "      <th>rotation_angle_zaxis</th>\n",
       "      <th>synapse_class</th>\n",
       "      <th>x</th>\n",
       "      <th>y</th>\n",
       "      <th>z</th>\n",
       "      <th>@dynamics:holding_current</th>\n",
       "      <th>@dynamics:threshold_current</th>\n",
       "    </tr>\n",
       "    <tr>\n",
       "      <th>node_ids</th>\n",
       "      <th></th>\n",
       "      <th></th>\n",
       "      <th></th>\n",
       "      <th></th>\n",
       "      <th></th>\n",
       "      <th></th>\n",
       "      <th></th>\n",
       "      <th></th>\n",
       "      <th></th>\n",
       "      <th></th>\n",
       "      <th></th>\n",
       "      <th></th>\n",
       "      <th></th>\n",
       "      <th></th>\n",
       "      <th></th>\n",
       "      <th></th>\n",
       "      <th></th>\n",
       "    </tr>\n",
       "  </thead>\n",
       "  <tbody>\n",
       "    <tr>\n",
       "      <th>4173</th>\n",
       "      <td>cACpyr</td>\n",
       "      <td>SP</td>\n",
       "      <td>hoc:CA1_pyr_cACpyr_mpg141209_A_idA_2019032814464</td>\n",
       "      <td>biophysical</td>\n",
       "      <td>PYR</td>\n",
       "      <td>dend-oh140521_B0_Rat_idC_axon-mpg141017_a1-2_i...</td>\n",
       "      <td>SP_PC</td>\n",
       "      <td>mc5;SP</td>\n",
       "      <td>-0.000000</td>\n",
       "      <td>0.518586</td>\n",
       "      <td>-0.000000</td>\n",
       "      <td>EXC</td>\n",
       "      <td>508.142444</td>\n",
       "      <td>202.848622</td>\n",
       "      <td>971.278636</td>\n",
       "      <td>-0.165389</td>\n",
       "      <td>0.419922</td>\n",
       "    </tr>\n",
       "    <tr>\n",
       "      <th>6673</th>\n",
       "      <td>cACpyr</td>\n",
       "      <td>SP</td>\n",
       "      <td>hoc:CA1_pyr_cACpyr_mpg150305_A_idB_2019030511201</td>\n",
       "      <td>biophysical</td>\n",
       "      <td>PYR</td>\n",
       "      <td>dend-oh140521_B0_Rat_idC_axon-mpg141017_a1-2_i...</td>\n",
       "      <td>SP_PC</td>\n",
       "      <td>mc4;SP</td>\n",
       "      <td>-3.141593</td>\n",
       "      <td>1.044388</td>\n",
       "      <td>-3.141593</td>\n",
       "      <td>EXC</td>\n",
       "      <td>163.516278</td>\n",
       "      <td>226.262661</td>\n",
       "      <td>730.785459</td>\n",
       "      <td>-0.190510</td>\n",
       "      <td>0.400391</td>\n",
       "    </tr>\n",
       "    <tr>\n",
       "      <th>14125</th>\n",
       "      <td>cACpyr</td>\n",
       "      <td>SP</td>\n",
       "      <td>hoc:CA1_pyr_cACpyr_oh140807_A0_idH_2019032814315</td>\n",
       "      <td>biophysical</td>\n",
       "      <td>PYR</td>\n",
       "      <td>dend-051208AM2_axon-mpg141017_a1-2_idC_-_Scale...</td>\n",
       "      <td>SP_PC</td>\n",
       "      <td>mc2;SP</td>\n",
       "      <td>-3.141593</td>\n",
       "      <td>-0.087939</td>\n",
       "      <td>-3.141593</td>\n",
       "      <td>EXC</td>\n",
       "      <td>261.794778</td>\n",
       "      <td>177.621379</td>\n",
       "      <td>665.952718</td>\n",
       "      <td>-0.072330</td>\n",
       "      <td>0.283203</td>\n",
       "    </tr>\n",
       "    <tr>\n",
       "      <th>3860</th>\n",
       "      <td>cACpyr</td>\n",
       "      <td>SP</td>\n",
       "      <td>hoc:CA1_pyr_cACpyr_mpg150305_A_idB_2019030511201</td>\n",
       "      <td>biophysical</td>\n",
       "      <td>PYR</td>\n",
       "      <td>dend-mpg141216_A_idC_axon-mpg141017_a1-2_idC_-...</td>\n",
       "      <td>SP_PC</td>\n",
       "      <td>mc0;SP</td>\n",
       "      <td>0.000000</td>\n",
       "      <td>-0.316378</td>\n",
       "      <td>0.000000</td>\n",
       "      <td>EXC</td>\n",
       "      <td>206.891631</td>\n",
       "      <td>204.050092</td>\n",
       "      <td>234.309292</td>\n",
       "      <td>-0.102156</td>\n",
       "      <td>0.263672</td>\n",
       "    </tr>\n",
       "    <tr>\n",
       "      <th>4301</th>\n",
       "      <td>cACpyr</td>\n",
       "      <td>SP</td>\n",
       "      <td>hoc:CA1_pyr_cACpyr_oh140807_A0_idH_2019032814315</td>\n",
       "      <td>biophysical</td>\n",
       "      <td>PYR</td>\n",
       "      <td>dend-mpg141216_A_idA_axon-mpg141017_a1-2_idC_-...</td>\n",
       "      <td>SP_PC</td>\n",
       "      <td>mc6;SP</td>\n",
       "      <td>-3.141593</td>\n",
       "      <td>0.436389</td>\n",
       "      <td>-3.141593</td>\n",
       "      <td>EXC</td>\n",
       "      <td>671.884950</td>\n",
       "      <td>178.230139</td>\n",
       "      <td>856.435378</td>\n",
       "      <td>-0.109276</td>\n",
       "      <td>0.302734</td>\n",
       "    </tr>\n",
       "  </tbody>\n",
       "</table>\n",
       "</div>"
      ],
      "text/plain": [
       "           etype layer                                    model_template  \\\n",
       "node_ids                                                                   \n",
       "4173      cACpyr    SP  hoc:CA1_pyr_cACpyr_mpg141209_A_idA_2019032814464   \n",
       "6673      cACpyr    SP  hoc:CA1_pyr_cACpyr_mpg150305_A_idB_2019030511201   \n",
       "14125     cACpyr    SP  hoc:CA1_pyr_cACpyr_oh140807_A0_idH_2019032814315   \n",
       "3860      cACpyr    SP  hoc:CA1_pyr_cACpyr_mpg150305_A_idB_2019030511201   \n",
       "4301      cACpyr    SP  hoc:CA1_pyr_cACpyr_oh140807_A0_idH_2019032814315   \n",
       "\n",
       "           model_type morph_class  \\\n",
       "node_ids                            \n",
       "4173      biophysical         PYR   \n",
       "6673      biophysical         PYR   \n",
       "14125     biophysical         PYR   \n",
       "3860      biophysical         PYR   \n",
       "4301      biophysical         PYR   \n",
       "\n",
       "                                                 morphology  mtype  region  \\\n",
       "node_ids                                                                     \n",
       "4173      dend-oh140521_B0_Rat_idC_axon-mpg141017_a1-2_i...  SP_PC  mc5;SP   \n",
       "6673      dend-oh140521_B0_Rat_idC_axon-mpg141017_a1-2_i...  SP_PC  mc4;SP   \n",
       "14125     dend-051208AM2_axon-mpg141017_a1-2_idC_-_Scale...  SP_PC  mc2;SP   \n",
       "3860      dend-mpg141216_A_idC_axon-mpg141017_a1-2_idC_-...  SP_PC  mc0;SP   \n",
       "4301      dend-mpg141216_A_idA_axon-mpg141017_a1-2_idC_-...  SP_PC  mc6;SP   \n",
       "\n",
       "          rotation_angle_xaxis  rotation_angle_yaxis  rotation_angle_zaxis  \\\n",
       "node_ids                                                                     \n",
       "4173                 -0.000000              0.518586             -0.000000   \n",
       "6673                 -3.141593              1.044388             -3.141593   \n",
       "14125                -3.141593             -0.087939             -3.141593   \n",
       "3860                  0.000000             -0.316378              0.000000   \n",
       "4301                 -3.141593              0.436389             -3.141593   \n",
       "\n",
       "         synapse_class           x           y           z  \\\n",
       "node_ids                                                     \n",
       "4173               EXC  508.142444  202.848622  971.278636   \n",
       "6673               EXC  163.516278  226.262661  730.785459   \n",
       "14125              EXC  261.794778  177.621379  665.952718   \n",
       "3860               EXC  206.891631  204.050092  234.309292   \n",
       "4301               EXC  671.884950  178.230139  856.435378   \n",
       "\n",
       "          @dynamics:holding_current  @dynamics:threshold_current  \n",
       "node_ids                                                          \n",
       "4173                      -0.165389                     0.419922  \n",
       "6673                      -0.190510                     0.400391  \n",
       "14125                     -0.072330                     0.283203  \n",
       "3860                      -0.102156                     0.263672  \n",
       "4301                      -0.109276                     0.302734  "
      ]
     },
     "execution_count": 56,
     "metadata": {},
     "output_type": "execute_result"
    }
   ],
   "source": [
    "snap_circuit.nodes[\"hippocampus_neurons\"].get(test_ids) # snap "
   ]
  },
  {
   "cell_type": "markdown",
   "metadata": {},
   "source": [
    "If we try to use the `test_ids` in the projection population then no `node_ids` are returned (`test_ids` only contains ids from the \"hippocampus_neurons\" population):"
   ]
  },
  {
   "cell_type": "code",
   "execution_count": 57,
   "metadata": {},
   "outputs": [
    {
     "data": {
      "text/plain": [
       "array([], dtype=int64)"
      ]
     },
     "execution_count": 57,
     "metadata": {},
     "output_type": "execute_result"
    }
   ],
   "source": [
    "snap_circuit.nodes[\"hippocampus_projections\"].ids(test_ids)    # snap "
   ]
  },
  {
   "cell_type": "markdown",
   "metadata": {},
   "source": [
    "You can also access the nodes by performing a query in the `circuit.nodes.ids()` function:"
   ]
  },
  {
   "cell_type": "code",
   "execution_count": 58,
   "metadata": {},
   "outputs": [
    {
     "data": {
      "text/plain": [
       "CircuitNodeIds([('hippocampus_projections',     0),\n",
       "            ('hippocampus_projections',     1),\n",
       "            ('hippocampus_projections',     2),\n",
       "            ('hippocampus_projections',     3),\n",
       "            ('hippocampus_projections',     4),\n",
       "            ('hippocampus_projections',     5),\n",
       "            ('hippocampus_projections',     6),\n",
       "            ('hippocampus_projections',     7),\n",
       "            ('hippocampus_projections',     8),\n",
       "            ('hippocampus_projections',     9),\n",
       "            ...\n",
       "            ('hippocampus_projections', 15918),\n",
       "            ('hippocampus_projections', 15919),\n",
       "            ('hippocampus_projections', 15920),\n",
       "            ('hippocampus_projections', 15921),\n",
       "            ('hippocampus_projections', 15922),\n",
       "            ('hippocampus_projections', 15923),\n",
       "            ('hippocampus_projections', 15924),\n",
       "            ('hippocampus_projections', 15925),\n",
       "            ('hippocampus_projections', 15926),\n",
       "            ('hippocampus_projections', 15927)],\n",
       "           names=['population', 'node_ids'], length=15928)"
      ]
     },
     "execution_count": 58,
     "metadata": {},
     "output_type": "execute_result"
    }
   ],
   "source": [
    "virtual_nodes = {\"model_type\": \"virtual\"}   # snap \n",
    "snap_circuit.nodes.ids(virtual_nodes)       # snap "
   ]
  },
  {
   "cell_type": "markdown",
   "metadata": {},
   "source": [
    "We can see that only the \"hippocampus_projections\" neurons are returned here. They are the only one with a `model_type` equal to \"virtual\".\n",
    "\n",
    "Of course all the queries described [here](#Query-system) can be used also:"
   ]
  },
  {
   "cell_type": "code",
   "execution_count": 59,
   "metadata": {},
   "outputs": [
    {
     "data": {
      "text/plain": [
       "CircuitNodeIds([('hippocampus_neurons',     0),\n",
       "            ('hippocampus_neurons',     1),\n",
       "            ('hippocampus_neurons',     2),\n",
       "            ('hippocampus_neurons',   313),\n",
       "            ('hippocampus_neurons',  1205),\n",
       "            ('hippocampus_neurons',  1793),\n",
       "            ('hippocampus_neurons',  3979),\n",
       "            ('hippocampus_neurons',  4186),\n",
       "            ('hippocampus_neurons',  4421),\n",
       "            ('hippocampus_neurons',  6791),\n",
       "            ('hippocampus_neurons',  7419),\n",
       "            ('hippocampus_neurons', 10154),\n",
       "            ('hippocampus_neurons', 11863),\n",
       "            ('hippocampus_neurons', 12842),\n",
       "            ('hippocampus_neurons', 13178),\n",
       "            ('hippocampus_neurons', 14981),\n",
       "            ('hippocampus_neurons', 16021),\n",
       "            ('hippocampus_neurons', 16078)],\n",
       "           names=['population', 'node_ids'])"
      ]
     },
     "execution_count": 59,
     "metadata": {},
     "output_type": "execute_result"
    }
   ],
   "source": [
    "complex_query = {\"$or\": [{\"x\": (500, 501)}, {\"mtype\": \"SLM_PPA\"}]}\n",
    "snap_circuit.nodes.ids(complex_query)   # snap"
   ]
  },
  {
   "cell_type": "markdown",
   "metadata": {},
   "source": [
    "If you are using `node_ids` as queries, you will obtain the corresponding `node_ids` for all populations:"
   ]
  },
  {
   "cell_type": "code",
   "execution_count": 60,
   "metadata": {},
   "outputs": [
    {
     "data": {
      "text/plain": [
       "CircuitNodeIds([(    'hippocampus_neurons', 1),\n",
       "            (    'hippocampus_neurons', 2),\n",
       "            ('hippocampus_projections', 1),\n",
       "            ('hippocampus_projections', 2)],\n",
       "           names=['population', 'node_ids'])"
      ]
     },
     "execution_count": 60,
     "metadata": {},
     "output_type": "execute_result"
    }
   ],
   "source": [
    "snap_circuit.nodes.ids([1, 2])   # snap"
   ]
  },
  {
   "cell_type": "markdown",
   "metadata": {},
   "source": [
    "You can also use the `node_id` special key as a query :"
   ]
  },
  {
   "cell_type": "code",
   "execution_count": 61,
   "metadata": {},
   "outputs": [
    {
     "data": {
      "text/plain": [
       "CircuitNodeIds([(    'hippocampus_neurons', 1),\n",
       "            (    'hippocampus_neurons', 2),\n",
       "            ('hippocampus_projections', 1),\n",
       "            ('hippocampus_projections', 2)],\n",
       "           names=['population', 'node_ids'])"
      ]
     },
     "execution_count": 61,
     "metadata": {},
     "output_type": "execute_result"
    }
   ],
   "source": [
    "snap_circuit.nodes.ids({\"node_id\": [1,2]})  # snap"
   ]
  },
  {
   "cell_type": "markdown",
   "metadata": {},
   "source": [
    "And population as a special key also:"
   ]
  },
  {
   "cell_type": "code",
   "execution_count": 62,
   "metadata": {},
   "outputs": [
    {
     "data": {
      "text/plain": [
       "CircuitNodeIds([('hippocampus_neurons',     0),\n",
       "            ('hippocampus_neurons',     1),\n",
       "            ('hippocampus_neurons',     2),\n",
       "            ('hippocampus_neurons',     3),\n",
       "            ('hippocampus_neurons',     4),\n",
       "            ('hippocampus_neurons',     5),\n",
       "            ('hippocampus_neurons',     6),\n",
       "            ('hippocampus_neurons',     7),\n",
       "            ('hippocampus_neurons',     8),\n",
       "            ('hippocampus_neurons',     9),\n",
       "            ...\n",
       "            ('hippocampus_neurons', 18188),\n",
       "            ('hippocampus_neurons', 18189),\n",
       "            ('hippocampus_neurons', 18190),\n",
       "            ('hippocampus_neurons', 18191),\n",
       "            ('hippocampus_neurons', 18192),\n",
       "            ('hippocampus_neurons', 18193),\n",
       "            ('hippocampus_neurons', 18194),\n",
       "            ('hippocampus_neurons', 18195),\n",
       "            ('hippocampus_neurons', 18196),\n",
       "            ('hippocampus_neurons', 18197)],\n",
       "           names=['population', 'node_ids'], length=18198)"
      ]
     },
     "execution_count": 62,
     "metadata": {},
     "output_type": "execute_result"
    }
   ],
   "source": [
    "snap_circuit.nodes.ids({\"population\": \"hippocampus_neurons\"})  # snap"
   ]
  },
  {
   "cell_type": "markdown",
   "metadata": {},
   "source": [
    "Or both :"
   ]
  },
  {
   "cell_type": "code",
   "execution_count": 63,
   "metadata": {},
   "outputs": [
    {
     "data": {
      "text/plain": [
       "CircuitNodeIds([('hippocampus_neurons', 1),\n",
       "            ('hippocampus_neurons', 2)],\n",
       "           names=['population', 'node_ids'])"
      ]
     },
     "execution_count": 63,
     "metadata": {},
     "output_type": "execute_result"
    }
   ],
   "source": [
    "snap_circuit.nodes.ids({\"population\": \"hippocampus_neurons\", \"node_id\": [1,2]})  # snap"
   ]
  },
  {
   "cell_type": "markdown",
   "metadata": {},
   "source": [
    "#### Accessing the node properties\n",
    "\n",
    "This part is very similar to this [one](#Accessing-the-properties). So we will go quickly through the functionalities.\n",
    "\n",
    "We can check all the properties from the circuit using :"
   ]
  },
  {
   "cell_type": "code",
   "execution_count": 64,
   "metadata": {},
   "outputs": [
    {
     "data": {
      "text/plain": [
       "{'@dynamics:holding_current',\n",
       " '@dynamics:threshold_current',\n",
       " 'etype',\n",
       " 'layer',\n",
       " 'model_template',\n",
       " 'model_type',\n",
       " 'morph_class',\n",
       " 'morphology',\n",
       " 'mtype',\n",
       " 'region',\n",
       " 'rotation_angle_xaxis',\n",
       " 'rotation_angle_yaxis',\n",
       " 'rotation_angle_zaxis',\n",
       " 'synapse_class',\n",
       " 'x',\n",
       " 'y',\n",
       " 'z'}"
      ]
     },
     "execution_count": 64,
     "metadata": {},
     "output_type": "execute_result"
    }
   ],
   "source": [
    "snap_circuit.nodes.property_names  # snap"
   ]
  },
  {
   "cell_type": "markdown",
   "metadata": {},
   "source": [
    "same for the dtypes and values."
   ]
  },
  {
   "cell_type": "markdown",
   "metadata": {},
   "source": [
    "You can access all the cells properties from the circuit using the `get()` method.\n",
    "\n",
    "Starting from snap 2.0, this is a generator function yielding tuples `(population_name, df)`, where each yielded Pandas DataFrame may have different columns, depending on the available properties."
   ]
  },
  {
   "cell_type": "code",
   "execution_count": 65,
   "metadata": {},
   "outputs": [
    {
     "name": "stdout",
     "output_type": "stream",
     "text": [
      "Node population: hippocampus_neurons\n",
      "Node population: hippocampus_projections\n"
     ]
    },
    {
     "data": {
      "text/html": [
       "<div>\n",
       "<style scoped>\n",
       "    .dataframe tbody tr th:only-of-type {\n",
       "        vertical-align: middle;\n",
       "    }\n",
       "\n",
       "    .dataframe tbody tr th {\n",
       "        vertical-align: top;\n",
       "    }\n",
       "\n",
       "    .dataframe thead th {\n",
       "        text-align: right;\n",
       "    }\n",
       "</style>\n",
       "<table border=\"1\" class=\"dataframe\">\n",
       "  <thead>\n",
       "    <tr style=\"text-align: right;\">\n",
       "      <th></th>\n",
       "      <th></th>\n",
       "      <th>@dynamics:holding_current</th>\n",
       "      <th>@dynamics:threshold_current</th>\n",
       "      <th>etype</th>\n",
       "      <th>layer</th>\n",
       "      <th>model_template</th>\n",
       "      <th>model_type</th>\n",
       "      <th>morph_class</th>\n",
       "      <th>morphology</th>\n",
       "      <th>mtype</th>\n",
       "      <th>region</th>\n",
       "      <th>rotation_angle_xaxis</th>\n",
       "      <th>rotation_angle_yaxis</th>\n",
       "      <th>rotation_angle_zaxis</th>\n",
       "      <th>synapse_class</th>\n",
       "      <th>x</th>\n",
       "      <th>y</th>\n",
       "      <th>z</th>\n",
       "    </tr>\n",
       "    <tr>\n",
       "      <th>population</th>\n",
       "      <th>node_ids</th>\n",
       "      <th></th>\n",
       "      <th></th>\n",
       "      <th></th>\n",
       "      <th></th>\n",
       "      <th></th>\n",
       "      <th></th>\n",
       "      <th></th>\n",
       "      <th></th>\n",
       "      <th></th>\n",
       "      <th></th>\n",
       "      <th></th>\n",
       "      <th></th>\n",
       "      <th></th>\n",
       "      <th></th>\n",
       "      <th></th>\n",
       "      <th></th>\n",
       "      <th></th>\n",
       "    </tr>\n",
       "  </thead>\n",
       "  <tbody>\n",
       "    <tr>\n",
       "      <th rowspan=\"5\" valign=\"top\">hippocampus_neurons</th>\n",
       "      <th>0</th>\n",
       "      <td>0.028962</td>\n",
       "      <td>0.224609</td>\n",
       "      <td>bAC</td>\n",
       "      <td>SLM</td>\n",
       "      <td>hoc:CA1_int_bAC_011127HP1_2019032911561</td>\n",
       "      <td>biophysical</td>\n",
       "      <td>INT</td>\n",
       "      <td>011127HP1_-_Scale_x1.000_y0.850_z1.000</td>\n",
       "      <td>SLM_PPA</td>\n",
       "      <td>mc5;SLM</td>\n",
       "      <td>-0.000000</td>\n",
       "      <td>0.306704</td>\n",
       "      <td>-0.000000</td>\n",
       "      <td>INH</td>\n",
       "      <td>409.446689</td>\n",
       "      <td>525.218483</td>\n",
       "      <td>1074.146619</td>\n",
       "    </tr>\n",
       "    <tr>\n",
       "      <th>1</th>\n",
       "      <td>0.028962</td>\n",
       "      <td>0.224609</td>\n",
       "      <td>bAC</td>\n",
       "      <td>SLM</td>\n",
       "      <td>hoc:CA1_int_bAC_011127HP1_2019032911561</td>\n",
       "      <td>biophysical</td>\n",
       "      <td>INT</td>\n",
       "      <td>011127HP1_-_Scale_x1.000_y0.850_z1.000</td>\n",
       "      <td>SLM_PPA</td>\n",
       "      <td>mc3;SLM</td>\n",
       "      <td>-3.141593</td>\n",
       "      <td>1.051681</td>\n",
       "      <td>-3.141593</td>\n",
       "      <td>INH</td>\n",
       "      <td>692.961402</td>\n",
       "      <td>511.187277</td>\n",
       "      <td>573.179832</td>\n",
       "    </tr>\n",
       "    <tr>\n",
       "      <th>2</th>\n",
       "      <td>0.028962</td>\n",
       "      <td>0.224609</td>\n",
       "      <td>bAC</td>\n",
       "      <td>SLM</td>\n",
       "      <td>hoc:CA1_int_bAC_011127HP1_2019032911561</td>\n",
       "      <td>biophysical</td>\n",
       "      <td>INT</td>\n",
       "      <td>011127HP1_-_Scale_x1.000_y0.850_z1.000</td>\n",
       "      <td>SLM_PPA</td>\n",
       "      <td>mc6;SLM</td>\n",
       "      <td>-3.141593</td>\n",
       "      <td>1.393882</td>\n",
       "      <td>-3.141593</td>\n",
       "      <td>INH</td>\n",
       "      <td>624.142630</td>\n",
       "      <td>520.641475</td>\n",
       "      <td>976.924721</td>\n",
       "    </tr>\n",
       "    <tr>\n",
       "      <th>3</th>\n",
       "      <td>0.005140</td>\n",
       "      <td>0.341797</td>\n",
       "      <td>cAC</td>\n",
       "      <td>SR</td>\n",
       "      <td>hoc:CA1_int_cAC_990611HP2_2019032816214</td>\n",
       "      <td>biophysical</td>\n",
       "      <td>INT</td>\n",
       "      <td>990611HP2</td>\n",
       "      <td>SR_SCA</td>\n",
       "      <td>mc5;SR</td>\n",
       "      <td>-3.141593</td>\n",
       "      <td>0.347655</td>\n",
       "      <td>-3.141593</td>\n",
       "      <td>INH</td>\n",
       "      <td>430.543380</td>\n",
       "      <td>411.999965</td>\n",
       "      <td>1180.185218</td>\n",
       "    </tr>\n",
       "    <tr>\n",
       "      <th>4</th>\n",
       "      <td>0.004947</td>\n",
       "      <td>0.341797</td>\n",
       "      <td>cAC</td>\n",
       "      <td>SR</td>\n",
       "      <td>hoc:CA1_int_cAC_990611HP2_2019032816214</td>\n",
       "      <td>biophysical</td>\n",
       "      <td>INT</td>\n",
       "      <td>990611HP2_-_Scale_x1.000_y1.050_z1.000</td>\n",
       "      <td>SR_SCA</td>\n",
       "      <td>mc5;SR</td>\n",
       "      <td>-0.000000</td>\n",
       "      <td>0.137277</td>\n",
       "      <td>-0.000000</td>\n",
       "      <td>INH</td>\n",
       "      <td>427.936977</td>\n",
       "      <td>302.239247</td>\n",
       "      <td>1013.453517</td>\n",
       "    </tr>\n",
       "  </tbody>\n",
       "</table>\n",
       "</div>"
      ],
      "text/plain": [
       "                              @dynamics:holding_current  \\\n",
       "population          node_ids                              \n",
       "hippocampus_neurons 0                          0.028962   \n",
       "                    1                          0.028962   \n",
       "                    2                          0.028962   \n",
       "                    3                          0.005140   \n",
       "                    4                          0.004947   \n",
       "\n",
       "                              @dynamics:threshold_current etype layer  \\\n",
       "population          node_ids                                            \n",
       "hippocampus_neurons 0                            0.224609   bAC   SLM   \n",
       "                    1                            0.224609   bAC   SLM   \n",
       "                    2                            0.224609   bAC   SLM   \n",
       "                    3                            0.341797   cAC    SR   \n",
       "                    4                            0.341797   cAC    SR   \n",
       "\n",
       "                                                       model_template  \\\n",
       "population          node_ids                                            \n",
       "hippocampus_neurons 0         hoc:CA1_int_bAC_011127HP1_2019032911561   \n",
       "                    1         hoc:CA1_int_bAC_011127HP1_2019032911561   \n",
       "                    2         hoc:CA1_int_bAC_011127HP1_2019032911561   \n",
       "                    3         hoc:CA1_int_cAC_990611HP2_2019032816214   \n",
       "                    4         hoc:CA1_int_cAC_990611HP2_2019032816214   \n",
       "\n",
       "                               model_type morph_class  \\\n",
       "population          node_ids                            \n",
       "hippocampus_neurons 0         biophysical         INT   \n",
       "                    1         biophysical         INT   \n",
       "                    2         biophysical         INT   \n",
       "                    3         biophysical         INT   \n",
       "                    4         biophysical         INT   \n",
       "\n",
       "                                                          morphology    mtype  \\\n",
       "population          node_ids                                                    \n",
       "hippocampus_neurons 0         011127HP1_-_Scale_x1.000_y0.850_z1.000  SLM_PPA   \n",
       "                    1         011127HP1_-_Scale_x1.000_y0.850_z1.000  SLM_PPA   \n",
       "                    2         011127HP1_-_Scale_x1.000_y0.850_z1.000  SLM_PPA   \n",
       "                    3                                      990611HP2   SR_SCA   \n",
       "                    4         990611HP2_-_Scale_x1.000_y1.050_z1.000   SR_SCA   \n",
       "\n",
       "                               region  rotation_angle_xaxis  \\\n",
       "population          node_ids                                  \n",
       "hippocampus_neurons 0         mc5;SLM             -0.000000   \n",
       "                    1         mc3;SLM             -3.141593   \n",
       "                    2         mc6;SLM             -3.141593   \n",
       "                    3          mc5;SR             -3.141593   \n",
       "                    4          mc5;SR             -0.000000   \n",
       "\n",
       "                              rotation_angle_yaxis  rotation_angle_zaxis  \\\n",
       "population          node_ids                                               \n",
       "hippocampus_neurons 0                     0.306704             -0.000000   \n",
       "                    1                     1.051681             -3.141593   \n",
       "                    2                     1.393882             -3.141593   \n",
       "                    3                     0.347655             -3.141593   \n",
       "                    4                     0.137277             -0.000000   \n",
       "\n",
       "                             synapse_class           x           y  \\\n",
       "population          node_ids                                         \n",
       "hippocampus_neurons 0                  INH  409.446689  525.218483   \n",
       "                    1                  INH  692.961402  511.187277   \n",
       "                    2                  INH  624.142630  520.641475   \n",
       "                    3                  INH  430.543380  411.999965   \n",
       "                    4                  INH  427.936977  302.239247   \n",
       "\n",
       "                                        z  \n",
       "population          node_ids               \n",
       "hippocampus_neurons 0         1074.146619  \n",
       "                    1          573.179832  \n",
       "                    2          976.924721  \n",
       "                    3         1180.185218  \n",
       "                    4         1013.453517  "
      ]
     },
     "metadata": {},
     "output_type": "display_data"
    },
    {
     "data": {
      "text/html": [
       "<div>\n",
       "<style scoped>\n",
       "    .dataframe tbody tr th:only-of-type {\n",
       "        vertical-align: middle;\n",
       "    }\n",
       "\n",
       "    .dataframe tbody tr th {\n",
       "        vertical-align: top;\n",
       "    }\n",
       "\n",
       "    .dataframe thead th {\n",
       "        text-align: right;\n",
       "    }\n",
       "</style>\n",
       "<table border=\"1\" class=\"dataframe\">\n",
       "  <thead>\n",
       "    <tr style=\"text-align: right;\">\n",
       "      <th></th>\n",
       "      <th></th>\n",
       "      <th>model_type</th>\n",
       "    </tr>\n",
       "    <tr>\n",
       "      <th>population</th>\n",
       "      <th>node_ids</th>\n",
       "      <th></th>\n",
       "    </tr>\n",
       "  </thead>\n",
       "  <tbody>\n",
       "    <tr>\n",
       "      <th rowspan=\"5\" valign=\"top\">hippocampus_projections</th>\n",
       "      <th>0</th>\n",
       "      <td>virtual</td>\n",
       "    </tr>\n",
       "    <tr>\n",
       "      <th>1</th>\n",
       "      <td>virtual</td>\n",
       "    </tr>\n",
       "    <tr>\n",
       "      <th>2</th>\n",
       "      <td>virtual</td>\n",
       "    </tr>\n",
       "    <tr>\n",
       "      <th>3</th>\n",
       "      <td>virtual</td>\n",
       "    </tr>\n",
       "    <tr>\n",
       "      <th>4</th>\n",
       "      <td>virtual</td>\n",
       "    </tr>\n",
       "  </tbody>\n",
       "</table>\n",
       "</div>"
      ],
      "text/plain": [
       "                                 model_type\n",
       "population              node_ids           \n",
       "hippocampus_projections 0           virtual\n",
       "                        1           virtual\n",
       "                        2           virtual\n",
       "                        3           virtual\n",
       "                        4           virtual"
      ]
     },
     "metadata": {},
     "output_type": "display_data"
    }
   ],
   "source": [
    "for pop_name, df in snap_circuit.nodes.get():  # snap\n",
    "    print(f\"Node population: {pop_name}\")\n",
    "    display(df.head())"
   ]
  },
  {
   "cell_type": "markdown",
   "metadata": {},
   "source": [
    "This time the returned data is a bit more complex compared to the `snap_circuit.nodes[\"hippocampus_neurons\"].get`.  Not all the fields from a population are present in all another population. Here you can see the \"hippocampus_projections\" population, being a virtual population, only has a defined `model_type`.\n",
    "\n",
    "If you really need a single full DataFrame, you can still concatenate the single DataFrames using the standard Pandas functions, for example:"
   ]
  },
  {
   "cell_type": "code",
   "execution_count": 66,
   "metadata": {},
   "outputs": [
    {
     "data": {
      "text/html": [
       "<div>\n",
       "<style scoped>\n",
       "    .dataframe tbody tr th:only-of-type {\n",
       "        vertical-align: middle;\n",
       "    }\n",
       "\n",
       "    .dataframe tbody tr th {\n",
       "        vertical-align: top;\n",
       "    }\n",
       "\n",
       "    .dataframe thead th {\n",
       "        text-align: right;\n",
       "    }\n",
       "</style>\n",
       "<table border=\"1\" class=\"dataframe\">\n",
       "  <thead>\n",
       "    <tr style=\"text-align: right;\">\n",
       "      <th></th>\n",
       "      <th></th>\n",
       "      <th>@dynamics:holding_current</th>\n",
       "      <th>@dynamics:threshold_current</th>\n",
       "      <th>etype</th>\n",
       "      <th>layer</th>\n",
       "      <th>model_template</th>\n",
       "      <th>model_type</th>\n",
       "      <th>morph_class</th>\n",
       "      <th>morphology</th>\n",
       "      <th>mtype</th>\n",
       "      <th>region</th>\n",
       "      <th>rotation_angle_xaxis</th>\n",
       "      <th>rotation_angle_yaxis</th>\n",
       "      <th>rotation_angle_zaxis</th>\n",
       "      <th>synapse_class</th>\n",
       "      <th>x</th>\n",
       "      <th>y</th>\n",
       "      <th>z</th>\n",
       "    </tr>\n",
       "    <tr>\n",
       "      <th>population</th>\n",
       "      <th>node_ids</th>\n",
       "      <th></th>\n",
       "      <th></th>\n",
       "      <th></th>\n",
       "      <th></th>\n",
       "      <th></th>\n",
       "      <th></th>\n",
       "      <th></th>\n",
       "      <th></th>\n",
       "      <th></th>\n",
       "      <th></th>\n",
       "      <th></th>\n",
       "      <th></th>\n",
       "      <th></th>\n",
       "      <th></th>\n",
       "      <th></th>\n",
       "      <th></th>\n",
       "      <th></th>\n",
       "    </tr>\n",
       "  </thead>\n",
       "  <tbody>\n",
       "    <tr>\n",
       "      <th rowspan=\"5\" valign=\"top\">hippocampus_neurons</th>\n",
       "      <th>0</th>\n",
       "      <td>0.028962</td>\n",
       "      <td>0.224609</td>\n",
       "      <td>bAC</td>\n",
       "      <td>SLM</td>\n",
       "      <td>hoc:CA1_int_bAC_011127HP1_2019032911561</td>\n",
       "      <td>biophysical</td>\n",
       "      <td>INT</td>\n",
       "      <td>011127HP1_-_Scale_x1.000_y0.850_z1.000</td>\n",
       "      <td>SLM_PPA</td>\n",
       "      <td>mc5;SLM</td>\n",
       "      <td>-0.000000</td>\n",
       "      <td>0.306704</td>\n",
       "      <td>-0.000000</td>\n",
       "      <td>INH</td>\n",
       "      <td>409.446689</td>\n",
       "      <td>525.218483</td>\n",
       "      <td>1074.146619</td>\n",
       "    </tr>\n",
       "    <tr>\n",
       "      <th>1</th>\n",
       "      <td>0.028962</td>\n",
       "      <td>0.224609</td>\n",
       "      <td>bAC</td>\n",
       "      <td>SLM</td>\n",
       "      <td>hoc:CA1_int_bAC_011127HP1_2019032911561</td>\n",
       "      <td>biophysical</td>\n",
       "      <td>INT</td>\n",
       "      <td>011127HP1_-_Scale_x1.000_y0.850_z1.000</td>\n",
       "      <td>SLM_PPA</td>\n",
       "      <td>mc3;SLM</td>\n",
       "      <td>-3.141593</td>\n",
       "      <td>1.051681</td>\n",
       "      <td>-3.141593</td>\n",
       "      <td>INH</td>\n",
       "      <td>692.961402</td>\n",
       "      <td>511.187277</td>\n",
       "      <td>573.179832</td>\n",
       "    </tr>\n",
       "    <tr>\n",
       "      <th>2</th>\n",
       "      <td>0.028962</td>\n",
       "      <td>0.224609</td>\n",
       "      <td>bAC</td>\n",
       "      <td>SLM</td>\n",
       "      <td>hoc:CA1_int_bAC_011127HP1_2019032911561</td>\n",
       "      <td>biophysical</td>\n",
       "      <td>INT</td>\n",
       "      <td>011127HP1_-_Scale_x1.000_y0.850_z1.000</td>\n",
       "      <td>SLM_PPA</td>\n",
       "      <td>mc6;SLM</td>\n",
       "      <td>-3.141593</td>\n",
       "      <td>1.393882</td>\n",
       "      <td>-3.141593</td>\n",
       "      <td>INH</td>\n",
       "      <td>624.142630</td>\n",
       "      <td>520.641475</td>\n",
       "      <td>976.924721</td>\n",
       "    </tr>\n",
       "    <tr>\n",
       "      <th>3</th>\n",
       "      <td>0.005140</td>\n",
       "      <td>0.341797</td>\n",
       "      <td>cAC</td>\n",
       "      <td>SR</td>\n",
       "      <td>hoc:CA1_int_cAC_990611HP2_2019032816214</td>\n",
       "      <td>biophysical</td>\n",
       "      <td>INT</td>\n",
       "      <td>990611HP2</td>\n",
       "      <td>SR_SCA</td>\n",
       "      <td>mc5;SR</td>\n",
       "      <td>-3.141593</td>\n",
       "      <td>0.347655</td>\n",
       "      <td>-3.141593</td>\n",
       "      <td>INH</td>\n",
       "      <td>430.543380</td>\n",
       "      <td>411.999965</td>\n",
       "      <td>1180.185218</td>\n",
       "    </tr>\n",
       "    <tr>\n",
       "      <th>4</th>\n",
       "      <td>0.004947</td>\n",
       "      <td>0.341797</td>\n",
       "      <td>cAC</td>\n",
       "      <td>SR</td>\n",
       "      <td>hoc:CA1_int_cAC_990611HP2_2019032816214</td>\n",
       "      <td>biophysical</td>\n",
       "      <td>INT</td>\n",
       "      <td>990611HP2_-_Scale_x1.000_y1.050_z1.000</td>\n",
       "      <td>SR_SCA</td>\n",
       "      <td>mc5;SR</td>\n",
       "      <td>-0.000000</td>\n",
       "      <td>0.137277</td>\n",
       "      <td>-0.000000</td>\n",
       "      <td>INH</td>\n",
       "      <td>427.936977</td>\n",
       "      <td>302.239247</td>\n",
       "      <td>1013.453517</td>\n",
       "    </tr>\n",
       "    <tr>\n",
       "      <th>...</th>\n",
       "      <th>...</th>\n",
       "      <td>...</td>\n",
       "      <td>...</td>\n",
       "      <td>...</td>\n",
       "      <td>...</td>\n",
       "      <td>...</td>\n",
       "      <td>...</td>\n",
       "      <td>...</td>\n",
       "      <td>...</td>\n",
       "      <td>...</td>\n",
       "      <td>...</td>\n",
       "      <td>...</td>\n",
       "      <td>...</td>\n",
       "      <td>...</td>\n",
       "      <td>...</td>\n",
       "      <td>...</td>\n",
       "      <td>...</td>\n",
       "      <td>...</td>\n",
       "    </tr>\n",
       "    <tr>\n",
       "      <th rowspan=\"5\" valign=\"top\">hippocampus_projections</th>\n",
       "      <th>15923</th>\n",
       "      <td>NaN</td>\n",
       "      <td>NaN</td>\n",
       "      <td>NaN</td>\n",
       "      <td>NaN</td>\n",
       "      <td>NaN</td>\n",
       "      <td>virtual</td>\n",
       "      <td>NaN</td>\n",
       "      <td>NaN</td>\n",
       "      <td>NaN</td>\n",
       "      <td>NaN</td>\n",
       "      <td>NaN</td>\n",
       "      <td>NaN</td>\n",
       "      <td>NaN</td>\n",
       "      <td>NaN</td>\n",
       "      <td>NaN</td>\n",
       "      <td>NaN</td>\n",
       "      <td>NaN</td>\n",
       "    </tr>\n",
       "    <tr>\n",
       "      <th>15924</th>\n",
       "      <td>NaN</td>\n",
       "      <td>NaN</td>\n",
       "      <td>NaN</td>\n",
       "      <td>NaN</td>\n",
       "      <td>NaN</td>\n",
       "      <td>virtual</td>\n",
       "      <td>NaN</td>\n",
       "      <td>NaN</td>\n",
       "      <td>NaN</td>\n",
       "      <td>NaN</td>\n",
       "      <td>NaN</td>\n",
       "      <td>NaN</td>\n",
       "      <td>NaN</td>\n",
       "      <td>NaN</td>\n",
       "      <td>NaN</td>\n",
       "      <td>NaN</td>\n",
       "      <td>NaN</td>\n",
       "    </tr>\n",
       "    <tr>\n",
       "      <th>15925</th>\n",
       "      <td>NaN</td>\n",
       "      <td>NaN</td>\n",
       "      <td>NaN</td>\n",
       "      <td>NaN</td>\n",
       "      <td>NaN</td>\n",
       "      <td>virtual</td>\n",
       "      <td>NaN</td>\n",
       "      <td>NaN</td>\n",
       "      <td>NaN</td>\n",
       "      <td>NaN</td>\n",
       "      <td>NaN</td>\n",
       "      <td>NaN</td>\n",
       "      <td>NaN</td>\n",
       "      <td>NaN</td>\n",
       "      <td>NaN</td>\n",
       "      <td>NaN</td>\n",
       "      <td>NaN</td>\n",
       "    </tr>\n",
       "    <tr>\n",
       "      <th>15926</th>\n",
       "      <td>NaN</td>\n",
       "      <td>NaN</td>\n",
       "      <td>NaN</td>\n",
       "      <td>NaN</td>\n",
       "      <td>NaN</td>\n",
       "      <td>virtual</td>\n",
       "      <td>NaN</td>\n",
       "      <td>NaN</td>\n",
       "      <td>NaN</td>\n",
       "      <td>NaN</td>\n",
       "      <td>NaN</td>\n",
       "      <td>NaN</td>\n",
       "      <td>NaN</td>\n",
       "      <td>NaN</td>\n",
       "      <td>NaN</td>\n",
       "      <td>NaN</td>\n",
       "      <td>NaN</td>\n",
       "    </tr>\n",
       "    <tr>\n",
       "      <th>15927</th>\n",
       "      <td>NaN</td>\n",
       "      <td>NaN</td>\n",
       "      <td>NaN</td>\n",
       "      <td>NaN</td>\n",
       "      <td>NaN</td>\n",
       "      <td>virtual</td>\n",
       "      <td>NaN</td>\n",
       "      <td>NaN</td>\n",
       "      <td>NaN</td>\n",
       "      <td>NaN</td>\n",
       "      <td>NaN</td>\n",
       "      <td>NaN</td>\n",
       "      <td>NaN</td>\n",
       "      <td>NaN</td>\n",
       "      <td>NaN</td>\n",
       "      <td>NaN</td>\n",
       "      <td>NaN</td>\n",
       "    </tr>\n",
       "  </tbody>\n",
       "</table>\n",
       "<p>34126 rows × 17 columns</p>\n",
       "</div>"
      ],
      "text/plain": [
       "                                  @dynamics:holding_current  \\\n",
       "population              node_ids                              \n",
       "hippocampus_neurons     0                          0.028962   \n",
       "                        1                          0.028962   \n",
       "                        2                          0.028962   \n",
       "                        3                          0.005140   \n",
       "                        4                          0.004947   \n",
       "...                                                     ...   \n",
       "hippocampus_projections 15923                           NaN   \n",
       "                        15924                           NaN   \n",
       "                        15925                           NaN   \n",
       "                        15926                           NaN   \n",
       "                        15927                           NaN   \n",
       "\n",
       "                                  @dynamics:threshold_current etype layer  \\\n",
       "population              node_ids                                            \n",
       "hippocampus_neurons     0                            0.224609   bAC   SLM   \n",
       "                        1                            0.224609   bAC   SLM   \n",
       "                        2                            0.224609   bAC   SLM   \n",
       "                        3                            0.341797   cAC    SR   \n",
       "                        4                            0.341797   cAC    SR   \n",
       "...                                                       ...   ...   ...   \n",
       "hippocampus_projections 15923                             NaN   NaN   NaN   \n",
       "                        15924                             NaN   NaN   NaN   \n",
       "                        15925                             NaN   NaN   NaN   \n",
       "                        15926                             NaN   NaN   NaN   \n",
       "                        15927                             NaN   NaN   NaN   \n",
       "\n",
       "                                                           model_template  \\\n",
       "population              node_ids                                            \n",
       "hippocampus_neurons     0         hoc:CA1_int_bAC_011127HP1_2019032911561   \n",
       "                        1         hoc:CA1_int_bAC_011127HP1_2019032911561   \n",
       "                        2         hoc:CA1_int_bAC_011127HP1_2019032911561   \n",
       "                        3         hoc:CA1_int_cAC_990611HP2_2019032816214   \n",
       "                        4         hoc:CA1_int_cAC_990611HP2_2019032816214   \n",
       "...                                                                   ...   \n",
       "hippocampus_projections 15923                                         NaN   \n",
       "                        15924                                         NaN   \n",
       "                        15925                                         NaN   \n",
       "                        15926                                         NaN   \n",
       "                        15927                                         NaN   \n",
       "\n",
       "                                   model_type morph_class  \\\n",
       "population              node_ids                            \n",
       "hippocampus_neurons     0         biophysical         INT   \n",
       "                        1         biophysical         INT   \n",
       "                        2         biophysical         INT   \n",
       "                        3         biophysical         INT   \n",
       "                        4         biophysical         INT   \n",
       "...                                       ...         ...   \n",
       "hippocampus_projections 15923         virtual         NaN   \n",
       "                        15924         virtual         NaN   \n",
       "                        15925         virtual         NaN   \n",
       "                        15926         virtual         NaN   \n",
       "                        15927         virtual         NaN   \n",
       "\n",
       "                                                              morphology  \\\n",
       "population              node_ids                                           \n",
       "hippocampus_neurons     0         011127HP1_-_Scale_x1.000_y0.850_z1.000   \n",
       "                        1         011127HP1_-_Scale_x1.000_y0.850_z1.000   \n",
       "                        2         011127HP1_-_Scale_x1.000_y0.850_z1.000   \n",
       "                        3                                      990611HP2   \n",
       "                        4         990611HP2_-_Scale_x1.000_y1.050_z1.000   \n",
       "...                                                                  ...   \n",
       "hippocampus_projections 15923                                        NaN   \n",
       "                        15924                                        NaN   \n",
       "                        15925                                        NaN   \n",
       "                        15926                                        NaN   \n",
       "                        15927                                        NaN   \n",
       "\n",
       "                                    mtype   region  rotation_angle_xaxis  \\\n",
       "population              node_ids                                           \n",
       "hippocampus_neurons     0         SLM_PPA  mc5;SLM             -0.000000   \n",
       "                        1         SLM_PPA  mc3;SLM             -3.141593   \n",
       "                        2         SLM_PPA  mc6;SLM             -3.141593   \n",
       "                        3          SR_SCA   mc5;SR             -3.141593   \n",
       "                        4          SR_SCA   mc5;SR             -0.000000   \n",
       "...                                   ...      ...                   ...   \n",
       "hippocampus_projections 15923         NaN      NaN                   NaN   \n",
       "                        15924         NaN      NaN                   NaN   \n",
       "                        15925         NaN      NaN                   NaN   \n",
       "                        15926         NaN      NaN                   NaN   \n",
       "                        15927         NaN      NaN                   NaN   \n",
       "\n",
       "                                  rotation_angle_yaxis  rotation_angle_zaxis  \\\n",
       "population              node_ids                                               \n",
       "hippocampus_neurons     0                     0.306704             -0.000000   \n",
       "                        1                     1.051681             -3.141593   \n",
       "                        2                     1.393882             -3.141593   \n",
       "                        3                     0.347655             -3.141593   \n",
       "                        4                     0.137277             -0.000000   \n",
       "...                                                ...                   ...   \n",
       "hippocampus_projections 15923                      NaN                   NaN   \n",
       "                        15924                      NaN                   NaN   \n",
       "                        15925                      NaN                   NaN   \n",
       "                        15926                      NaN                   NaN   \n",
       "                        15927                      NaN                   NaN   \n",
       "\n",
       "                                 synapse_class           x           y  \\\n",
       "population              node_ids                                         \n",
       "hippocampus_neurons     0                  INH  409.446689  525.218483   \n",
       "                        1                  INH  692.961402  511.187277   \n",
       "                        2                  INH  624.142630  520.641475   \n",
       "                        3                  INH  430.543380  411.999965   \n",
       "                        4                  INH  427.936977  302.239247   \n",
       "...                                        ...         ...         ...   \n",
       "hippocampus_projections 15923              NaN         NaN         NaN   \n",
       "                        15924              NaN         NaN         NaN   \n",
       "                        15925              NaN         NaN         NaN   \n",
       "                        15926              NaN         NaN         NaN   \n",
       "                        15927              NaN         NaN         NaN   \n",
       "\n",
       "                                            z  \n",
       "population              node_ids               \n",
       "hippocampus_neurons     0         1074.146619  \n",
       "                        1          573.179832  \n",
       "                        2          976.924721  \n",
       "                        3         1180.185218  \n",
       "                        4         1013.453517  \n",
       "...                                       ...  \n",
       "hippocampus_projections 15923             NaN  \n",
       "                        15924             NaN  \n",
       "                        15925             NaN  \n",
       "                        15926             NaN  \n",
       "                        15927             NaN  \n",
       "\n",
       "[34126 rows x 17 columns]"
      ]
     },
     "execution_count": 66,
     "metadata": {},
     "output_type": "execute_result"
    }
   ],
   "source": [
    "import pandas as pd\n",
    "full_data = pd.concat(df for _, df in snap_circuit.nodes.get())  # snap\n",
    "full_data"
   ]
  },
  {
   "cell_type": "markdown",
   "metadata": {},
   "source": [
    "You can note that the index of the resulting DataFrame is a [MultiIndex](https://pandas.pydata.org/pandas-docs/stable/user_guide/advanced.html).\n",
    "Hopefully this is still simple to use.\n",
    "\n",
    "Be aware that the data types of the columns in the resulting DataFrame might be different from the original data types, because of the conversions automatically executed by Pandas to accommodate different types in different DataFrames when they are concatenated together."
   ]
  },
  {
   "cell_type": "markdown",
   "metadata": {},
   "source": [
    "Let's extract from the DataFrame the neurons `test_ids` we collected before:"
   ]
  },
  {
   "cell_type": "code",
   "execution_count": 67,
   "metadata": {},
   "outputs": [
    {
     "data": {
      "text/plain": [
       "CircuitNodeIds([('hippocampus_neurons',  4173),\n",
       "            ('hippocampus_neurons',  6673),\n",
       "            ('hippocampus_neurons', 14125),\n",
       "            ('hippocampus_neurons',  3860),\n",
       "            ('hippocampus_neurons',  4301)],\n",
       "           names=['population', 'node_ids'])"
      ]
     },
     "execution_count": 67,
     "metadata": {},
     "output_type": "execute_result"
    }
   ],
   "source": [
    "test_ids"
   ]
  },
  {
   "cell_type": "code",
   "execution_count": 68,
   "metadata": {},
   "outputs": [
    {
     "data": {
      "text/html": [
       "<div>\n",
       "<style scoped>\n",
       "    .dataframe tbody tr th:only-of-type {\n",
       "        vertical-align: middle;\n",
       "    }\n",
       "\n",
       "    .dataframe tbody tr th {\n",
       "        vertical-align: top;\n",
       "    }\n",
       "\n",
       "    .dataframe thead th {\n",
       "        text-align: right;\n",
       "    }\n",
       "</style>\n",
       "<table border=\"1\" class=\"dataframe\">\n",
       "  <thead>\n",
       "    <tr style=\"text-align: right;\">\n",
       "      <th></th>\n",
       "      <th></th>\n",
       "      <th>@dynamics:holding_current</th>\n",
       "      <th>@dynamics:threshold_current</th>\n",
       "      <th>etype</th>\n",
       "      <th>layer</th>\n",
       "      <th>model_template</th>\n",
       "      <th>model_type</th>\n",
       "      <th>morph_class</th>\n",
       "      <th>morphology</th>\n",
       "      <th>mtype</th>\n",
       "      <th>region</th>\n",
       "      <th>rotation_angle_xaxis</th>\n",
       "      <th>rotation_angle_yaxis</th>\n",
       "      <th>rotation_angle_zaxis</th>\n",
       "      <th>synapse_class</th>\n",
       "      <th>x</th>\n",
       "      <th>y</th>\n",
       "      <th>z</th>\n",
       "    </tr>\n",
       "    <tr>\n",
       "      <th>population</th>\n",
       "      <th>node_ids</th>\n",
       "      <th></th>\n",
       "      <th></th>\n",
       "      <th></th>\n",
       "      <th></th>\n",
       "      <th></th>\n",
       "      <th></th>\n",
       "      <th></th>\n",
       "      <th></th>\n",
       "      <th></th>\n",
       "      <th></th>\n",
       "      <th></th>\n",
       "      <th></th>\n",
       "      <th></th>\n",
       "      <th></th>\n",
       "      <th></th>\n",
       "      <th></th>\n",
       "      <th></th>\n",
       "    </tr>\n",
       "  </thead>\n",
       "  <tbody>\n",
       "    <tr>\n",
       "      <th rowspan=\"5\" valign=\"top\">hippocampus_neurons</th>\n",
       "      <th>4173</th>\n",
       "      <td>-0.165389</td>\n",
       "      <td>0.419922</td>\n",
       "      <td>cACpyr</td>\n",
       "      <td>SP</td>\n",
       "      <td>hoc:CA1_pyr_cACpyr_mpg141209_A_idA_2019032814464</td>\n",
       "      <td>biophysical</td>\n",
       "      <td>PYR</td>\n",
       "      <td>dend-oh140521_B0_Rat_idC_axon-mpg141017_a1-2_i...</td>\n",
       "      <td>SP_PC</td>\n",
       "      <td>mc5;SP</td>\n",
       "      <td>-0.000000</td>\n",
       "      <td>0.518586</td>\n",
       "      <td>-0.000000</td>\n",
       "      <td>EXC</td>\n",
       "      <td>508.142444</td>\n",
       "      <td>202.848622</td>\n",
       "      <td>971.278636</td>\n",
       "    </tr>\n",
       "    <tr>\n",
       "      <th>6673</th>\n",
       "      <td>-0.190510</td>\n",
       "      <td>0.400391</td>\n",
       "      <td>cACpyr</td>\n",
       "      <td>SP</td>\n",
       "      <td>hoc:CA1_pyr_cACpyr_mpg150305_A_idB_2019030511201</td>\n",
       "      <td>biophysical</td>\n",
       "      <td>PYR</td>\n",
       "      <td>dend-oh140521_B0_Rat_idC_axon-mpg141017_a1-2_i...</td>\n",
       "      <td>SP_PC</td>\n",
       "      <td>mc4;SP</td>\n",
       "      <td>-3.141593</td>\n",
       "      <td>1.044388</td>\n",
       "      <td>-3.141593</td>\n",
       "      <td>EXC</td>\n",
       "      <td>163.516278</td>\n",
       "      <td>226.262661</td>\n",
       "      <td>730.785459</td>\n",
       "    </tr>\n",
       "    <tr>\n",
       "      <th>14125</th>\n",
       "      <td>-0.072330</td>\n",
       "      <td>0.283203</td>\n",
       "      <td>cACpyr</td>\n",
       "      <td>SP</td>\n",
       "      <td>hoc:CA1_pyr_cACpyr_oh140807_A0_idH_2019032814315</td>\n",
       "      <td>biophysical</td>\n",
       "      <td>PYR</td>\n",
       "      <td>dend-051208AM2_axon-mpg141017_a1-2_idC_-_Scale...</td>\n",
       "      <td>SP_PC</td>\n",
       "      <td>mc2;SP</td>\n",
       "      <td>-3.141593</td>\n",
       "      <td>-0.087939</td>\n",
       "      <td>-3.141593</td>\n",
       "      <td>EXC</td>\n",
       "      <td>261.794778</td>\n",
       "      <td>177.621379</td>\n",
       "      <td>665.952718</td>\n",
       "    </tr>\n",
       "    <tr>\n",
       "      <th>3860</th>\n",
       "      <td>-0.102156</td>\n",
       "      <td>0.263672</td>\n",
       "      <td>cACpyr</td>\n",
       "      <td>SP</td>\n",
       "      <td>hoc:CA1_pyr_cACpyr_mpg150305_A_idB_2019030511201</td>\n",
       "      <td>biophysical</td>\n",
       "      <td>PYR</td>\n",
       "      <td>dend-mpg141216_A_idC_axon-mpg141017_a1-2_idC_-...</td>\n",
       "      <td>SP_PC</td>\n",
       "      <td>mc0;SP</td>\n",
       "      <td>0.000000</td>\n",
       "      <td>-0.316378</td>\n",
       "      <td>0.000000</td>\n",
       "      <td>EXC</td>\n",
       "      <td>206.891631</td>\n",
       "      <td>204.050092</td>\n",
       "      <td>234.309292</td>\n",
       "    </tr>\n",
       "    <tr>\n",
       "      <th>4301</th>\n",
       "      <td>-0.109276</td>\n",
       "      <td>0.302734</td>\n",
       "      <td>cACpyr</td>\n",
       "      <td>SP</td>\n",
       "      <td>hoc:CA1_pyr_cACpyr_oh140807_A0_idH_2019032814315</td>\n",
       "      <td>biophysical</td>\n",
       "      <td>PYR</td>\n",
       "      <td>dend-mpg141216_A_idA_axon-mpg141017_a1-2_idC_-...</td>\n",
       "      <td>SP_PC</td>\n",
       "      <td>mc6;SP</td>\n",
       "      <td>-3.141593</td>\n",
       "      <td>0.436389</td>\n",
       "      <td>-3.141593</td>\n",
       "      <td>EXC</td>\n",
       "      <td>671.884950</td>\n",
       "      <td>178.230139</td>\n",
       "      <td>856.435378</td>\n",
       "    </tr>\n",
       "  </tbody>\n",
       "</table>\n",
       "</div>"
      ],
      "text/plain": [
       "                              @dynamics:holding_current  \\\n",
       "population          node_ids                              \n",
       "hippocampus_neurons 4173                      -0.165389   \n",
       "                    6673                      -0.190510   \n",
       "                    14125                     -0.072330   \n",
       "                    3860                      -0.102156   \n",
       "                    4301                      -0.109276   \n",
       "\n",
       "                              @dynamics:threshold_current   etype layer  \\\n",
       "population          node_ids                                              \n",
       "hippocampus_neurons 4173                         0.419922  cACpyr    SP   \n",
       "                    6673                         0.400391  cACpyr    SP   \n",
       "                    14125                        0.283203  cACpyr    SP   \n",
       "                    3860                         0.263672  cACpyr    SP   \n",
       "                    4301                         0.302734  cACpyr    SP   \n",
       "\n",
       "                                                                model_template  \\\n",
       "population          node_ids                                                     \n",
       "hippocampus_neurons 4173      hoc:CA1_pyr_cACpyr_mpg141209_A_idA_2019032814464   \n",
       "                    6673      hoc:CA1_pyr_cACpyr_mpg150305_A_idB_2019030511201   \n",
       "                    14125     hoc:CA1_pyr_cACpyr_oh140807_A0_idH_2019032814315   \n",
       "                    3860      hoc:CA1_pyr_cACpyr_mpg150305_A_idB_2019030511201   \n",
       "                    4301      hoc:CA1_pyr_cACpyr_oh140807_A0_idH_2019032814315   \n",
       "\n",
       "                               model_type morph_class  \\\n",
       "population          node_ids                            \n",
       "hippocampus_neurons 4173      biophysical         PYR   \n",
       "                    6673      biophysical         PYR   \n",
       "                    14125     biophysical         PYR   \n",
       "                    3860      biophysical         PYR   \n",
       "                    4301      biophysical         PYR   \n",
       "\n",
       "                                                                     morphology  \\\n",
       "population          node_ids                                                      \n",
       "hippocampus_neurons 4173      dend-oh140521_B0_Rat_idC_axon-mpg141017_a1-2_i...   \n",
       "                    6673      dend-oh140521_B0_Rat_idC_axon-mpg141017_a1-2_i...   \n",
       "                    14125     dend-051208AM2_axon-mpg141017_a1-2_idC_-_Scale...   \n",
       "                    3860      dend-mpg141216_A_idC_axon-mpg141017_a1-2_idC_-...   \n",
       "                    4301      dend-mpg141216_A_idA_axon-mpg141017_a1-2_idC_-...   \n",
       "\n",
       "                              mtype  region  rotation_angle_xaxis  \\\n",
       "population          node_ids                                        \n",
       "hippocampus_neurons 4173      SP_PC  mc5;SP             -0.000000   \n",
       "                    6673      SP_PC  mc4;SP             -3.141593   \n",
       "                    14125     SP_PC  mc2;SP             -3.141593   \n",
       "                    3860      SP_PC  mc0;SP              0.000000   \n",
       "                    4301      SP_PC  mc6;SP             -3.141593   \n",
       "\n",
       "                              rotation_angle_yaxis  rotation_angle_zaxis  \\\n",
       "population          node_ids                                               \n",
       "hippocampus_neurons 4173                  0.518586             -0.000000   \n",
       "                    6673                  1.044388             -3.141593   \n",
       "                    14125                -0.087939             -3.141593   \n",
       "                    3860                 -0.316378              0.000000   \n",
       "                    4301                  0.436389             -3.141593   \n",
       "\n",
       "                             synapse_class           x           y           z  \n",
       "population          node_ids                                                    \n",
       "hippocampus_neurons 4173               EXC  508.142444  202.848622  971.278636  \n",
       "                    6673               EXC  163.516278  226.262661  730.785459  \n",
       "                    14125              EXC  261.794778  177.621379  665.952718  \n",
       "                    3860               EXC  206.891631  204.050092  234.309292  \n",
       "                    4301               EXC  671.884950  178.230139  856.435378  "
      ]
     },
     "execution_count": 68,
     "metadata": {},
     "output_type": "execute_result"
    }
   ],
   "source": [
    "small_data = full_data.loc[test_ids]   # snap, just like a normal multi-index\n",
    "small_data.sort_index(axis=1)"
   ]
  },
  {
   "cell_type": "markdown",
   "metadata": {},
   "source": [
    "As you can see, only the correct node ids from the correct populations are selected from the DataFrame."
   ]
  },
  {
   "cell_type": "markdown",
   "metadata": {},
   "source": [
    "If you want to recreate a `CircuitNodeIds` container from the DataFrame index you need to:"
   ]
  },
  {
   "cell_type": "code",
   "execution_count": 69,
   "metadata": {},
   "outputs": [
    {
     "data": {
      "text/plain": [
       "CircuitNodeIds([('hippocampus_neurons',  3860),\n",
       "            ('hippocampus_neurons',  4173),\n",
       "            ('hippocampus_neurons',  4301),\n",
       "            ('hippocampus_neurons',  6673),\n",
       "            ('hippocampus_neurons', 14125)],\n",
       "           names=['population', 'node_ids'])"
      ]
     },
     "execution_count": 69,
     "metadata": {},
     "output_type": "execute_result"
    }
   ],
   "source": [
    "indices = CircuitNodeIds(small_data.index)   # snap\n",
    "indices"
   ]
  },
  {
   "cell_type": "markdown",
   "metadata": {},
   "source": [
    "This concludes the Node accessors. "
   ]
  },
  {
   "cell_type": "markdown",
   "metadata": {},
   "source": [
    "## Targets vs NodeSets\n",
    "\n",
    "The concept of targets has been greatly improved in SONATA. The historical target files were just a list of GIDs linked to a name:\n",
    "\n",
    "```\n",
    "Target Cell SLM_PPA {\n",
    "    a1 a2 a3\n",
    "}\n",
    "```\n",
    "\n",
    "Unfortunately, multiple problems can arise from this, especially in a multi-population context. The major problems are:\n",
    "- we don't know from which population a GID comes from\n",
    "- the query that created this list of GIDs is lost in the process of creating the target file\n",
    "- if the circuit has a lot of cells, the target file becomes complex to read\n",
    "\n",
    "\n",
    "SONATA removed this concept entirely and uses the node sets instead. A node set is a query-based sub-set of cells and a node set file is a simple json file containing all the queries associated to a name. For example, a node set file containing a single query on the mtype of a neuron would be:\n",
    "```\n",
    ">>> cat node_sets_file.json\n",
    "{\n",
    "\"SLM_PPA\" : {\"mtype\": \"SLM_PPA\"}\n",
    "}\n",
    "```\n",
    "\n",
    "Since this format is now query based, we can: \n",
    "- read easily the node set file\n",
    "- know why the cells are selected\n",
    "- force a population\n",
    "\n",
    "We can force a population selection using the special field : \"population\".\n",
    "```\n",
    "{\n",
    "\"SLM_PPA_CA1\" : {\"population\": \"CA1\", \"mtype\": \"SLM_PPA\"}\n",
    "}\n",
    "```"
   ]
  },
  {
   "cell_type": "markdown",
   "metadata": {},
   "source": [
    "### Accessing the node via the node sets\n",
    "\n",
    "In snap, you can use the node sets to select a group of cells just like you did with the targets from bluepy.\n",
    "\n",
    "---\n",
    "**Important**\n",
    "\n",
    "The node sets are now available at the `circuit` level and not at the `cells` level anymore.\n",
    "\n",
    "---\n",
    "\n",
    "You can check the node sets using :"
   ]
  },
  {
   "cell_type": "code",
   "execution_count": 70,
   "metadata": {},
   "outputs": [
    {
     "name": "stdout",
     "output_type": "stream",
     "text": [
      "CA1 {'population': 'hippocampus_neurons'}\n",
      "Excitatory {'synapse_class': 'EXC'}\n",
      "Inhibitory {'synapse_class': 'INH'}\n"
     ]
    }
   ],
   "source": [
    "import itertools\n",
    "# the content of the file as dict\n",
    "content = snap_circuit.node_sets.content                  # snap\n",
    "for key, query in itertools.islice(content.items(), 3):\n",
    "    print(key, query)"
   ]
  },
  {
   "cell_type": "markdown",
   "metadata": {},
   "source": [
    "You can also check the names of all the available node sets:"
   ]
  },
  {
   "cell_type": "code",
   "execution_count": 71,
   "metadata": {},
   "outputs": [
    {
     "name": "stdout",
     "output_type": "stream",
     "text": [
      "['BC', 'BS', 'CA1', 'CA3_PC', 'CCK', 'Excitatory', 'Inhibitory', 'PV', 'SLM', 'SLM_PPA', 'SO', 'SOM', 'SO_BP', 'SO_BS', 'SO_OLM', 'SO_Tri', 'SP', 'SP_AA', 'SP_BS', 'SP_CCKBC', 'SP_Ivy', 'SP_PC', 'SP_PVBC', 'SR', 'SR_SCA', 'bAC', 'cAC', 'cACpyr', 'cNAC', 'mc0;SO', 'mc0;SP', 'mc0;SR', 'mc0_Column', 'mc1;SO', 'mc1;SP', 'mc1;SR', 'mc1_Column', 'mc2;SO', 'mc2;SP', 'mc2;SR', 'mc2_Column', 'mc3;SLM', 'mc3;SO', 'mc3;SP', 'mc3;SR', 'mc3_Column', 'mc4;SO', 'mc4;SP', 'mc4;SR', 'mc4_Column', 'mc5;SLM', 'mc5;SO', 'mc5;SP', 'mc5;SR', 'mc5_Column', 'mc6;SLM', 'mc6;SO', 'mc6;SP', 'mc6;SR', 'mc6_Column']\n"
     ]
    }
   ],
   "source": [
    "print(sorted(snap_circuit.node_sets))    # snap"
   ]
  },
  {
   "cell_type": "markdown",
   "metadata": {},
   "source": [
    "### Querying cells using the node sets\n",
    "\n",
    "We can now use these node sets in the query system:"
   ]
  },
  {
   "cell_type": "code",
   "execution_count": 72,
   "metadata": {},
   "outputs": [
    {
     "name": "stdout",
     "output_type": "stream",
     "text": [
      "[1 2 3]\n",
      "[1 2 3]\n"
     ]
    }
   ],
   "source": [
    "print(cells.ids(\"SLM_PPA\"))    # bluepy, selecting cells directly using the target as a str value \n",
    "query = {\"$target\": \"SLM_PPA\"} \n",
    "print(cells.ids(query))"
   ]
  },
  {
   "cell_type": "code",
   "execution_count": 73,
   "metadata": {},
   "outputs": [
    {
     "name": "stdout",
     "output_type": "stream",
     "text": [
      "[0 1 2]\n",
      "[0 1 2]\n",
      "[0]\n"
     ]
    }
   ],
   "source": [
    "print(snap_pop.ids(\"SLM_PPA\"))  # snap, selecting cells directly using the node set as a str value \n",
    "query = {\"$node_set\": \"SLM_PPA\"}\n",
    "print(snap_pop.ids(query))\n",
    "query_combined = {\"$and\": [query, {\"region\": \"mc5;SLM\"}]}\n",
    "print(snap_pop.ids(query_combined))  # you can of course combine the node_set query to other queries"
   ]
  },
  {
   "cell_type": "markdown",
   "metadata": {},
   "source": [
    "In snap, it can be done within the `nodes` interface also:"
   ]
  },
  {
   "cell_type": "code",
   "execution_count": 74,
   "metadata": {},
   "outputs": [
    {
     "data": {
      "text/plain": [
       "CircuitNodeIds([('hippocampus_neurons', 0),\n",
       "            ('hippocampus_neurons', 1),\n",
       "            ('hippocampus_neurons', 2)],\n",
       "           names=['population', 'node_ids'])"
      ]
     },
     "execution_count": 74,
     "metadata": {},
     "output_type": "execute_result"
    }
   ],
   "source": [
    "snap_circuit.nodes.ids(\"SLM_PPA\")"
   ]
  },
  {
   "cell_type": "markdown",
   "metadata": {},
   "source": [
    "## Edge Analyses\n",
    "\n",
    "Let's now move to the connectome part of snap and the differences with bluepy. And let's start with the edge population concept."
   ]
  },
  {
   "cell_type": "markdown",
   "metadata": {},
   "source": [
    "### Navigating the edge populations"
   ]
  },
  {
   "cell_type": "markdown",
   "metadata": {},
   "source": [
    "As we said before, the major change between the historical circuits and SONATA circuits is the concept of population. This concept exists also for the edges (connectomes).\n",
    "\n",
    "Formally, an edge population is \"something\" that connects a source node population with a target node population. In our standard neuronal circuits, the \"something\" is usually synapses connecting two neurons. In more complex circuits like NGV's, the \"something\" can be : synapses, gap junctions, astrocyte processes connecting a synapse or even endfeet. \n",
    "\n",
    "Here we will use a normal neuronal circuit, with a standard inter neuron edge and a projection (virtual_neuron-neuron from CA3 to CA1) edge. These two types of connections define our two edge populations. \n",
    "\n",
    "Let's check if they are present in the circuit :"
   ]
  },
  {
   "cell_type": "code",
   "execution_count": 75,
   "metadata": {},
   "outputs": [
    {
     "data": {
      "text/plain": [
       "['hippocampus_neurons__hippocampus_neurons__chemical',\n",
       " 'hippocampus_projections__hippocampus_neurons__chemical']"
      ]
     },
     "execution_count": 75,
     "metadata": {},
     "output_type": "execute_result"
    }
   ],
   "source": [
    "snap_circuit.edges.population_names   # snap"
   ]
  },
  {
   "cell_type": "markdown",
   "metadata": {},
   "source": [
    "First, we can access the edge populations just like the node populations. Let's set the projection neuron connectome inside a variable: "
   ]
  },
  {
   "cell_type": "code",
   "execution_count": 76,
   "metadata": {},
   "outputs": [],
   "source": [
    "proj = snap_circuit.edges['hippocampus_projections__hippocampus_neurons__chemical'] # snap"
   ]
  },
  {
   "cell_type": "markdown",
   "metadata": {},
   "source": [
    "We will now verify which node populations the projection connectome connects and how to do it. "
   ]
  },
  {
   "cell_type": "markdown",
   "metadata": {},
   "source": [
    "#### Finding the source and target node populations of a edge population\n",
    "\n",
    "We can now check which node populations this edge connects. We can start with the source population:"
   ]
  },
  {
   "cell_type": "code",
   "execution_count": 77,
   "metadata": {},
   "outputs": [
    {
     "name": "stdout",
     "output_type": "stream",
     "text": [
      "<bluepysnap.nodes.node_population.NodePopulation object at 0x2aab5ade4290>\n"
     ]
    }
   ],
   "source": [
    "proj_source = proj.source        # snap\n",
    "print(proj_source)"
   ]
  },
  {
   "cell_type": "markdown",
   "metadata": {},
   "source": [
    "As we can see, the `proj_source` is not just the name of the population but a actual NodePopulation. We can check its name: "
   ]
  },
  {
   "cell_type": "code",
   "execution_count": 78,
   "metadata": {},
   "outputs": [
    {
     "data": {
      "text/plain": [
       "'hippocampus_projections'"
      ]
     },
     "execution_count": 78,
     "metadata": {},
     "output_type": "execute_result"
    }
   ],
   "source": [
    "proj_source.name                # snap"
   ]
  },
  {
   "cell_type": "markdown",
   "metadata": {},
   "source": [
    "We can see the connectome sources (pre synaptic cells for this example) are the \"hippocampus_projections\". This implies :"
   ]
  },
  {
   "cell_type": "code",
   "execution_count": 79,
   "metadata": {},
   "outputs": [
    {
     "data": {
      "text/plain": [
       "True"
      ]
     },
     "execution_count": 79,
     "metadata": {},
     "output_type": "execute_result"
    }
   ],
   "source": [
    "proj.source is snap_circuit.nodes[\"hippocampus_projections\"]     # snap"
   ]
  },
  {
   "cell_type": "markdown",
   "metadata": {},
   "source": [
    "Having an actual `NodePopulation`, allows us to use the API described in the [Node](#Accessing-the-node-information) section. Such as:"
   ]
  },
  {
   "cell_type": "code",
   "execution_count": 80,
   "metadata": {},
   "outputs": [
    {
     "name": "stdout",
     "output_type": "stream",
     "text": [
      "[    0     1     2 ... 15925 15926 15927]\n"
     ]
    },
    {
     "data": {
      "text/html": [
       "<div>\n",
       "<style scoped>\n",
       "    .dataframe tbody tr th:only-of-type {\n",
       "        vertical-align: middle;\n",
       "    }\n",
       "\n",
       "    .dataframe tbody tr th {\n",
       "        vertical-align: top;\n",
       "    }\n",
       "\n",
       "    .dataframe thead th {\n",
       "        text-align: right;\n",
       "    }\n",
       "</style>\n",
       "<table border=\"1\" class=\"dataframe\">\n",
       "  <thead>\n",
       "    <tr style=\"text-align: right;\">\n",
       "      <th></th>\n",
       "      <th>model_type</th>\n",
       "    </tr>\n",
       "    <tr>\n",
       "      <th>node_ids</th>\n",
       "      <th></th>\n",
       "    </tr>\n",
       "  </thead>\n",
       "  <tbody>\n",
       "    <tr>\n",
       "      <th>0</th>\n",
       "      <td>virtual</td>\n",
       "    </tr>\n",
       "    <tr>\n",
       "      <th>1</th>\n",
       "      <td>virtual</td>\n",
       "    </tr>\n",
       "  </tbody>\n",
       "</table>\n",
       "</div>"
      ],
      "text/plain": [
       "         model_type\n",
       "node_ids           \n",
       "0           virtual\n",
       "1           virtual"
      ]
     },
     "execution_count": 80,
     "metadata": {},
     "output_type": "execute_result"
    }
   ],
   "source": [
    "print(proj.source.ids())        # snap\n",
    "proj.source.get().head(2)"
   ]
  },
  {
   "cell_type": "markdown",
   "metadata": {},
   "source": [
    "We can now do the same for the target population : "
   ]
  },
  {
   "cell_type": "code",
   "execution_count": 81,
   "metadata": {},
   "outputs": [
    {
     "data": {
      "text/plain": [
       "'hippocampus_neurons'"
      ]
     },
     "execution_count": 81,
     "metadata": {},
     "output_type": "execute_result"
    }
   ],
   "source": [
    "proj_target = proj.target      # snap\n",
    "proj_target.name               # snap"
   ]
  },
  {
   "cell_type": "markdown",
   "metadata": {},
   "source": [
    "So we can see this edge connects the `hippocampus_projections` source node population to the `hippocampus_neurons` target node population."
   ]
  },
  {
   "cell_type": "code",
   "execution_count": 82,
   "metadata": {},
   "outputs": [
    {
     "name": "stdout",
     "output_type": "stream",
     "text": [
      "hippocampus_projections --> hippocampus_neurons\n"
     ]
    }
   ],
   "source": [
    "print(f'{proj.source.name} --> {proj.target.name}')   # snap"
   ]
  },
  {
   "cell_type": "markdown",
   "metadata": {},
   "source": [
    "#### Finding in which edge populations a node population is used\n",
    "\n",
    "You can also do the opposite, finding in which edge population a node population is present. Let's find in which edge populations the \"hippocampus_neurons\" are :"
   ]
  },
  {
   "cell_type": "code",
   "execution_count": 83,
   "metadata": {},
   "outputs": [
    {
     "name": "stdout",
     "output_type": "stream",
     "text": [
      "hippocampus_neurons are source in {'hippocampus_neurons__hippocampus_neurons__chemical'} edge population\n"
     ]
    }
   ],
   "source": [
    "hippo_neuron_as_source = snap_circuit.nodes[\"hippocampus_neurons\"].source_in_edges()    # snap\n",
    "print(f'hippocampus_neurons are source in {hippo_neuron_as_source} edge population')"
   ]
  },
  {
   "cell_type": "code",
   "execution_count": 84,
   "metadata": {},
   "outputs": [
    {
     "name": "stdout",
     "output_type": "stream",
     "text": [
      "hippocampus_neurons are target in ['hippocampus_neurons__hippocampus_neurons__chemical', 'hippocampus_projections__hippocampus_neurons__chemical'] edge populations\n"
     ]
    }
   ],
   "source": [
    "hippo_neuron_as_target = sorted(snap_circuit.nodes[\"hippocampus_neurons\"].target_in_edges())\n",
    "print(f'hippocampus_neurons are target in {hippo_neuron_as_target} edge populations')"
   ]
  },
  {
   "cell_type": "markdown",
   "metadata": {},
   "source": [
    "The \"hippocampus_neurons\" are sources of the \"hippocampus_neurons__hippocampus_neurons__chemical\" and targets of the \"hippocampus_neurons__hippocampus_neurons__chemical\". Which is normal because this connectome is composed of the CA1 inter-neuron connections. It is also the target of the projections : \"hippocampus_projections__hippocampus_neurons__chemical\"."
   ]
  },
  {
   "cell_type": "markdown",
   "metadata": {},
   "source": [
    "As we did for the nodes, we will now show the extra tooling from snap and the differences with bluepy."
   ]
  },
  {
   "cell_type": "markdown",
   "metadata": {},
   "source": [
    "### Size of a edge population\n",
    "\n",
    "We can now access in 0(1) the size of a edge population using the `size` function (it was not possible in bluepy):"
   ]
  },
  {
   "cell_type": "code",
   "execution_count": 85,
   "metadata": {},
   "outputs": [
    {
     "data": {
      "text/plain": [
       "19698045"
      ]
     },
     "execution_count": 85,
     "metadata": {},
     "output_type": "execute_result"
    }
   ],
   "source": [
    "inter_neuron = snap_circuit.edges[\"hippocampus_neurons__hippocampus_neurons__chemical\"]  # snap \n",
    "inter_neuron.size                                                                        # snap "
   ]
  },
  {
   "cell_type": "code",
   "execution_count": 86,
   "metadata": {},
   "outputs": [],
   "source": [
    "connectome = bluepy_circuit.connectome                                                   # bluepy    \n",
    "# impossible to call connectome.size in bluepy"
   ]
  },
  {
   "cell_type": "markdown",
   "metadata": {},
   "source": [
    "### Accessing the graph topology\n",
    "\n",
    "Just as with bluepy, it is possible to access the graph's topology in snap. That is, the neighbors of cells, the connections between cells etc.\n",
    "\n",
    "\n",
    "Since the snap API is meant to be used for all types of circuits, the neuron specific naming scheme has been removed.  \n",
    "The function name to access the edge topology from `bluepy` &#8594; `snap`:\n",
    "- `afferent_gids` &#8594; `afferent_nodes`\n",
    "- `efferent_gids` &#8594; `efferent_nodes`\n",
    "- `afferent_synapses` &#8594; `afferent_edges`\n",
    "- `efferent_synapses` &#8594; `efferent_edges`\n",
    "- `pathway_synapses` &#8594; `pathway_edges`\n",
    "- `pair_synapses` &#8594; `pair_edges`\n",
    "- `iter_connections` stay the same\n",
    "\n",
    "We also removed the pre and post synaptic naming : \n",
    "- `pre` &#8594; `source`\n",
    "- `post` &#8594; `target`"
   ]
  },
  {
   "cell_type": "markdown",
   "metadata": {},
   "source": [
    "#### Differences between bluepy and snap\n",
    "\n",
    "The difference relies principally on the ability to use node queries on all the functions."
   ]
  },
  {
   "cell_type": "code",
   "execution_count": 87,
   "metadata": {},
   "outputs": [
    {
     "name": "stdout",
     "output_type": "stream",
     "text": [
      "[18042 18070 18082 18092 18096 18116 18146]\n",
      "[18041 18069 18081 18091 18095 18115 18145]\n"
     ]
    }
   ],
   "source": [
    "print(connectome.afferent_gids(1))      # bluepy\n",
    "print(inter_neuron.afferent_nodes(0))   # snap "
   ]
  },
  {
   "cell_type": "code",
   "execution_count": 88,
   "metadata": {},
   "outputs": [
    {
     "name": "stdout",
     "output_type": "stream",
     "text": [
      "Tried : connectome.afferent_gids('SLM_PPA') in bluepy but this is not possible\n"
     ]
    }
   ],
   "source": [
    "inter_neuron.afferent_nodes(\"SLM_PPA\")   # snap, you can now access the connections from a node set\n",
    "\n",
    "try:\n",
    "    connectome.afferent_gids(\"SLM_PPA\")  # bluepy\n",
    "except TypeError:\n",
    "    print(\"Tried : connectome.afferent_gids('SLM_PPA') in bluepy but this is not possible\")"
   ]
  },
  {
   "cell_type": "markdown",
   "metadata": {},
   "source": [
    "Same with a query and not a node set:"
   ]
  },
  {
   "cell_type": "code",
   "execution_count": 89,
   "metadata": {},
   "outputs": [
    {
     "name": "stdout",
     "output_type": "stream",
     "text": [
      "[    2     4     5 ... 18192 18193 18196]\n",
      "[19659525 19659526 19659527 ... 19698042 19698043 19698044]\n"
     ]
    }
   ],
   "source": [
    "print(inter_neuron.afferent_nodes({\"mtype\": 'SO_BP'}))  # snap, not possible in bluepy\n",
    "print(inter_neuron.afferent_edges({\"mtype\": 'SO_BP'}))  # snap, not possible in bluepy"
   ]
  },
  {
   "cell_type": "markdown",
   "metadata": {},
   "source": [
    "We also give access to a `unique` parameter set to `True` by default for the `[a|e]fferent_nodes` function:"
   ]
  },
  {
   "cell_type": "code",
   "execution_count": 90,
   "metadata": {},
   "outputs": [
    {
     "data": {
      "text/plain": [
       "array([18041, 18041, 18041, 18041, 18041, 18041, 18041, 18041, 18069,\n",
       "       18069, 18069, 18081, 18081, 18081, 18081, 18091, 18091, 18091,\n",
       "       18095, 18095, 18095, 18095, 18115, 18115, 18145])"
      ]
     },
     "execution_count": 90,
     "metadata": {},
     "output_type": "execute_result"
    }
   ],
   "source": [
    "inter_neuron.afferent_nodes(0, unique=False)   # snap"
   ]
  },
  {
   "cell_type": "code",
   "execution_count": 91,
   "metadata": {},
   "outputs": [
    {
     "data": {
      "text/plain": [
       "array([18041, 18069, 18081, 18091, 18095, 18115, 18145])"
      ]
     },
     "execution_count": 91,
     "metadata": {},
     "output_type": "execute_result"
    }
   ],
   "source": [
    "inter_neuron.afferent_nodes(0, unique=True)   # snap"
   ]
  },
  {
   "cell_type": "markdown",
   "metadata": {},
   "source": [
    "It is also now possible to access all the `[a|e]fferent_nodes` of the population using `None` as a query:"
   ]
  },
  {
   "cell_type": "code",
   "execution_count": 92,
   "metadata": {},
   "outputs": [
    {
     "name": "stdout",
     "output_type": "stream",
     "text": [
      "[    0     1     2 ... 18195 18196 18197]\n"
     ]
    }
   ],
   "source": [
    "print(inter_neuron.afferent_nodes(None))"
   ]
  },
  {
   "cell_type": "markdown",
   "metadata": {},
   "source": [
    "You can use `CircuitNodeIds` as input also:"
   ]
  },
  {
   "cell_type": "code",
   "execution_count": 93,
   "metadata": {},
   "outputs": [
    {
     "name": "stdout",
     "output_type": "stream",
     "text": [
      "CircuitNodeIds([('hippocampus_neurons',  4173),\n",
      "            ('hippocampus_neurons',  6673),\n",
      "            ('hippocampus_neurons', 14125),\n",
      "            ('hippocampus_neurons',  3860),\n",
      "            ('hippocampus_neurons',  4301)],\n",
      "           names=['population', 'node_ids'])\n"
     ]
    },
    {
     "data": {
      "text/plain": [
       "array([ 2,  4,  5,  7, 16, 20, 25, 26, 27, 28])"
      ]
     },
     "execution_count": 93,
     "metadata": {},
     "output_type": "execute_result"
    }
   ],
   "source": [
    "print(test_ids)\n",
    "inter_neuron.afferent_nodes(test_ids)[:10]"
   ]
  },
  {
   "cell_type": "markdown",
   "metadata": {},
   "source": [
    "Also as mentioned before, the pre and post changed into source and target. The function arguments become:"
   ]
  },
  {
   "cell_type": "code",
   "execution_count": 94,
   "metadata": {},
   "outputs": [],
   "source": [
    "connectome.pathway_synapses(pre={\"mtype\": 'SO_BP'}, post={\"mtype\": 'SO_OLM'})         # bluepy \n",
    "inter_neuron.pathway_edges(source={\"mtype\": 'SO_BP'}, target={\"mtype\": 'SO_OLM'});    # snap "
   ]
  },
  {
   "cell_type": "markdown",
   "metadata": {},
   "source": [
    "In the iter_connections:"
   ]
  },
  {
   "cell_type": "code",
   "execution_count": 95,
   "metadata": {},
   "outputs": [],
   "source": [
    "it = connectome.iter_connections(pre=18192, post='SO_OLM', return_synapse_ids=True)      # bluepy\n",
    "it = inter_neuron.iter_connections(source=18191, target='SO_OLM', return_edge_ids=True)  # snap"
   ]
  },
  {
   "cell_type": "markdown",
   "metadata": {},
   "source": [
    "### Properties\n",
    "\n",
    "We can now move to the edge properties accessors and the difference between bluepy and snap.\n",
    "\n",
    "\n",
    "#### Properties differences between snap and bluepy"
   ]
  },
  {
   "cell_type": "code",
   "execution_count": 96,
   "metadata": {},
   "outputs": [
    {
     "name": "stdout",
     "output_type": "stream",
     "text": [
      "['Synapse.AXONAL_DELAY', 'Synapse.DTC', 'Synapse.D_SYN', 'Synapse.F_SYN', 'Synapse.G_SYNX', 'Synapse.NRRP', 'Synapse.POST_BRANCH_TYPE', 'Synapse.POST_GID', 'Synapse.POST_NEURITE_DISTANCE', 'Synapse.POST_SECTION_DISTANCE', 'Synapse.POST_SECTION_ID', 'Synapse.POST_SEGMENT_ID', 'Synapse.POST_SEGMENT_OFFSET', 'Synapse.POST_X_CENTER', 'Synapse.POST_Y_CENTER', 'Synapse.POST_Z_CENTER', 'Synapse.PRE_GID', 'Synapse.PRE_NEURITE_DISTANCE', 'Synapse.PRE_SECTION_DISTANCE', 'Synapse.PRE_SECTION_ID', 'Synapse.PRE_SEGMENT_ID', 'Synapse.PRE_SEGMENT_OFFSET', 'Synapse.PRE_X_CONTOUR', 'Synapse.PRE_Y_CONTOUR', 'Synapse.PRE_Z_CONTOUR', 'Synapse.TYPE', 'Synapse.U_SYN', 'afferent_section_pos', 'afferent_section_pos_orig', 'efferent_section_pos', 'efferent_section_pos_orig', 'efferent_section_type', 'spine_length', 'synapse_type_id']\n",
      "['@source_node', '@target_node', 'afferent_center_x', 'afferent_center_y', 'afferent_center_z', 'afferent_section_id', 'afferent_section_pos', 'afferent_section_pos_orig', 'afferent_section_type', 'afferent_segment_id', 'afferent_segment_offset', 'conductance', 'decay_time', 'delay', 'depression_time', 'efferent_section_id', 'efferent_section_pos', 'efferent_section_pos_orig', 'efferent_section_type', 'efferent_segment_id', 'efferent_segment_offset', 'efferent_surface_x', 'efferent_surface_y', 'efferent_surface_z', 'facilitation_time', 'n_rrp_vesicles', 'spine_length', 'syn_type_id', 'synapse_type_id', 'u_syn']\n"
     ]
    }
   ],
   "source": [
    "print(sorted([str(s) for s in bluepy_circuit.connectome.available_properties]))     # bluepy\n",
    "print(sorted(inter_neuron.property_names))                # snap"
   ]
  },
  {
   "cell_type": "markdown",
   "metadata": {},
   "source": [
    "We can see we got rid of the complex and cumbersome Synapse enum in the properties. Now all property names are stored as normal strings. We also got rid of the computed variables."
   ]
  },
  {
   "cell_type": "markdown",
   "metadata": {},
   "source": [
    "Just like the NodePopulations, you can explore a bit more the properties and check the dtypes:"
   ]
  },
  {
   "cell_type": "code",
   "execution_count": 97,
   "metadata": {},
   "outputs": [
    {
     "data": {
      "text/plain": [
       "@source_node                   int64\n",
       "@target_node                   int64\n",
       "afferent_center_x            float32\n",
       "afferent_center_y            float32\n",
       "afferent_center_z            float32\n",
       "afferent_section_id            int32\n",
       "afferent_section_pos         float32\n",
       "afferent_section_pos_orig    float32\n",
       "afferent_section_type          int16\n",
       "afferent_segment_id            int32\n",
       "afferent_segment_offset      float32\n",
       "conductance                  float32\n",
       "decay_time                   float32\n",
       "delay                        float32\n",
       "depression_time              float32\n",
       "efferent_section_id            int16\n",
       "efferent_section_pos         float32\n",
       "efferent_section_pos_orig    float32\n",
       "efferent_section_type          int16\n",
       "efferent_segment_id            int16\n",
       "efferent_segment_offset      float32\n",
       "efferent_surface_x           float32\n",
       "efferent_surface_y           float32\n",
       "efferent_surface_z           float32\n",
       "facilitation_time            float32\n",
       "n_rrp_vesicles                 int16\n",
       "spine_length                 float32\n",
       "syn_type_id                    int16\n",
       "synapse_type_id                int32\n",
       "u_syn                        float32\n",
       "dtype: object"
      ]
     },
     "execution_count": 97,
     "metadata": {},
     "output_type": "execute_result"
    }
   ],
   "source": [
    "inter_neuron.property_dtypes"
   ]
  },
  {
   "cell_type": "markdown",
   "metadata": {},
   "source": [
    "#### Accessing the properties : differences between bluepy and snap\n",
    "\n",
    "In bluepy, we were using the `synapse_properties` function to access the synapses properties. As you can see, in bluepy, the name refers explicitly to a neuron circuit and is not ok anymore due to agnosticism of snap.\n",
    "\n",
    "Moreover, in bluepy, an asymmetry has been introduced between `cells` and `connectome`. You access the cell properties using a function named `get` and the connectome properties using a function named `synapse_properties`:"
   ]
  },
  {
   "cell_type": "code",
   "execution_count": 98,
   "metadata": {},
   "outputs": [],
   "source": [
    "cells.get([1], properties=\"x\")                                        # bluepy\n",
    "connectome.synapse_properties([1], properties=[\"afferent_center_x\"]); # bluepy, mandatory lists for arguments for properties"
   ]
  },
  {
   "cell_type": "markdown",
   "metadata": {},
   "source": [
    "Using different names to do the same operation was cumbersome for the user so we decided to change the name of the `EdgePopulation` functions and use a common API between the nodes and edges. You can now use `get` to collect the edge properties with the same behavior as the nodes:"
   ]
  },
  {
   "cell_type": "code",
   "execution_count": 99,
   "metadata": {},
   "outputs": [],
   "source": [
    "snap_pop.get(1, properties=\"x\")                        # snap, for nodes\n",
    "inter_neuron.get(1, properties=\"afferent_center_x\");   # snap, for edges"
   ]
  },
  {
   "cell_type": "markdown",
   "metadata": {},
   "source": [
    "Also thanks to this change (plus few others), we managed to factorize many of the node/edge functions under a single codebase. \n",
    "\n",
    "On the same page, in bluepy, you can return the `synapse_ids` from the function `synapse_properties` (if properties is equal to `None`). This is strange and not intuitive. See:"
   ]
  },
  {
   "cell_type": "code",
   "execution_count": 100,
   "metadata": {},
   "outputs": [
    {
     "data": {
      "text/plain": [
       "[1, 2]"
      ]
     },
     "execution_count": 100,
     "metadata": {},
     "output_type": "execute_result"
    }
   ],
   "source": [
    "connectome.synapse_properties([1, 2], properties=None)  # bluepy"
   ]
  },
  {
   "cell_type": "markdown",
   "metadata": {},
   "source": [
    "and again different from the bluepy's cell interface where it means give me \"all\" properties.  \n",
    "\n",
    "Unfortunately, historically in snap, we implemented the `get` with the same behavior as bluepy's `synapse_properties`. Hopefully, we decided to improve the user-friendliness and deprecated the `None` behavior in the `get` function and to provide instead a more powerful `ids` function described in details a bit later."
   ]
  },
  {
   "cell_type": "code",
   "execution_count": 101,
   "metadata": {},
   "outputs": [
    {
     "data": {
      "text/plain": [
       "array([1, 2])"
      ]
     },
     "execution_count": 101,
     "metadata": {},
     "output_type": "execute_result"
    }
   ],
   "source": [
    "inter_neuron.get([1,2], properties=None)   # snap, now deprecated"
   ]
  },
  {
   "cell_type": "markdown",
   "metadata": {},
   "source": [
    "Accessing the pre and post gids is also different now. You can do it using the `@source_node` and `@target_node` special properties:"
   ]
  },
  {
   "cell_type": "code",
   "execution_count": 102,
   "metadata": {},
   "outputs": [
    {
     "data": {
      "text/html": [
       "<div>\n",
       "<style scoped>\n",
       "    .dataframe tbody tr th:only-of-type {\n",
       "        vertical-align: middle;\n",
       "    }\n",
       "\n",
       "    .dataframe tbody tr th {\n",
       "        vertical-align: top;\n",
       "    }\n",
       "\n",
       "    .dataframe thead th {\n",
       "        text-align: right;\n",
       "    }\n",
       "</style>\n",
       "<table border=\"1\" class=\"dataframe\">\n",
       "  <thead>\n",
       "    <tr style=\"text-align: right;\">\n",
       "      <th></th>\n",
       "      <th>@source_node</th>\n",
       "      <th>@target_node</th>\n",
       "    </tr>\n",
       "  </thead>\n",
       "  <tbody>\n",
       "    <tr>\n",
       "      <th>1</th>\n",
       "      <td>18041</td>\n",
       "      <td>0</td>\n",
       "    </tr>\n",
       "    <tr>\n",
       "      <th>2</th>\n",
       "      <td>18041</td>\n",
       "      <td>0</td>\n",
       "    </tr>\n",
       "  </tbody>\n",
       "</table>\n",
       "</div>"
      ],
      "text/plain": [
       "   @source_node  @target_node\n",
       "1         18041             0\n",
       "2         18041             0"
      ]
     },
     "execution_count": 102,
     "metadata": {},
     "output_type": "execute_result"
    }
   ],
   "source": [
    "inter_neuron.get([1,2], properties=[\"@source_node\", \"@target_node\"])    # snap"
   ]
  },
  {
   "cell_type": "markdown",
   "metadata": {},
   "source": [
    "For simplicity reasons, you can also use a ConstContainer object to do the queries on the edges :"
   ]
  },
  {
   "cell_type": "code",
   "execution_count": 103,
   "metadata": {},
   "outputs": [
    {
     "name": "stdout",
     "output_type": "stream",
     "text": [
      "['AXONAL_DELAY', 'POST_SECTION_ID', 'POST_SECTION_POS', 'POST_X_CENTER', 'POST_X_SURFACE', 'POST_Y_CENTER', 'POST_Y_SURFACE', 'POST_Z_CENTER', 'POST_Z_SURFACE', 'PRE_SECTION_ID', 'PRE_SECTION_POS', 'PRE_X_CENTER', 'PRE_X_SURFACE', 'PRE_Y_CENTER', 'PRE_Y_SURFACE', 'PRE_Z_CENTER', 'PRE_Z_SURFACE', 'SOURCE_NODE_ID', 'SYN_WEIGHT', 'TARGET_NODE_ID']\n"
     ]
    }
   ],
   "source": [
    "from bluepysnap.sonata_constants import Edge\n",
    "print(sorted(Edge.key_set()))"
   ]
  },
  {
   "cell_type": "code",
   "execution_count": 104,
   "metadata": {},
   "outputs": [
    {
     "data": {
      "text/html": [
       "<div>\n",
       "<style scoped>\n",
       "    .dataframe tbody tr th:only-of-type {\n",
       "        vertical-align: middle;\n",
       "    }\n",
       "\n",
       "    .dataframe tbody tr th {\n",
       "        vertical-align: top;\n",
       "    }\n",
       "\n",
       "    .dataframe thead th {\n",
       "        text-align: right;\n",
       "    }\n",
       "</style>\n",
       "<table border=\"1\" class=\"dataframe\">\n",
       "  <thead>\n",
       "    <tr style=\"text-align: right;\">\n",
       "      <th></th>\n",
       "      <th>@source_node</th>\n",
       "      <th>@target_node</th>\n",
       "      <th>delay</th>\n",
       "    </tr>\n",
       "  </thead>\n",
       "  <tbody>\n",
       "    <tr>\n",
       "      <th>1</th>\n",
       "      <td>18041</td>\n",
       "      <td>0</td>\n",
       "      <td>3.839246</td>\n",
       "    </tr>\n",
       "    <tr>\n",
       "      <th>2</th>\n",
       "      <td>18041</td>\n",
       "      <td>0</td>\n",
       "      <td>5.194886</td>\n",
       "    </tr>\n",
       "  </tbody>\n",
       "</table>\n",
       "</div>"
      ],
      "text/plain": [
       "   @source_node  @target_node     delay\n",
       "1         18041             0  3.839246\n",
       "2         18041             0  5.194886"
      ]
     },
     "execution_count": 104,
     "metadata": {},
     "output_type": "execute_result"
    }
   ],
   "source": [
    "inter_neuron.get([1,2], properties=[Edge.SOURCE_NODE_ID, Edge.TARGET_NODE_ID, Edge.AXONAL_DELAY])  # snap"
   ]
  },
  {
   "cell_type": "markdown",
   "metadata": {},
   "source": [
    "You can see that now the names of the columns are bare strings and not enum values anymore:"
   ]
  },
  {
   "cell_type": "code",
   "execution_count": 105,
   "metadata": {},
   "outputs": [
    {
     "data": {
      "text/html": [
       "<div>\n",
       "<style scoped>\n",
       "    .dataframe tbody tr th:only-of-type {\n",
       "        vertical-align: middle;\n",
       "    }\n",
       "\n",
       "    .dataframe tbody tr th {\n",
       "        vertical-align: top;\n",
       "    }\n",
       "\n",
       "    .dataframe thead th {\n",
       "        text-align: right;\n",
       "    }\n",
       "</style>\n",
       "<table border=\"1\" class=\"dataframe\">\n",
       "  <thead>\n",
       "    <tr style=\"text-align: right;\">\n",
       "      <th></th>\n",
       "      <th>Synapse.PRE_GID</th>\n",
       "      <th>Synapse.POST_GID</th>\n",
       "      <th>Synapse.AXONAL_DELAY</th>\n",
       "    </tr>\n",
       "  </thead>\n",
       "  <tbody>\n",
       "    <tr>\n",
       "      <th>1</th>\n",
       "      <td>18042</td>\n",
       "      <td>1</td>\n",
       "      <td>3.839246</td>\n",
       "    </tr>\n",
       "    <tr>\n",
       "      <th>2</th>\n",
       "      <td>18042</td>\n",
       "      <td>1</td>\n",
       "      <td>5.194886</td>\n",
       "    </tr>\n",
       "  </tbody>\n",
       "</table>\n",
       "</div>"
      ],
      "text/plain": [
       "   Synapse.PRE_GID  Synapse.POST_GID  Synapse.AXONAL_DELAY\n",
       "1            18042                 1              3.839246\n",
       "2            18042                 1              5.194886"
      ]
     },
     "execution_count": 105,
     "metadata": {},
     "output_type": "execute_result"
    }
   ],
   "source": [
    "from bluepy import Synapse as BluepySynapse\n",
    "connectome.synapse_properties([1, 2], properties=[BluepySynapse.PRE_GID, BluepySynapse.POST_GID, BluepySynapse.AXONAL_DELAY])  # bluepy"
   ]
  },
  {
   "cell_type": "markdown",
   "metadata": {},
   "source": [
    "### Queries on synapses ids\n",
    "\n",
    "In order to keep consistency between the nodes and the edges interfaces in snap, we created a `ids` function to collect the edge ids:"
   ]
  },
  {
   "cell_type": "code",
   "execution_count": 106,
   "metadata": {},
   "outputs": [
    {
     "data": {
      "text/plain": [
       "array([1, 2, 3])"
      ]
     },
     "execution_count": 106,
     "metadata": {},
     "output_type": "execute_result"
    }
   ],
   "source": [
    "connectome.synapse_properties([1,2,3], properties=None)    # bluepy, will return the ids\n",
    "inter_neuron.ids([1,2,3])                                  # snap, will return the ids"
   ]
  },
  {
   "cell_type": "markdown",
   "metadata": {},
   "source": [
    "We also added a pre-version of queries on edges. Please keep in mind this is not really optimized yet and need more work to be fully usable. Queries can be done the same way as the node ones:"
   ]
  },
  {
   "cell_type": "code",
   "execution_count": 107,
   "metadata": {},
   "outputs": [
    {
     "data": {
      "text/plain": [
       "array([     514,      577,      979, ..., 19690784, 19693811, 19695103])"
      ]
     },
     "execution_count": 107,
     "metadata": {},
     "output_type": "execute_result"
    }
   ],
   "source": [
    "inter_neuron.ids({\"afferent_center_x\": (500, 501)})  # in snap only"
   ]
  },
  {
   "cell_type": "markdown",
   "metadata": {},
   "source": [
    "### The edges interface\n",
    "\n",
    "Just like the `nodes` interface, one can use the `edges` interface to perform the `get` and `ids` queries. The only difference with the `nodes` interface are the `CircuitEdgeIds` returned instead of the `CircuitNodeIds`.\n",
    "\n",
    "We will go through the functionalities quickly:"
   ]
  },
  {
   "cell_type": "markdown",
   "metadata": {},
   "source": [
    "Querying all the edge with the `edge_ids` equal to 0 or 1 (from all populations)"
   ]
  },
  {
   "cell_type": "code",
   "execution_count": 108,
   "metadata": {},
   "outputs": [
    {
     "data": {
      "text/plain": [
       "CircuitEdgeIds([(    'hippocampus_neurons__hippocampus_neurons__chemical', 0),\n",
       "            (    'hippocampus_neurons__hippocampus_neurons__chemical', 1),\n",
       "            ('hippocampus_projections__hippocampus_neurons__chemical', 0),\n",
       "            ('hippocampus_projections__hippocampus_neurons__chemical', 1)],\n",
       "           names=['population', 'edge_ids'])"
      ]
     },
     "execution_count": 108,
     "metadata": {},
     "output_type": "execute_result"
    }
   ],
   "source": [
    "snap_circuit.edges.ids([0, 1])         # snap"
   ]
  },
  {
   "cell_type": "markdown",
   "metadata": {},
   "source": [
    "Querying the `n_rrp_vesicles` for all 0 or 1 edge ids:"
   ]
  },
  {
   "cell_type": "code",
   "execution_count": 109,
   "metadata": {},
   "outputs": [
    {
     "name": "stdout",
     "output_type": "stream",
     "text": [
      "Edge population: hippocampus_neurons__hippocampus_neurons__chemical\n",
      "Edge population: hippocampus_projections__hippocampus_neurons__chemical\n"
     ]
    },
    {
     "data": {
      "text/html": [
       "<div>\n",
       "<style scoped>\n",
       "    .dataframe tbody tr th:only-of-type {\n",
       "        vertical-align: middle;\n",
       "    }\n",
       "\n",
       "    .dataframe tbody tr th {\n",
       "        vertical-align: top;\n",
       "    }\n",
       "\n",
       "    .dataframe thead th {\n",
       "        text-align: right;\n",
       "    }\n",
       "</style>\n",
       "<table border=\"1\" class=\"dataframe\">\n",
       "  <thead>\n",
       "    <tr style=\"text-align: right;\">\n",
       "      <th></th>\n",
       "      <th></th>\n",
       "      <th>n_rrp_vesicles</th>\n",
       "    </tr>\n",
       "    <tr>\n",
       "      <th>population</th>\n",
       "      <th>edge_ids</th>\n",
       "      <th></th>\n",
       "    </tr>\n",
       "  </thead>\n",
       "  <tbody>\n",
       "    <tr>\n",
       "      <th rowspan=\"2\" valign=\"top\">hippocampus_neurons__hippocampus_neurons__chemical</th>\n",
       "      <th>0</th>\n",
       "      <td>1</td>\n",
       "    </tr>\n",
       "    <tr>\n",
       "      <th>1</th>\n",
       "      <td>1</td>\n",
       "    </tr>\n",
       "  </tbody>\n",
       "</table>\n",
       "</div>"
      ],
      "text/plain": [
       "                                                             n_rrp_vesicles\n",
       "population                                         edge_ids                \n",
       "hippocampus_neurons__hippocampus_neurons__chemical 0                      1\n",
       "                                                   1                      1"
      ]
     },
     "metadata": {},
     "output_type": "display_data"
    },
    {
     "data": {
      "text/html": [
       "<div>\n",
       "<style scoped>\n",
       "    .dataframe tbody tr th:only-of-type {\n",
       "        vertical-align: middle;\n",
       "    }\n",
       "\n",
       "    .dataframe tbody tr th {\n",
       "        vertical-align: top;\n",
       "    }\n",
       "\n",
       "    .dataframe thead th {\n",
       "        text-align: right;\n",
       "    }\n",
       "</style>\n",
       "<table border=\"1\" class=\"dataframe\">\n",
       "  <thead>\n",
       "    <tr style=\"text-align: right;\">\n",
       "      <th></th>\n",
       "      <th></th>\n",
       "      <th>n_rrp_vesicles</th>\n",
       "    </tr>\n",
       "    <tr>\n",
       "      <th>population</th>\n",
       "      <th>edge_ids</th>\n",
       "      <th></th>\n",
       "    </tr>\n",
       "  </thead>\n",
       "  <tbody>\n",
       "    <tr>\n",
       "      <th rowspan=\"2\" valign=\"top\">hippocampus_projections__hippocampus_neurons__chemical</th>\n",
       "      <th>0</th>\n",
       "      <td>1</td>\n",
       "    </tr>\n",
       "    <tr>\n",
       "      <th>1</th>\n",
       "      <td>1</td>\n",
       "    </tr>\n",
       "  </tbody>\n",
       "</table>\n",
       "</div>"
      ],
      "text/plain": [
       "                                                             n_rrp_vesicles\n",
       "population                                         edge_ids                \n",
       "hippocampus_projections__hippocampus_neurons__c... 0                      1\n",
       "                                                   1                      1"
      ]
     },
     "metadata": {},
     "output_type": "display_data"
    }
   ],
   "source": [
    "for pop_name, df in snap_circuit.edges.get([0, 1], properties=[\"n_rrp_vesicles\"]):     # snap\n",
    "    print(f\"Edge population: {pop_name}\")\n",
    "    display(df)"
   ]
  },
  {
   "cell_type": "markdown",
   "metadata": {},
   "source": [
    "Using the `CircuitEdgeIds` :"
   ]
  },
  {
   "cell_type": "code",
   "execution_count": 110,
   "metadata": {},
   "outputs": [
    {
     "name": "stdout",
     "output_type": "stream",
     "text": [
      "Edge population: hippocampus_neurons__hippocampus_neurons__chemical\n",
      "Edge population: hippocampus_projections__hippocampus_neurons__chemical\n"
     ]
    },
    {
     "data": {
      "text/html": [
       "<div>\n",
       "<style scoped>\n",
       "    .dataframe tbody tr th:only-of-type {\n",
       "        vertical-align: middle;\n",
       "    }\n",
       "\n",
       "    .dataframe tbody tr th {\n",
       "        vertical-align: top;\n",
       "    }\n",
       "\n",
       "    .dataframe thead th {\n",
       "        text-align: right;\n",
       "    }\n",
       "</style>\n",
       "<table border=\"1\" class=\"dataframe\">\n",
       "  <thead>\n",
       "    <tr style=\"text-align: right;\">\n",
       "      <th></th>\n",
       "      <th></th>\n",
       "      <th>n_rrp_vesicles</th>\n",
       "    </tr>\n",
       "    <tr>\n",
       "      <th>population</th>\n",
       "      <th>edge_ids</th>\n",
       "      <th></th>\n",
       "    </tr>\n",
       "  </thead>\n",
       "  <tbody>\n",
       "    <tr>\n",
       "      <th rowspan=\"2\" valign=\"top\">hippocampus_neurons__hippocampus_neurons__chemical</th>\n",
       "      <th>0</th>\n",
       "      <td>1</td>\n",
       "    </tr>\n",
       "    <tr>\n",
       "      <th>1</th>\n",
       "      <td>1</td>\n",
       "    </tr>\n",
       "  </tbody>\n",
       "</table>\n",
       "</div>"
      ],
      "text/plain": [
       "                                                             n_rrp_vesicles\n",
       "population                                         edge_ids                \n",
       "hippocampus_neurons__hippocampus_neurons__chemical 0                      1\n",
       "                                                   1                      1"
      ]
     },
     "metadata": {},
     "output_type": "display_data"
    },
    {
     "data": {
      "text/html": [
       "<div>\n",
       "<style scoped>\n",
       "    .dataframe tbody tr th:only-of-type {\n",
       "        vertical-align: middle;\n",
       "    }\n",
       "\n",
       "    .dataframe tbody tr th {\n",
       "        vertical-align: top;\n",
       "    }\n",
       "\n",
       "    .dataframe thead th {\n",
       "        text-align: right;\n",
       "    }\n",
       "</style>\n",
       "<table border=\"1\" class=\"dataframe\">\n",
       "  <thead>\n",
       "    <tr style=\"text-align: right;\">\n",
       "      <th></th>\n",
       "      <th></th>\n",
       "      <th>n_rrp_vesicles</th>\n",
       "    </tr>\n",
       "    <tr>\n",
       "      <th>population</th>\n",
       "      <th>edge_ids</th>\n",
       "      <th></th>\n",
       "    </tr>\n",
       "  </thead>\n",
       "  <tbody>\n",
       "    <tr>\n",
       "      <th rowspan=\"2\" valign=\"top\">hippocampus_projections__hippocampus_neurons__chemical</th>\n",
       "      <th>7</th>\n",
       "      <td>1</td>\n",
       "    </tr>\n",
       "    <tr>\n",
       "      <th>8</th>\n",
       "      <td>1</td>\n",
       "    </tr>\n",
       "  </tbody>\n",
       "</table>\n",
       "</div>"
      ],
      "text/plain": [
       "                                                             n_rrp_vesicles\n",
       "population                                         edge_ids                \n",
       "hippocampus_projections__hippocampus_neurons__c... 7                      1\n",
       "                                                   8                      1"
      ]
     },
     "metadata": {},
     "output_type": "display_data"
    }
   ],
   "source": [
    "from bluepysnap.circuit_ids import CircuitEdgeIds # snap\n",
    "\n",
    "edge_ids = CircuitEdgeIds.from_dict({\"hippocampus_neurons__hippocampus_neurons__chemical\": [0, 1], \n",
    "                                     \"hippocampus_projections__hippocampus_neurons__chemical\": [7, 8]})\n",
    "for pop_name, df in snap_circuit.edges.get(edge_ids, properties=[\"n_rrp_vesicles\"]): # snap\n",
    "    print(f\"Edge population: {pop_name}\")\n",
    "    display(df)"
   ]
  },
  {
   "cell_type": "markdown",
   "metadata": {},
   "source": [
    "## Simulations\n",
    "\n",
    "Some improvements have also being made in snap about the simulation analyses. We will describe them in this part.\n",
    "\n",
    "\n",
    "First, let's load some simulations:"
   ]
  },
  {
   "cell_type": "code",
   "execution_count": 111,
   "metadata": {},
   "outputs": [],
   "source": [
    "from bluepy import Simulation                       # bluepy\n",
    "blueconfig_path = \"/gpfs/bbp.cscs.ch/project/proj12/NSE/bluepy/circuits/CA1.O1/mooc-circuit/simulations/sonata_report/BlueConfig\"\n",
    "bluepy_sim = Simulation(blueconfig_path)\n",
    "\n",
    "from bluepysnap import Simulation as SnapSimulation   # snap\n",
    "sonata_path = \"/gpfs/bbp.cscs.ch/project/proj12/NSE/bluepy/circuits/CA1.O1/mooc-circuit/simulation_config.json\"\n",
    "snap_sim = SnapSimulation(sonata_path)"
   ]
  },
  {
   "cell_type": "markdown",
   "metadata": {},
   "source": [
    "### Accessing the global simulation properties\n",
    "\n",
    "Just like bluepy, in snap, you can access the different simulation properties. These properties are the simulation starting/ending times and few more for snap.\n",
    "\n",
    "The function to access the global properties from `bluepy` to `snap` becomes :\n",
    "- `t_start` &#8594; `time_start`\n",
    "- `t_end` &#8594; `time_stop`\n",
    "- `targets` &#8594; `node_sets`\n",
    "- `config` stays the same\n",
    "- `circuit`  stays the same\n",
    "- `spikes`  stays the same\n",
    "- `report`  has been reworked\n",
    "\n",
    "\n",
    "Some fields also have been added in `snap`:\n",
    "- `dt` the time step of the simulation\n",
    "- `time_units` the time unit of the simulation\n",
    "- `run` the complete run part of the configuration\n",
    "- `conditions` the conditions used of the simulation\n",
    "- `simulator` the simulator used for the simulation"
   ]
  },
  {
   "cell_type": "code",
   "execution_count": 112,
   "metadata": {},
   "outputs": [],
   "source": [
    "bluepy_sim.t_start         # bluepy\n",
    "snap_sim.time_start        # snap\n",
    "\n",
    "bluepy_sim.t_end           # bluepy\n",
    "snap_sim.time_stop         # snap\n",
    "\n",
    "snap_sim.dt                # snap\n",
    "\n",
    "bluepy_sim.config          # bluepy\n",
    "snap_sim.config            # snap\n",
    "\n",
    "bluepy_sim.circuit         # bluepy\n",
    "snap_sim.circuit;          # snap"
   ]
  },
  {
   "cell_type": "markdown",
   "metadata": {},
   "source": [
    "### Accessing the simulation spike report\n",
    "\n",
    "The spike report contains the data about the spiking neurons from a simulation. In sonata, the reports can contain multiple populations and the reports are split among the different populations in the file. That is, it forces a change in the spike API to introduce the population just like the `edges` or `nodes` API compared to their bluepy counterparts.\n",
    "\n",
    "We can first get the spike report:"
   ]
  },
  {
   "cell_type": "code",
   "execution_count": 113,
   "metadata": {},
   "outputs": [],
   "source": [
    "bluepy_spikes = bluepy_sim.spikes   # bluepy\n",
    "snap_spikes = snap_sim.spikes       # snap"
   ]
  },
  {
   "cell_type": "markdown",
   "metadata": {},
   "source": [
    "We can now inspect which populations a spike report possesses:"
   ]
  },
  {
   "cell_type": "code",
   "execution_count": 114,
   "metadata": {},
   "outputs": [
    {
     "data": {
      "text/plain": [
       "['hippocampus_neurons']"
      ]
     },
     "execution_count": 114,
     "metadata": {},
     "output_type": "execute_result"
    }
   ],
   "source": [
    "snap_spikes.population_names        # snap"
   ]
  },
  {
   "cell_type": "markdown",
   "metadata": {},
   "source": [
    "Since the spike report can use different time start/stop, you can access these properties also at the report level:"
   ]
  },
  {
   "cell_type": "code",
   "execution_count": 115,
   "metadata": {},
   "outputs": [
    {
     "name": "stdout",
     "output_type": "stream",
     "text": [
      "0 1000.0 0.025\n"
     ]
    }
   ],
   "source": [
    "print(snap_spikes.time_start, snap_spikes.time_stop, snap_spikes.dt)   # snap only"
   ]
  },
  {
   "cell_type": "markdown",
   "metadata": {},
   "source": [
    "We can just, like in the `nodes` and `edges` interfaces from the circuit, access the different populations using the bracket accessors `[]`:"
   ]
  },
  {
   "cell_type": "code",
   "execution_count": 116,
   "metadata": {},
   "outputs": [
    {
     "name": "stdout",
     "output_type": "stream",
     "text": [
      "<class 'bluepysnap.spike_report.PopulationSpikeReport'>\n"
     ]
    }
   ],
   "source": [
    "snap_spike_pop = snap_spikes['hippocampus_neurons']   # snap\n",
    "print(type(snap_spike_pop))"
   ]
  },
  {
   "cell_type": "markdown",
   "metadata": {},
   "source": [
    "This `PopulationSpikeReport` class is very similar API wise to the `SpikeReport` of bluepy. Of course, you must consider the classic name swaps from `bluepy` to `snap`:\n",
    "- `gids` &#8594; `node_ids`"
   ]
  },
  {
   "cell_type": "code",
   "execution_count": 117,
   "metadata": {},
   "outputs": [
    {
     "name": "stdout",
     "output_type": "stream",
     "text": [
      "[ 146  278  428  603  670  798  850  966 1007 1121]\n",
      "[ 145  277  427  602  669  797  849  965 1006 1120]\n"
     ]
    }
   ],
   "source": [
    "print(bluepy_spikes.gids[:10])             # bluepy\n",
    "print(snap_spike_pop.node_ids[:10])        # snap"
   ]
  },
  {
   "cell_type": "code",
   "execution_count": 118,
   "metadata": {},
   "outputs": [
    {
     "name": "stdout",
     "output_type": "stream",
     "text": [
      "t\n",
      "164.1    146\n",
      "Name: gid, dtype: int64\n",
      "times\n",
      "164.1    145\n",
      "Name: ids, dtype: int64\n"
     ]
    }
   ],
   "source": [
    "print(bluepy_spikes.get([146]))            # bluepy\n",
    "print(snap_spike_pop.get([145]))           # snap"
   ]
  },
  {
   "cell_type": "markdown",
   "metadata": {},
   "source": [
    "One major difference is the disappearance of the `get_gid` function in snap. This function was redundant with the `get` function with a single gid."
   ]
  },
  {
   "cell_type": "code",
   "execution_count": 119,
   "metadata": {},
   "outputs": [
    {
     "name": "stdout",
     "output_type": "stream",
     "text": [
      "[164.1]\n",
      "[164.1]\n"
     ]
    }
   ],
   "source": [
    "print(bluepy_spikes.get_gid(146))                          # bluepy\n",
    "print(snap_spike_pop.get(145).index.to_numpy())            # snap"
   ]
  },
  {
   "cell_type": "markdown",
   "metadata": {},
   "source": [
    "#### Snap improvements\n",
    "\n",
    "Some major improvements have also been made to the snap API. The main one is the access to the reported node population:"
   ]
  },
  {
   "cell_type": "code",
   "execution_count": 120,
   "metadata": {},
   "outputs": [
    {
     "name": "stdout",
     "output_type": "stream",
     "text": [
      "hippocampus_neurons\n"
     ]
    }
   ],
   "source": [
    "reported_population = snap_spike_pop.nodes       # snap\n",
    "print(reported_population.name)                  # snap"
   ]
  },
  {
   "cell_type": "markdown",
   "metadata": {},
   "source": [
    "Just like `source` and `target` from the `EdgePopulation` this is the real node population you have access here. This means you can perform all your analyses easily. For example, finding the mtypes of all spiking node ids:"
   ]
  },
  {
   "cell_type": "code",
   "execution_count": 121,
   "metadata": {},
   "outputs": [
    {
     "data": {
      "text/plain": [
       "array(['SP_AA', 'SP_Ivy', 'SP_PC', 'SP_PVBC'], dtype=object)"
      ]
     },
     "execution_count": 121,
     "metadata": {},
     "output_type": "execute_result"
    }
   ],
   "source": [
    "np.unique(snap_spike_pop.nodes.get(snap_spike_pop.node_ids, properties=\"mtype\"))"
   ]
  },
  {
   "cell_type": "markdown",
   "metadata": {},
   "source": [
    "This also allows to directly use queries inside the spike `get` function. Hence the more natural API:"
   ]
  },
  {
   "cell_type": "code",
   "execution_count": 122,
   "metadata": {},
   "outputs": [
    {
     "data": {
      "text/plain": [
       "times\n",
       "8.475      17523\n",
       "12.925     17551\n",
       "345.975    17539\n",
       "400.025    17533\n",
       "Name: ids, dtype: int64"
      ]
     },
     "execution_count": 122,
     "metadata": {},
     "output_type": "execute_result"
    }
   ],
   "source": [
    "snap_spike_pop.get({\"mtype\": \"SP_AA\"})  # snap"
   ]
  },
  {
   "cell_type": "markdown",
   "metadata": {},
   "source": [
    "instead of :"
   ]
  },
  {
   "cell_type": "code",
   "execution_count": 123,
   "metadata": {},
   "outputs": [
    {
     "data": {
      "text/plain": [
       "t\n",
       "8.475      17524\n",
       "12.925     17552\n",
       "345.975    17540\n",
       "400.025    17534\n",
       "Name: gid, dtype: int64"
      ]
     },
     "execution_count": 123,
     "metadata": {},
     "output_type": "execute_result"
    }
   ],
   "source": [
    "ids = bluepy_sim.circuit.cells.ids({\"mtype\": \"SP_AA\"})  # bluepy\n",
    "bluepy_spikes.get(ids)"
   ]
  },
  {
   "cell_type": "markdown",
   "metadata": {},
   "source": [
    "If many populations are available in the report you can also use the snap `SpikeReport` interface. This interface acts like the `nodes` and `edges` interfaces. It will combine all the populations together. \n",
    "\n",
    "This interface uses `filter` as a main function: "
   ]
  },
  {
   "cell_type": "code",
   "execution_count": 124,
   "metadata": {},
   "outputs": [
    {
     "data": {
      "text/plain": [
       "bluepysnap.spike_report.FilteredSpikeReport"
      ]
     },
     "execution_count": 124,
     "metadata": {},
     "output_type": "execute_result"
    }
   ],
   "source": [
    "filtered = snap_spikes.filter(group={\"mtype\": \"SP_PC\"}, t_start=0.2, t_stop=300)   # snap\n",
    "type(filtered)"
   ]
  },
  {
   "cell_type": "markdown",
   "metadata": {},
   "source": [
    "`filtered` is a `FilteredSpikeReport` object. This is a lazy cached object containing the queried data. The object is filled only when a call to the `.report` property is made:"
   ]
  },
  {
   "cell_type": "code",
   "execution_count": 125,
   "metadata": {},
   "outputs": [
    {
     "name": "stdout",
     "output_type": "stream",
     "text": [
      "0.2 300\n",
      "           ids           population\n",
      "times                              \n",
      "0.850    11998  hippocampus_neurons\n",
      "1.700     7447  hippocampus_neurons\n",
      "2.150     1006  hippocampus_neurons\n",
      "2.150    11119  hippocampus_neurons\n",
      "2.150    11654  hippocampus_neurons\n",
      "...        ...                  ...\n",
      "247.125   6183  hippocampus_neurons\n",
      "248.200   7608  hippocampus_neurons\n",
      "251.125   8741  hippocampus_neurons\n",
      "264.275   6473  hippocampus_neurons\n",
      "276.800   7245  hippocampus_neurons\n",
      "\n",
      "[177 rows x 2 columns]\n"
     ]
    }
   ],
   "source": [
    "print(filtered.t_start, filtered.t_stop)  # snap, data still not in memory\n",
    "\n",
    "data = filtered.report                    # snap, data filled in memory\n",
    "print(data)"
   ]
  },
  {
   "cell_type": "markdown",
   "metadata": {},
   "source": [
    "The `.report` property is a `pandas.DataFrame` with timestamps as indices and two columns : the `node_ids` and the `populations` for the spikes. \n",
    "\n",
    "If you need, you can recreate a `CircuitNodeIds` from the `.report` using :"
   ]
  },
  {
   "cell_type": "code",
   "execution_count": 126,
   "metadata": {},
   "outputs": [
    {
     "name": "stdout",
     "output_type": "stream",
     "text": [
      "CircuitNodeIds([('hippocampus_neurons',   145),\n",
      "            ('hippocampus_neurons',   277),\n",
      "            ('hippocampus_neurons',   427),\n",
      "            ('hippocampus_neurons',   602),\n",
      "            ('hippocampus_neurons',   669),\n",
      "            ('hippocampus_neurons',   797),\n",
      "            ('hippocampus_neurons',   849),\n",
      "            ('hippocampus_neurons',   965),\n",
      "            ('hippocampus_neurons',  1006),\n",
      "            ('hippocampus_neurons',  1164),\n",
      "            ...\n",
      "            ('hippocampus_neurons', 15950),\n",
      "            ('hippocampus_neurons', 16065),\n",
      "            ('hippocampus_neurons', 16141),\n",
      "            ('hippocampus_neurons', 16284),\n",
      "            ('hippocampus_neurons', 16301),\n",
      "            ('hippocampus_neurons', 16454),\n",
      "            ('hippocampus_neurons', 16470),\n",
      "            ('hippocampus_neurons', 16538),\n",
      "            ('hippocampus_neurons', 16789),\n",
      "            ('hippocampus_neurons', 16854)],\n",
      "           names=['population', 'node_ids'], length=177)\n"
     ]
    }
   ],
   "source": [
    "ids = CircuitNodeIds.from_arrays(data[\"population\"], data[\"ids\"])\n",
    "print(ids)"
   ]
  },
  {
   "cell_type": "markdown",
   "metadata": {},
   "source": [
    "And reuse this directly in the circuit nodes if needed:"
   ]
  },
  {
   "cell_type": "code",
   "execution_count": 127,
   "metadata": {
    "scrolled": true
   },
   "outputs": [
    {
     "name": "stdout",
     "output_type": "stream",
     "text": [
      "Node population: hippocampus_neurons\n"
     ]
    },
    {
     "data": {
      "text/html": [
       "<div>\n",
       "<style scoped>\n",
       "    .dataframe tbody tr th:only-of-type {\n",
       "        vertical-align: middle;\n",
       "    }\n",
       "\n",
       "    .dataframe tbody tr th {\n",
       "        vertical-align: top;\n",
       "    }\n",
       "\n",
       "    .dataframe thead th {\n",
       "        text-align: right;\n",
       "    }\n",
       "</style>\n",
       "<table border=\"1\" class=\"dataframe\">\n",
       "  <thead>\n",
       "    <tr style=\"text-align: right;\">\n",
       "      <th></th>\n",
       "      <th></th>\n",
       "      <th>@dynamics:holding_current</th>\n",
       "      <th>@dynamics:threshold_current</th>\n",
       "      <th>etype</th>\n",
       "      <th>layer</th>\n",
       "      <th>model_template</th>\n",
       "      <th>model_type</th>\n",
       "      <th>morph_class</th>\n",
       "      <th>morphology</th>\n",
       "      <th>mtype</th>\n",
       "      <th>region</th>\n",
       "      <th>rotation_angle_xaxis</th>\n",
       "      <th>rotation_angle_yaxis</th>\n",
       "      <th>rotation_angle_zaxis</th>\n",
       "      <th>synapse_class</th>\n",
       "      <th>x</th>\n",
       "      <th>y</th>\n",
       "      <th>z</th>\n",
       "    </tr>\n",
       "    <tr>\n",
       "      <th>population</th>\n",
       "      <th>node_ids</th>\n",
       "      <th></th>\n",
       "      <th></th>\n",
       "      <th></th>\n",
       "      <th></th>\n",
       "      <th></th>\n",
       "      <th></th>\n",
       "      <th></th>\n",
       "      <th></th>\n",
       "      <th></th>\n",
       "      <th></th>\n",
       "      <th></th>\n",
       "      <th></th>\n",
       "      <th></th>\n",
       "      <th></th>\n",
       "      <th></th>\n",
       "      <th></th>\n",
       "      <th></th>\n",
       "    </tr>\n",
       "  </thead>\n",
       "  <tbody>\n",
       "    <tr>\n",
       "      <th rowspan=\"3\" valign=\"top\">hippocampus_neurons</th>\n",
       "      <th>7636</th>\n",
       "      <td>-0.083050</td>\n",
       "      <td>0.234375</td>\n",
       "      <td>cACpyr</td>\n",
       "      <td>SP</td>\n",
       "      <td>hoc:CA1_pyr_cACpyr_mpg141217_A_idB_2019030511280</td>\n",
       "      <td>biophysical</td>\n",
       "      <td>PYR</td>\n",
       "      <td>dend-051208AM2_axon-mpg141017_a1-2_idC_-_Scale...</td>\n",
       "      <td>SP_PC</td>\n",
       "      <td>mc6;SP</td>\n",
       "      <td>-3.141593</td>\n",
       "      <td>-0.831100</td>\n",
       "      <td>-3.141593</td>\n",
       "      <td>EXC</td>\n",
       "      <td>768.362154</td>\n",
       "      <td>172.751636</td>\n",
       "      <td>1036.020020</td>\n",
       "    </tr>\n",
       "    <tr>\n",
       "      <th>10297</th>\n",
       "      <td>-0.121730</td>\n",
       "      <td>0.283203</td>\n",
       "      <td>cACpyr</td>\n",
       "      <td>SP</td>\n",
       "      <td>hoc:CA1_pyr_cACpyr_mpg141217_A_idB_2019030511280</td>\n",
       "      <td>biophysical</td>\n",
       "      <td>PYR</td>\n",
       "      <td>dend-mpg141216_A_idA_axon-mpg141017_a1-2_idC_-...</td>\n",
       "      <td>SP_PC</td>\n",
       "      <td>mc3;SP</td>\n",
       "      <td>-0.000000</td>\n",
       "      <td>0.934952</td>\n",
       "      <td>-0.000000</td>\n",
       "      <td>EXC</td>\n",
       "      <td>579.918496</td>\n",
       "      <td>204.147297</td>\n",
       "      <td>444.247604</td>\n",
       "    </tr>\n",
       "    <tr>\n",
       "      <th>10447</th>\n",
       "      <td>-0.119277</td>\n",
       "      <td>0.273438</td>\n",
       "      <td>cACpyr</td>\n",
       "      <td>SP</td>\n",
       "      <td>hoc:CA1_pyr_cACpyr_mpg141217_A_idB_2019030511280</td>\n",
       "      <td>biophysical</td>\n",
       "      <td>PYR</td>\n",
       "      <td>dend-mpg141216_A_idA_axon-mpg141017_a1-2_idC_-...</td>\n",
       "      <td>SP_PC</td>\n",
       "      <td>mc3;SP</td>\n",
       "      <td>-0.000000</td>\n",
       "      <td>0.477677</td>\n",
       "      <td>-0.000000</td>\n",
       "      <td>EXC</td>\n",
       "      <td>782.927800</td>\n",
       "      <td>198.061264</td>\n",
       "      <td>536.162335</td>\n",
       "    </tr>\n",
       "  </tbody>\n",
       "</table>\n",
       "</div>"
      ],
      "text/plain": [
       "                              @dynamics:holding_current  \\\n",
       "population          node_ids                              \n",
       "hippocampus_neurons 7636                      -0.083050   \n",
       "                    10297                     -0.121730   \n",
       "                    10447                     -0.119277   \n",
       "\n",
       "                              @dynamics:threshold_current   etype layer  \\\n",
       "population          node_ids                                              \n",
       "hippocampus_neurons 7636                         0.234375  cACpyr    SP   \n",
       "                    10297                        0.283203  cACpyr    SP   \n",
       "                    10447                        0.273438  cACpyr    SP   \n",
       "\n",
       "                                                                model_template  \\\n",
       "population          node_ids                                                     \n",
       "hippocampus_neurons 7636      hoc:CA1_pyr_cACpyr_mpg141217_A_idB_2019030511280   \n",
       "                    10297     hoc:CA1_pyr_cACpyr_mpg141217_A_idB_2019030511280   \n",
       "                    10447     hoc:CA1_pyr_cACpyr_mpg141217_A_idB_2019030511280   \n",
       "\n",
       "                               model_type morph_class  \\\n",
       "population          node_ids                            \n",
       "hippocampus_neurons 7636      biophysical         PYR   \n",
       "                    10297     biophysical         PYR   \n",
       "                    10447     biophysical         PYR   \n",
       "\n",
       "                                                                     morphology  \\\n",
       "population          node_ids                                                      \n",
       "hippocampus_neurons 7636      dend-051208AM2_axon-mpg141017_a1-2_idC_-_Scale...   \n",
       "                    10297     dend-mpg141216_A_idA_axon-mpg141017_a1-2_idC_-...   \n",
       "                    10447     dend-mpg141216_A_idA_axon-mpg141017_a1-2_idC_-...   \n",
       "\n",
       "                              mtype  region  rotation_angle_xaxis  \\\n",
       "population          node_ids                                        \n",
       "hippocampus_neurons 7636      SP_PC  mc6;SP             -3.141593   \n",
       "                    10297     SP_PC  mc3;SP             -0.000000   \n",
       "                    10447     SP_PC  mc3;SP             -0.000000   \n",
       "\n",
       "                              rotation_angle_yaxis  rotation_angle_zaxis  \\\n",
       "population          node_ids                                               \n",
       "hippocampus_neurons 7636                 -0.831100             -3.141593   \n",
       "                    10297                 0.934952             -0.000000   \n",
       "                    10447                 0.477677             -0.000000   \n",
       "\n",
       "                             synapse_class           x           y  \\\n",
       "population          node_ids                                         \n",
       "hippocampus_neurons 7636               EXC  768.362154  172.751636   \n",
       "                    10297              EXC  579.918496  204.147297   \n",
       "                    10447              EXC  782.927800  198.061264   \n",
       "\n",
       "                                        z  \n",
       "population          node_ids               \n",
       "hippocampus_neurons 7636      1036.020020  \n",
       "                    10297      444.247604  \n",
       "                    10447      536.162335  "
      ]
     },
     "metadata": {},
     "output_type": "display_data"
    }
   ],
   "source": [
    "for pop_name, df in snap_spikes.simulation.circuit.nodes.get(ids.sample(3)):\n",
    "    print(f\"Node population: {pop_name}\")\n",
    "    display(df)"
   ]
  },
  {
   "cell_type": "markdown",
   "metadata": {},
   "source": [
    "### Accessing the simulation frame reports\n",
    "\n",
    "The frame reports contain values reported at every time step. The values are usually compartment's voltages of the different neurons but they can contain very different variables. The SONATA frame reports can be read by snap and bluepy.  \n",
    "\n",
    "The way of using the snap FrameReport is very similar to the SpikeReport. We can first check which frame reports are available for your simulation:"
   ]
  },
  {
   "cell_type": "code",
   "execution_count": 128,
   "metadata": {},
   "outputs": [
    {
     "name": "stdout",
     "output_type": "stream",
     "text": [
      "{'soma'}\n",
      "{'soma_report'}\n"
     ]
    }
   ],
   "source": [
    "print(bluepy_sim.report_names)    # bluepy\n",
    "print(set(snap_sim.reports))      # snap"
   ]
  },
  {
   "cell_type": "markdown",
   "metadata": {},
   "source": [
    "You can access the report using :"
   ]
  },
  {
   "cell_type": "code",
   "execution_count": 129,
   "metadata": {},
   "outputs": [],
   "source": [
    "bluepy_report = bluepy_sim.report('soma')         # bluepy\n",
    "snap_report = snap_sim.reports['soma_report']     # snap"
   ]
  },
  {
   "cell_type": "markdown",
   "metadata": {},
   "source": [
    "We can access the time properties of the report using :"
   ]
  },
  {
   "cell_type": "code",
   "execution_count": 130,
   "metadata": {},
   "outputs": [
    {
     "name": "stdout",
     "output_type": "stream",
     "text": [
      "0.0 1000.0 0.1\n",
      "0.0 1000.0 0.1\n"
     ]
    },
    {
     "name": "stderr",
     "output_type": "stream",
     "text": [
      "dt from the report differs from the global simulation dt.\n"
     ]
    }
   ],
   "source": [
    "print(bluepy_report.t_start, bluepy_report.t_end, bluepy_report.t_step)    # bluepy\n",
    "print(snap_report.time_start, snap_report.time_stop, snap_report.dt)       # snap "
   ]
  },
  {
   "cell_type": "markdown",
   "metadata": {},
   "source": [
    "Just like the `SpikeReport`, we changed the naming convention and a warning is now thrown if some of the report time properties are different from the global simulation properties. "
   ]
  },
  {
   "cell_type": "markdown",
   "metadata": {},
   "source": [
    "Just like the spike report, we can now inspect which node populations has been reported in a frame report. This API is also consistent with the `nodes` or `edges` interface from the circuit:"
   ]
  },
  {
   "cell_type": "code",
   "execution_count": 131,
   "metadata": {},
   "outputs": [
    {
     "data": {
      "text/plain": [
       "['hippocampus_neurons']"
      ]
     },
     "execution_count": 131,
     "metadata": {},
     "output_type": "execute_result"
    }
   ],
   "source": [
    "snap_report.population_names        # snap"
   ]
  },
  {
   "cell_type": "markdown",
   "metadata": {},
   "source": [
    "We can now access the different populations using the bracket accessor:"
   ]
  },
  {
   "cell_type": "code",
   "execution_count": 132,
   "metadata": {},
   "outputs": [
    {
     "name": "stdout",
     "output_type": "stream",
     "text": [
      "<class 'bluepysnap.frame_report.PopulationSomaReport'>\n"
     ]
    }
   ],
   "source": [
    "snap_report_pop = snap_report['hippocampus_neurons']   # snap\n",
    "print(type(snap_report_pop))"
   ]
  },
  {
   "cell_type": "markdown",
   "metadata": {},
   "source": [
    "As you can see the report is automatically interpreted as a soma report."
   ]
  },
  {
   "cell_type": "markdown",
   "metadata": {},
   "source": [
    "This `PopulationSomaReport` class is very similar API wise to the `SomaReport` of bluepy. You must just consider the classic name swaps from `bluepy` to `snap`:\n",
    "- `gids` &#8594; `node_ids`\n",
    "- `t_start` &#8594; `time_start`\n",
    "- `t_end` &#8594; `time_stop`"
   ]
  },
  {
   "cell_type": "code",
   "execution_count": 133,
   "metadata": {},
   "outputs": [
    {
     "name": "stdout",
     "output_type": "stream",
     "text": [
      "[    1     2     3 ... 18196 18197 18198]\n",
      "[    0     1     2 ... 18195 18196 18197]\n"
     ]
    }
   ],
   "source": [
    "print(np.sort(bluepy_report.gids))     # bluepy\n",
    "print(snap_report_pop.node_ids)        # snap"
   ]
  },
  {
   "cell_type": "markdown",
   "metadata": {},
   "source": [
    "The node_ids are now sorted automatically :"
   ]
  },
  {
   "cell_type": "code",
   "execution_count": 134,
   "metadata": {},
   "outputs": [
    {
     "name": "stdout",
     "output_type": "stream",
     "text": [
      "gid         146\n",
      "time           \n",
      "0.2  -61.167233\n",
      "0.3  -61.430130\n",
      "0.4  -61.654060\n",
      "0.5  -61.854221\n",
      "0.6  -62.038902\n",
      "0.7  -62.213039\n",
      "0.8  -62.379738\n",
      "0.9  -62.541008\n",
      "           145\n",
      "0.2 -61.167233\n",
      "0.3 -61.430130\n",
      "0.4 -61.654060\n",
      "0.5 -61.854221\n",
      "0.6 -62.038902\n",
      "0.7 -62.213039\n",
      "0.8 -62.379738\n",
      "0.9 -62.541008\n",
      "1.0 -62.698196\n"
     ]
    }
   ],
   "source": [
    "print(bluepy_report.get(gids=[146], t_start=0.2, t_end=1))      # bluepy\n",
    "print(snap_report_pop.get(group=[145], t_start=0.2, t_stop=1))  # snap"
   ]
  },
  {
   "cell_type": "markdown",
   "metadata": {},
   "source": [
    "We can note that the returned values does not exclude the `t_stop`. In bluepy this behavior has been forced due to brion behavior and we did not propagated it to snap."
   ]
  },
  {
   "cell_type": "markdown",
   "metadata": {},
   "source": [
    "Again we removed the `get_gid` function. This function was totally equivalent to the `get` function with a single gid."
   ]
  },
  {
   "cell_type": "code",
   "execution_count": 135,
   "metadata": {},
   "outputs": [
    {
     "name": "stdout",
     "output_type": "stream",
     "text": [
      "time\n",
      "0.2   -61.167233\n",
      "0.3   -61.430130\n",
      "0.4   -61.654060\n",
      "0.5   -61.854221\n",
      "0.6   -62.038902\n",
      "0.7   -62.213039\n",
      "0.8   -62.379738\n",
      "0.9   -62.541008\n",
      "Name: 146, dtype: float32\n",
      "           145\n",
      "0.2 -61.167233\n",
      "0.3 -61.430130\n",
      "0.4 -61.654060\n",
      "0.5 -61.854221\n",
      "0.6 -62.038902\n",
      "0.7 -62.213039\n",
      "0.8 -62.379738\n",
      "0.9 -62.541008\n",
      "1.0 -62.698196\n"
     ]
    }
   ],
   "source": [
    "print(bluepy_report.get_gid(146, t_start=0.2, t_end=1))    # bluepy\n",
    "print(snap_report_pop.get(145, t_start=0.2, t_stop=1))     # snap"
   ]
  },
  {
   "cell_type": "markdown",
   "metadata": {},
   "source": [
    "#### Snap improvements\n",
    "\n",
    "The improvements are really similar to the spike report ones:"
   ]
  },
  {
   "cell_type": "code",
   "execution_count": 136,
   "metadata": {},
   "outputs": [
    {
     "data": {
      "text/html": [
       "<div>\n",
       "<style scoped>\n",
       "    .dataframe tbody tr th:only-of-type {\n",
       "        vertical-align: middle;\n",
       "    }\n",
       "\n",
       "    .dataframe tbody tr th {\n",
       "        vertical-align: top;\n",
       "    }\n",
       "\n",
       "    .dataframe thead th {\n",
       "        text-align: right;\n",
       "    }\n",
       "</style>\n",
       "<table border=\"1\" class=\"dataframe\">\n",
       "  <thead>\n",
       "    <tr style=\"text-align: right;\">\n",
       "      <th></th>\n",
       "      <th>0</th>\n",
       "      <th>1</th>\n",
       "      <th>2</th>\n",
       "    </tr>\n",
       "  </thead>\n",
       "  <tbody>\n",
       "    <tr>\n",
       "      <th>0.2</th>\n",
       "      <td>-63.282787</td>\n",
       "      <td>-63.282787</td>\n",
       "      <td>-63.282787</td>\n",
       "    </tr>\n",
       "    <tr>\n",
       "      <th>0.3</th>\n",
       "      <td>-65.348892</td>\n",
       "      <td>-65.348892</td>\n",
       "      <td>-65.348892</td>\n",
       "    </tr>\n",
       "    <tr>\n",
       "      <th>0.4</th>\n",
       "      <td>-67.169914</td>\n",
       "      <td>-67.169914</td>\n",
       "      <td>-67.169914</td>\n",
       "    </tr>\n",
       "    <tr>\n",
       "      <th>0.5</th>\n",
       "      <td>-68.794609</td>\n",
       "      <td>-68.794609</td>\n",
       "      <td>-68.794609</td>\n",
       "    </tr>\n",
       "    <tr>\n",
       "      <th>0.6</th>\n",
       "      <td>-70.258591</td>\n",
       "      <td>-70.258591</td>\n",
       "      <td>-70.258591</td>\n",
       "    </tr>\n",
       "    <tr>\n",
       "      <th>0.7</th>\n",
       "      <td>-71.588539</td>\n",
       "      <td>-71.588539</td>\n",
       "      <td>-71.588539</td>\n",
       "    </tr>\n",
       "    <tr>\n",
       "      <th>0.8</th>\n",
       "      <td>-72.804840</td>\n",
       "      <td>-72.804840</td>\n",
       "      <td>-72.804840</td>\n",
       "    </tr>\n",
       "    <tr>\n",
       "      <th>0.9</th>\n",
       "      <td>-73.923378</td>\n",
       "      <td>-73.923378</td>\n",
       "      <td>-73.923378</td>\n",
       "    </tr>\n",
       "    <tr>\n",
       "      <th>1.0</th>\n",
       "      <td>-74.956718</td>\n",
       "      <td>-74.956718</td>\n",
       "      <td>-74.956718</td>\n",
       "    </tr>\n",
       "  </tbody>\n",
       "</table>\n",
       "</div>"
      ],
      "text/plain": [
       "             0          1          2\n",
       "0.2 -63.282787 -63.282787 -63.282787\n",
       "0.3 -65.348892 -65.348892 -65.348892\n",
       "0.4 -67.169914 -67.169914 -67.169914\n",
       "0.5 -68.794609 -68.794609 -68.794609\n",
       "0.6 -70.258591 -70.258591 -70.258591\n",
       "0.7 -71.588539 -71.588539 -71.588539\n",
       "0.8 -72.804840 -72.804840 -72.804840\n",
       "0.9 -73.923378 -73.923378 -73.923378\n",
       "1.0 -74.956718 -74.956718 -74.956718"
      ]
     },
     "execution_count": 136,
     "metadata": {},
     "output_type": "execute_result"
    }
   ],
   "source": [
    "ids = bluepy_sim.circuit.cells.ids({\"mtype\": \"SLM_PPA\"})               # bluepy\n",
    "bluepy_report.get(gids=ids, t_start=0.2, t_end=1)                      # bluepy\n",
    "# becomes:\n",
    "snap_report_pop.get({\"mtype\": \"SLM_PPA\"},  t_start=0.2, t_stop=1)      # snap"
   ]
  },
  {
   "cell_type": "markdown",
   "metadata": {},
   "source": [
    "You can also perform the filters on the data :"
   ]
  },
  {
   "cell_type": "code",
   "execution_count": 137,
   "metadata": {},
   "outputs": [],
   "source": [
    "filtered = snap_report.filter(group={\"mtype\": \"SLM_PPA\"}, t_start=0.2, t_stop=1)"
   ]
  },
  {
   "cell_type": "markdown",
   "metadata": {},
   "source": [
    "This object is very convenient for plotting because you can easily access the data frame and the time properties from a single object:"
   ]
  },
  {
   "cell_type": "code",
   "execution_count": 138,
   "metadata": {},
   "outputs": [
    {
     "data": {
      "text/html": [
       "<div>\n",
       "<style scoped>\n",
       "    .dataframe tbody tr th:only-of-type {\n",
       "        vertical-align: middle;\n",
       "    }\n",
       "\n",
       "    .dataframe tbody tr th {\n",
       "        vertical-align: top;\n",
       "    }\n",
       "\n",
       "    .dataframe thead tr th {\n",
       "        text-align: left;\n",
       "    }\n",
       "</style>\n",
       "<table border=\"1\" class=\"dataframe\">\n",
       "  <thead>\n",
       "    <tr>\n",
       "      <th></th>\n",
       "      <th colspan=\"3\" halign=\"left\">hippocampus_neurons</th>\n",
       "    </tr>\n",
       "    <tr>\n",
       "      <th></th>\n",
       "      <th>0</th>\n",
       "      <th>1</th>\n",
       "      <th>2</th>\n",
       "    </tr>\n",
       "  </thead>\n",
       "  <tbody>\n",
       "    <tr>\n",
       "      <th>0.2</th>\n",
       "      <td>-63.282787</td>\n",
       "      <td>-63.282787</td>\n",
       "      <td>-63.282787</td>\n",
       "    </tr>\n",
       "    <tr>\n",
       "      <th>0.3</th>\n",
       "      <td>-65.348892</td>\n",
       "      <td>-65.348892</td>\n",
       "      <td>-65.348892</td>\n",
       "    </tr>\n",
       "    <tr>\n",
       "      <th>0.4</th>\n",
       "      <td>-67.169914</td>\n",
       "      <td>-67.169914</td>\n",
       "      <td>-67.169914</td>\n",
       "    </tr>\n",
       "    <tr>\n",
       "      <th>0.5</th>\n",
       "      <td>-68.794609</td>\n",
       "      <td>-68.794609</td>\n",
       "      <td>-68.794609</td>\n",
       "    </tr>\n",
       "    <tr>\n",
       "      <th>0.6</th>\n",
       "      <td>-70.258591</td>\n",
       "      <td>-70.258591</td>\n",
       "      <td>-70.258591</td>\n",
       "    </tr>\n",
       "    <tr>\n",
       "      <th>0.7</th>\n",
       "      <td>-71.588539</td>\n",
       "      <td>-71.588539</td>\n",
       "      <td>-71.588539</td>\n",
       "    </tr>\n",
       "    <tr>\n",
       "      <th>0.8</th>\n",
       "      <td>-72.804840</td>\n",
       "      <td>-72.804840</td>\n",
       "      <td>-72.804840</td>\n",
       "    </tr>\n",
       "    <tr>\n",
       "      <th>0.9</th>\n",
       "      <td>-73.923378</td>\n",
       "      <td>-73.923378</td>\n",
       "      <td>-73.923378</td>\n",
       "    </tr>\n",
       "    <tr>\n",
       "      <th>1.0</th>\n",
       "      <td>-74.956718</td>\n",
       "      <td>-74.956718</td>\n",
       "      <td>-74.956718</td>\n",
       "    </tr>\n",
       "  </tbody>\n",
       "</table>\n",
       "</div>"
      ],
      "text/plain": [
       "    hippocampus_neurons                      \n",
       "                      0          1          2\n",
       "0.2          -63.282787 -63.282787 -63.282787\n",
       "0.3          -65.348892 -65.348892 -65.348892\n",
       "0.4          -67.169914 -67.169914 -67.169914\n",
       "0.5          -68.794609 -68.794609 -68.794609\n",
       "0.6          -70.258591 -70.258591 -70.258591\n",
       "0.7          -71.588539 -71.588539 -71.588539\n",
       "0.8          -72.804840 -72.804840 -72.804840\n",
       "0.9          -73.923378 -73.923378 -73.923378\n",
       "1.0          -74.956718 -74.956718 -74.956718"
      ]
     },
     "execution_count": 138,
     "metadata": {},
     "output_type": "execute_result"
    }
   ],
   "source": [
    "filtered.report"
   ]
  },
  {
   "cell_type": "markdown",
   "metadata": {},
   "source": [
    "The data is a `pandas.DataFrame` with the timestamps as line index and a  `pandas.MultiIndex` as column index corresponding to a `CircuitNodeIds`.\n",
    "\n",
    "This allows you to do analyses like:"
   ]
  },
  {
   "cell_type": "code",
   "execution_count": 139,
   "metadata": {},
   "outputs": [
    {
     "name": "stdout",
     "output_type": "stream",
     "text": [
      "Node population: <bluepysnap.nodes.node_population.NodePopulation object at 0x2aab5adeca10>\n"
     ]
    },
    {
     "data": {
      "text/html": [
       "<div>\n",
       "<style scoped>\n",
       "    .dataframe tbody tr th:only-of-type {\n",
       "        vertical-align: middle;\n",
       "    }\n",
       "\n",
       "    .dataframe tbody tr th {\n",
       "        vertical-align: top;\n",
       "    }\n",
       "\n",
       "    .dataframe thead th {\n",
       "        text-align: right;\n",
       "    }\n",
       "</style>\n",
       "<table border=\"1\" class=\"dataframe\">\n",
       "  <thead>\n",
       "    <tr style=\"text-align: right;\">\n",
       "      <th></th>\n",
       "      <th></th>\n",
       "      <th>@dynamics:holding_current</th>\n",
       "      <th>@dynamics:threshold_current</th>\n",
       "      <th>etype</th>\n",
       "      <th>layer</th>\n",
       "      <th>model_template</th>\n",
       "      <th>model_type</th>\n",
       "      <th>morph_class</th>\n",
       "      <th>morphology</th>\n",
       "      <th>mtype</th>\n",
       "      <th>region</th>\n",
       "      <th>rotation_angle_xaxis</th>\n",
       "      <th>rotation_angle_yaxis</th>\n",
       "      <th>rotation_angle_zaxis</th>\n",
       "      <th>synapse_class</th>\n",
       "      <th>x</th>\n",
       "      <th>y</th>\n",
       "      <th>z</th>\n",
       "    </tr>\n",
       "    <tr>\n",
       "      <th>population</th>\n",
       "      <th>node_ids</th>\n",
       "      <th></th>\n",
       "      <th></th>\n",
       "      <th></th>\n",
       "      <th></th>\n",
       "      <th></th>\n",
       "      <th></th>\n",
       "      <th></th>\n",
       "      <th></th>\n",
       "      <th></th>\n",
       "      <th></th>\n",
       "      <th></th>\n",
       "      <th></th>\n",
       "      <th></th>\n",
       "      <th></th>\n",
       "      <th></th>\n",
       "      <th></th>\n",
       "      <th></th>\n",
       "    </tr>\n",
       "  </thead>\n",
       "  <tbody>\n",
       "    <tr>\n",
       "      <th rowspan=\"3\" valign=\"top\">hippocampus_neurons</th>\n",
       "      <th>0</th>\n",
       "      <td>0.028962</td>\n",
       "      <td>0.224609</td>\n",
       "      <td>bAC</td>\n",
       "      <td>SLM</td>\n",
       "      <td>hoc:CA1_int_bAC_011127HP1_2019032911561</td>\n",
       "      <td>biophysical</td>\n",
       "      <td>INT</td>\n",
       "      <td>011127HP1_-_Scale_x1.000_y0.850_z1.000</td>\n",
       "      <td>SLM_PPA</td>\n",
       "      <td>mc5;SLM</td>\n",
       "      <td>-0.000000</td>\n",
       "      <td>0.306704</td>\n",
       "      <td>-0.000000</td>\n",
       "      <td>INH</td>\n",
       "      <td>409.446689</td>\n",
       "      <td>525.218483</td>\n",
       "      <td>1074.146619</td>\n",
       "    </tr>\n",
       "    <tr>\n",
       "      <th>1</th>\n",
       "      <td>0.028962</td>\n",
       "      <td>0.224609</td>\n",
       "      <td>bAC</td>\n",
       "      <td>SLM</td>\n",
       "      <td>hoc:CA1_int_bAC_011127HP1_2019032911561</td>\n",
       "      <td>biophysical</td>\n",
       "      <td>INT</td>\n",
       "      <td>011127HP1_-_Scale_x1.000_y0.850_z1.000</td>\n",
       "      <td>SLM_PPA</td>\n",
       "      <td>mc3;SLM</td>\n",
       "      <td>-3.141593</td>\n",
       "      <td>1.051681</td>\n",
       "      <td>-3.141593</td>\n",
       "      <td>INH</td>\n",
       "      <td>692.961402</td>\n",
       "      <td>511.187277</td>\n",
       "      <td>573.179832</td>\n",
       "    </tr>\n",
       "    <tr>\n",
       "      <th>2</th>\n",
       "      <td>0.028962</td>\n",
       "      <td>0.224609</td>\n",
       "      <td>bAC</td>\n",
       "      <td>SLM</td>\n",
       "      <td>hoc:CA1_int_bAC_011127HP1_2019032911561</td>\n",
       "      <td>biophysical</td>\n",
       "      <td>INT</td>\n",
       "      <td>011127HP1_-_Scale_x1.000_y0.850_z1.000</td>\n",
       "      <td>SLM_PPA</td>\n",
       "      <td>mc6;SLM</td>\n",
       "      <td>-3.141593</td>\n",
       "      <td>1.393882</td>\n",
       "      <td>-3.141593</td>\n",
       "      <td>INH</td>\n",
       "      <td>624.142630</td>\n",
       "      <td>520.641475</td>\n",
       "      <td>976.924721</td>\n",
       "    </tr>\n",
       "  </tbody>\n",
       "</table>\n",
       "</div>"
      ],
      "text/plain": [
       "                              @dynamics:holding_current  \\\n",
       "population          node_ids                              \n",
       "hippocampus_neurons 0                          0.028962   \n",
       "                    1                          0.028962   \n",
       "                    2                          0.028962   \n",
       "\n",
       "                              @dynamics:threshold_current etype layer  \\\n",
       "population          node_ids                                            \n",
       "hippocampus_neurons 0                            0.224609   bAC   SLM   \n",
       "                    1                            0.224609   bAC   SLM   \n",
       "                    2                            0.224609   bAC   SLM   \n",
       "\n",
       "                                                       model_template  \\\n",
       "population          node_ids                                            \n",
       "hippocampus_neurons 0         hoc:CA1_int_bAC_011127HP1_2019032911561   \n",
       "                    1         hoc:CA1_int_bAC_011127HP1_2019032911561   \n",
       "                    2         hoc:CA1_int_bAC_011127HP1_2019032911561   \n",
       "\n",
       "                               model_type morph_class  \\\n",
       "population          node_ids                            \n",
       "hippocampus_neurons 0         biophysical         INT   \n",
       "                    1         biophysical         INT   \n",
       "                    2         biophysical         INT   \n",
       "\n",
       "                                                          morphology    mtype  \\\n",
       "population          node_ids                                                    \n",
       "hippocampus_neurons 0         011127HP1_-_Scale_x1.000_y0.850_z1.000  SLM_PPA   \n",
       "                    1         011127HP1_-_Scale_x1.000_y0.850_z1.000  SLM_PPA   \n",
       "                    2         011127HP1_-_Scale_x1.000_y0.850_z1.000  SLM_PPA   \n",
       "\n",
       "                               region  rotation_angle_xaxis  \\\n",
       "population          node_ids                                  \n",
       "hippocampus_neurons 0         mc5;SLM             -0.000000   \n",
       "                    1         mc3;SLM             -3.141593   \n",
       "                    2         mc6;SLM             -3.141593   \n",
       "\n",
       "                              rotation_angle_yaxis  rotation_angle_zaxis  \\\n",
       "population          node_ids                                               \n",
       "hippocampus_neurons 0                     0.306704             -0.000000   \n",
       "                    1                     1.051681             -3.141593   \n",
       "                    2                     1.393882             -3.141593   \n",
       "\n",
       "                             synapse_class           x           y  \\\n",
       "population          node_ids                                         \n",
       "hippocampus_neurons 0                  INH  409.446689  525.218483   \n",
       "                    1                  INH  692.961402  511.187277   \n",
       "                    2                  INH  624.142630  520.641475   \n",
       "\n",
       "                                        z  \n",
       "population          node_ids               \n",
       "hippocampus_neurons 0         1074.146619  \n",
       "                    1          573.179832  \n",
       "                    2          976.924721  "
      ]
     },
     "metadata": {},
     "output_type": "display_data"
    }
   ],
   "source": [
    "for pop_name, df in snap_circuit.nodes.get(CircuitNodeIds(filtered.report.columns)):\n",
    "    print(f\"Node population: {node_pop}\")\n",
    "    display(df)"
   ]
  },
  {
   "cell_type": "markdown",
   "metadata": {},
   "source": [
    "The filtered object acts on all the populations. That means if you have reports on many different populations inside the same report file, the code above will still work and select the correct node_ids from the correct populations. "
   ]
  },
  {
   "cell_type": "markdown",
   "metadata": {},
   "source": [
    "### Plotting with snap\n",
    "\n",
    "With the addition of the filtered objects in snap, we managed to improved the plotting. The main change is that the plotting is now called from a filtered object instead of the full simulation. This brings a lot of notable advantages:\n",
    "- The plot API is less convoluted. The number of arguments for each function decreased. \n",
    "- The plot and the data retrieval are clearly separated.\n",
    "- The plot functions are more clearly exposed. The plot function are called directly on the data object.\n",
    "- The data are always cached first. So if you want to call different plots on the same data you will not have to reload the data\n",
    "\n",
    "Even if at first glance the API looks more verbose, the different parts of the plot creation are much clearer now and efficient."
   ]
  },
  {
   "cell_type": "code",
   "execution_count": 140,
   "metadata": {},
   "outputs": [
    {
     "data": {
      "image/png": "[encoded data removed]",
      "text/plain": [
       "<Figure size 640x480 with 1 Axes>"
      ]
     },
     "metadata": {},
     "output_type": "display_data"
    }
   ],
   "source": [
    "bluepy_sim.plot.raster(sample=18000, t_start=0.0, t_end=1000);        # bluepy"
   ]
  },
  {
   "cell_type": "code",
   "execution_count": 141,
   "metadata": {},
   "outputs": [
    {
     "data": {
      "image/png": "[encoded data removed]",
      "text/plain": [
       "<Figure size 640x480 with 1 Axes>"
      ]
     },
     "metadata": {},
     "output_type": "display_data"
    }
   ],
   "source": [
    "sample = snap_spikes.simulation.circuit.nodes.ids().sample(18000)      # snap, id selection\n",
    "filtered = snap_spikes.filter(group=sample, t_start=0.0, t_stop=1000)  # snap, data collection\n",
    "filtered.raster();                                                     # snap, plotting"
   ]
  },
  {
   "cell_type": "markdown",
   "metadata": {},
   "source": [
    "The great advantage here is the possibility to call all the other plotting functions without reloading the data from disk:\n"
   ]
  },
  {
   "cell_type": "code",
   "execution_count": 142,
   "metadata": {},
   "outputs": [
    {
     "data": {
      "image/png": "[encoded data removed]",
      "text/plain": [
       "<Figure size 640x480 with 1 Axes>"
      ]
     },
     "metadata": {},
     "output_type": "display_data"
    }
   ],
   "source": [
    "filtered.isi();                                                        # snap"
   ]
  },
  {
   "cell_type": "markdown",
   "metadata": {},
   "source": [
    "This one above is not super nice due to the simulation itself. It comes from a CA1 Simulation and CA1 is quite silent."
   ]
  },
  {
   "cell_type": "code",
   "execution_count": 143,
   "metadata": {},
   "outputs": [
    {
     "data": {
      "image/png": "[encoded data removed]",
      "text/plain": [
       "<Figure size 640x480 with 1 Axes>"
      ]
     },
     "metadata": {},
     "output_type": "display_data"
    }
   ],
   "source": [
    "filtered.firing_rate_histogram();                                      # snap"
   ]
  },
  {
   "cell_type": "markdown",
   "metadata": {},
   "source": [
    "In the 3 cells above, only the plotting part is run and not the data retrieval. While in bluepy, the data are re-collected for all plots which leads to much worse performances.\n",
    "\n",
    "\n",
    "Plus, in snap, you can recheck the properties of your input data afterwards:"
   ]
  },
  {
   "cell_type": "code",
   "execution_count": 144,
   "metadata": {},
   "outputs": [],
   "source": [
    "filtered.t_start, filtered.t_stop, filtered.group;                     # snap\n",
    "filtered.report;"
   ]
  },
  {
   "cell_type": "markdown",
   "metadata": {},
   "source": [
    "We also improved some of the plotting functions and removed the complex ones. The raster can now be used to project the spikes on any variables :\n"
   ]
  },
  {
   "cell_type": "code",
   "execution_count": 145,
   "metadata": {},
   "outputs": [
    {
     "data": {
      "image/png": "[encoded data removed]",
      "text/plain": [
       "<Figure size 640x480 with 1 Axes>"
      ]
     },
     "metadata": {},
     "output_type": "display_data"
    }
   ],
   "source": [
    "filtered.raster(y_axis=\"mtype\");"
   ]
  },
  {
   "cell_type": "code",
   "execution_count": 146,
   "metadata": {},
   "outputs": [
    {
     "data": {
      "image/png": "[encoded data removed]",
      "text/plain": [
       "<Figure size 640x480 with 1 Axes>"
      ]
     },
     "metadata": {},
     "output_type": "display_data"
    }
   ],
   "source": [
    "filtered.raster(y_axis=\"etype\");                                       # snap"
   ]
  },
  {
   "cell_type": "code",
   "execution_count": 147,
   "metadata": {},
   "outputs": [
    {
     "data": {
      "image/png": "[encoded data removed]",
      "text/plain": [
       "<Figure size 640x480 with 1 Axes>"
      ]
     },
     "metadata": {},
     "output_type": "display_data"
    }
   ],
   "source": [
    "filtered.raster(y_axis=\"y\");                                           # snap "
   ]
  },
  {
   "cell_type": "markdown",
   "metadata": {},
   "source": [
    "#### Plots on reports\n",
    "\n",
    "The same has been done for the plots on reports :"
   ]
  },
  {
   "cell_type": "code",
   "execution_count": 148,
   "metadata": {},
   "outputs": [
    {
     "data": {
      "image/png": "[encoded data removed]",
      "text/plain": [
       "<Figure size 640x480 with 1 Axes>"
      ]
     },
     "metadata": {},
     "output_type": "display_data"
    }
   ],
   "source": [
    "filtered = snap_report.filter(group={\"mtype\": \"SLM_PPA\"}, t_start=0, t_stop=100)    # snap\n",
    "filtered.trace();                                                                   # snap"
   ]
  },
  {
   "cell_type": "code",
   "execution_count": 149,
   "metadata": {},
   "outputs": [
    {
     "data": {
      "image/png": "[encoded data removed]",
      "text/plain": [
       "<Figure size 640x480 with 1 Axes>"
      ]
     },
     "metadata": {},
     "output_type": "display_data"
    }
   ],
   "source": [
    "filtered.trace(plot_type=\"all\");                    #  snap, this one will be instantaneously plotted  "
   ]
  }
 ],
 "metadata": {
  "kernelspec": {
   "display_name": "Python 3 (ipykernel)",
   "language": "python",
   "name": "python3"
  },
  "language_info": {
   "codemirror_mode": {
    "name": "ipython",
    "version": 3
   },
   "file_extension": ".py",
   "mimetype": "text/x-python",
   "name": "python",
   "nbconvert_exporter": "python",
   "pygments_lexer": "ipython3",
   "version": "3.11.6"
  }
 },
 "nbformat": 4,
 "nbformat_minor": 4
}
